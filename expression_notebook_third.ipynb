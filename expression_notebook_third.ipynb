{
  "cells": [
    {
      "cell_type": "markdown",
      "metadata": {
        "id": "view-in-github",
        "colab_type": "text"
      },
      "source": [
        "<a href=\"https://colab.research.google.com/github/arazm21/ML-homework_4/blob/main/expression_notebook_third.ipynb\" target=\"_parent\"><img src=\"https://colab.research.google.com/assets/colab-badge.svg\" alt=\"Open In Colab\"/></a>"
      ]
    },
    {
      "cell_type": "markdown",
      "source": [
        "# loading the data and organising it"
      ],
      "metadata": {
        "id": "ShlkPaeoBQ3k"
      },
      "id": "ShlkPaeoBQ3k"
    },
    {
      "cell_type": "code",
      "source": [
        "! pip install kaggle\n",
        "from google.colab import drive\n",
        "drive.mount('/content/drive')\n",
        "! mkdir ~/.kaggle\n",
        "!cp /content/drive/MyDrive/ColabNotebooks/kaggle_API_credentials/kaggle.json ~/.kaggle/kaggle.json\n",
        "! chmod 600 ~/.kaggle/kaggle.json\n",
        "! kaggle competitions download -c challenges-in-representation-learning-facial-expression-recognition-challenge\n",
        "! unzip challenges-in-representation-learning-facial-expression-recognition-challenge"
      ],
      "metadata": {
        "collapsed": true,
        "colab": {
          "base_uri": "https://localhost:8080/"
        },
        "id": "dNNvBwljBQFE",
        "outputId": "f7f917d3-ac98-4594-badb-eb30164073e9"
      },
      "id": "dNNvBwljBQFE",
      "execution_count": 1,
      "outputs": [
        {
          "output_type": "stream",
          "name": "stdout",
          "text": [
            "Requirement already satisfied: kaggle in /usr/local/lib/python3.11/dist-packages (1.7.4.5)\n",
            "Requirement already satisfied: bleach in /usr/local/lib/python3.11/dist-packages (from kaggle) (6.2.0)\n",
            "Requirement already satisfied: certifi>=14.05.14 in /usr/local/lib/python3.11/dist-packages (from kaggle) (2025.4.26)\n",
            "Requirement already satisfied: charset-normalizer in /usr/local/lib/python3.11/dist-packages (from kaggle) (3.4.2)\n",
            "Requirement already satisfied: idna in /usr/local/lib/python3.11/dist-packages (from kaggle) (3.10)\n",
            "Requirement already satisfied: protobuf in /usr/local/lib/python3.11/dist-packages (from kaggle) (5.29.4)\n",
            "Requirement already satisfied: python-dateutil>=2.5.3 in /usr/local/lib/python3.11/dist-packages (from kaggle) (2.9.0.post0)\n",
            "Requirement already satisfied: python-slugify in /usr/local/lib/python3.11/dist-packages (from kaggle) (8.0.4)\n",
            "Requirement already satisfied: requests in /usr/local/lib/python3.11/dist-packages (from kaggle) (2.32.3)\n",
            "Requirement already satisfied: setuptools>=21.0.0 in /usr/local/lib/python3.11/dist-packages (from kaggle) (75.2.0)\n",
            "Requirement already satisfied: six>=1.10 in /usr/local/lib/python3.11/dist-packages (from kaggle) (1.17.0)\n",
            "Requirement already satisfied: text-unidecode in /usr/local/lib/python3.11/dist-packages (from kaggle) (1.3)\n",
            "Requirement already satisfied: tqdm in /usr/local/lib/python3.11/dist-packages (from kaggle) (4.67.1)\n",
            "Requirement already satisfied: urllib3>=1.15.1 in /usr/local/lib/python3.11/dist-packages (from kaggle) (2.4.0)\n",
            "Requirement already satisfied: webencodings in /usr/local/lib/python3.11/dist-packages (from kaggle) (0.5.1)\n",
            "Mounted at /content/drive\n",
            "Downloading challenges-in-representation-learning-facial-expression-recognition-challenge.zip to /content\n",
            " 84% 241M/285M [00:05<00:01, 40.6MB/s]\n",
            "100% 285M/285M [00:05<00:00, 54.7MB/s]\n",
            "Archive:  challenges-in-representation-learning-facial-expression-recognition-challenge.zip\n",
            "  inflating: example_submission.csv  \n",
            "  inflating: fer2013.tar.gz          \n",
            "  inflating: icml_face_data.csv      \n",
            "  inflating: test.csv                \n",
            "  inflating: train.csv               \n"
          ]
        }
      ]
    },
    {
      "cell_type": "code",
      "source": [
        "!pip install onnx"
      ],
      "metadata": {
        "colab": {
          "base_uri": "https://localhost:8080/"
        },
        "id": "9fXPkihKllSZ",
        "outputId": "13fa4e7e-66f9-4246-ca0c-283aecad1c20"
      },
      "id": "9fXPkihKllSZ",
      "execution_count": 2,
      "outputs": [
        {
          "output_type": "stream",
          "name": "stdout",
          "text": [
            "Collecting onnx\n",
            "  Downloading onnx-1.18.0-cp311-cp311-manylinux_2_17_x86_64.manylinux2014_x86_64.whl.metadata (6.9 kB)\n",
            "Requirement already satisfied: numpy>=1.22 in /usr/local/lib/python3.11/dist-packages (from onnx) (2.0.2)\n",
            "Requirement already satisfied: protobuf>=4.25.1 in /usr/local/lib/python3.11/dist-packages (from onnx) (5.29.4)\n",
            "Requirement already satisfied: typing_extensions>=4.7.1 in /usr/local/lib/python3.11/dist-packages (from onnx) (4.13.2)\n",
            "Downloading onnx-1.18.0-cp311-cp311-manylinux_2_17_x86_64.manylinux2014_x86_64.whl (17.6 MB)\n",
            "\u001b[2K   \u001b[90m━━━━━━━━━━━━━━━━━━━━━━━━━━━━━━━━━━━━━━━━\u001b[0m \u001b[32m17.6/17.6 MB\u001b[0m \u001b[31m111.3 MB/s\u001b[0m eta \u001b[36m0:00:00\u001b[0m\n",
            "\u001b[?25hInstalling collected packages: onnx\n",
            "Successfully installed onnx-1.18.0\n"
          ]
        }
      ]
    },
    {
      "cell_type": "code",
      "source": [
        "import torch # Main PyTorch Library\n",
        "from torch import nn # Used for creating the layers and loss function\n",
        "from torch.optim import Adam # Adam Optimizer\n",
        "import torchvision.transforms as transforms # Transform function used to modify and preprocess all the images\n",
        "from torch.utils.data import Dataset, DataLoader # Dataset class and DataLoader for creating the objects\n",
        "from sklearn.preprocessing import LabelEncoder # Label Encoder to encode the classes from strings to numbers\n",
        "import matplotlib.pyplot as plt # Used for visualizing the images and plotting the training progress\n",
        "from PIL import Image # Used to read the images from the directory\n",
        "import pandas as pd # Used to read/create dataframes (csv) and process tabular data\n",
        "import numpy as np # preprocessing and numerical/mathematical operations\n",
        "import os # Used to read the images path from the directory\n",
        "\n",
        "device = \"cuda\" if torch.cuda.is_available() else \"cpu\" # detect the GPU if any, if not use CPU, change cuda to mps if you have a mac\n",
        "print(\"Device available: \", device)"
      ],
      "metadata": {
        "colab": {
          "base_uri": "https://localhost:8080/"
        },
        "id": "xib5nVmSLH0o",
        "outputId": "d3b6cd87-de50-441d-a086-2d4c64a81559"
      },
      "id": "xib5nVmSLH0o",
      "execution_count": 3,
      "outputs": [
        {
          "output_type": "stream",
          "name": "stdout",
          "text": [
            "Device available:  cuda\n"
          ]
        }
      ]
    },
    {
      "cell_type": "code",
      "source": [
        "import pandas as pd\n",
        "import torch\n",
        "from torch.utils.data import Dataset, Subset, ConcatDataset\n",
        "from sklearn.model_selection import train_test_split\n",
        "from collections import Counter\n",
        "import random\n",
        "from torchvision import transforms\n",
        "\n",
        "# Define augmentations for minority classes\n",
        "aug_transform = transforms.Compose([\n",
        "    transforms.RandomRotation(20),\n",
        "    transforms.ColorJitter(brightness=0.3, contrast=0.3),\n",
        "    transforms.RandomHorizontalFlip(),\n",
        "    transforms.RandomAffine(degrees=0, translate=(0.1, 0.1)),\n",
        "])\n",
        "\n",
        "# Used to convert image to tensor if needed\n",
        "default_transform = transforms.ToTensor()\n",
        "\n",
        "\n",
        "class AugmentedExpressionDataset(Dataset):\n",
        "    def __init__(self, base_dataset, targets, num_aug_per_sample=1):\n",
        "        self.base_dataset = base_dataset\n",
        "        self.targets = targets\n",
        "        self.class_counts = Counter(targets)\n",
        "        self.max_count = max(self.class_counts.values())\n",
        "\n",
        "        # Prepare indices for oversampling\n",
        "        self.augmented_indices = []\n",
        "        for cls in self.class_counts:\n",
        "            n_to_add = self.max_count - self.class_counts[cls]\n",
        "            indices_of_cls = [i for i, label in enumerate(targets) if label == cls]\n",
        "            sampled = random.choices(indices_of_cls, k=n_to_add * num_aug_per_sample)\n",
        "            self.augmented_indices.extend(sampled)\n",
        "\n",
        "    def __len__(self):\n",
        "        return len(self.base_dataset) + len(self.augmented_indices)\n",
        "\n",
        "    def __getitem__(self, idx):\n",
        "        if idx < len(self.base_dataset):\n",
        "            img, label = self.base_dataset[idx]\n",
        "            return default_transform(img), label\n",
        "        else:\n",
        "            base_idx = self.augmented_indices[idx - len(self.base_dataset)]\n",
        "            img, label = self.base_dataset[base_idx]\n",
        "            return default_transform(aug_transform(img)), label\n"
      ],
      "metadata": {
        "id": "b5Ptu8H4Lzx6"
      },
      "id": "b5Ptu8H4Lzx6",
      "execution_count": 4,
      "outputs": []
    },
    {
      "cell_type": "code",
      "source": [
        "import pandas as pd\n",
        "\n",
        "# Load the CSV\n",
        "df = pd.read_csv(\"icml_face_data.csv\")\n",
        "\n",
        "# Print the column names\n",
        "print(\"Columns in icml_face_data.csv:\")\n",
        "print(df.columns)\n"
      ],
      "metadata": {
        "colab": {
          "base_uri": "https://localhost:8080/"
        },
        "id": "wKcArbImSaFr",
        "outputId": "4f7ce5f4-f596-42f2-f61c-5a2bd1ca5049"
      },
      "id": "wKcArbImSaFr",
      "execution_count": 7,
      "outputs": [
        {
          "output_type": "stream",
          "name": "stdout",
          "text": [
            "Columns in icml_face_data.csv:\n",
            "Index(['emotion', ' Usage', ' pixels'], dtype='object')\n"
          ]
        }
      ]
    },
    {
      "cell_type": "code",
      "source": [
        "import torch\n",
        "from torch.utils.data import Dataset, Subset, DataLoader\n",
        "import pandas as pd\n",
        "import numpy as np\n",
        "import matplotlib.pyplot as plt\n",
        "\n",
        "from sklearn.model_selection import train_test_split\n",
        "import torch\n",
        "from torch.utils.data import Subset\n",
        "\n",
        "class ExpressionDataset_from_df(Dataset):\n",
        "    def __init__(self, dataframe):\n",
        "        self.images = dataframe[' pixels'].apply(\n",
        "            lambda x: np.fromstring(x, sep=' ', dtype=np.uint8).reshape(48, 48)\n",
        "        )\n",
        "        self.images = torch.tensor(np.stack(self.images.values), dtype=torch.float32).unsqueeze(1) / 255.0\n",
        "        self.labels = torch.tensor(dataframe['emotion'].values, dtype=torch.long)\n",
        "\n",
        "    def __len__(self):\n",
        "        return len(self.labels)\n",
        "\n",
        "    def __getitem__(self, idx):\n",
        "        return self.images[idx], self.labels[idx]\n",
        "\n",
        "def get_data(csv_file=\"icml_face_data.csv\", slice=5, train=True):\n",
        "    # Load the full dataset\n",
        "    full_data = pd.read_csv(csv_file)\n",
        "\n",
        "    # Split based on Usage column\n",
        "    if train:\n",
        "        data = full_data[full_data[' Usage'] == 'Training'].reset_index(drop=True)\n",
        "    else:\n",
        "        data = full_data[full_data[' Usage'] == 'PublicTest'].reset_index(drop=True)\n",
        "\n",
        "    # Apply slicing\n",
        "    if slice > 1:\n",
        "        data = data.iloc[::slice].reset_index(drop=True)\n",
        "\n",
        "    # Convert to dataset\n",
        "    dataset = ExpressionDataset_from_df(data)\n",
        "\n",
        "    if train:\n",
        "        targets = data['emotion'].tolist()\n",
        "        return AugmentedExpressionDataset(dataset, targets)\n",
        "    else:\n",
        "        return dataset\n",
        "\n",
        "\n",
        "def make_loader(dataset, batch_size):\n",
        "    loader = DataLoader(dataset=dataset,\n",
        "                        batch_size=batch_size,\n",
        "                        shuffle=True,\n",
        "                        pin_memory=True,\n",
        "                        num_workers=2)\n",
        "    return loader\n"
      ],
      "metadata": {
        "id": "D1ye0F1iHqSC"
      },
      "id": "D1ye0F1iHqSC",
      "execution_count": 11,
      "outputs": []
    },
    {
      "cell_type": "markdown",
      "source": [
        "## test that loading was ok"
      ],
      "metadata": {
        "id": "RsFhOzV_PHxI"
      },
      "id": "RsFhOzV_PHxI"
    },
    {
      "cell_type": "code",
      "source": [
        "# Load and create loader\n",
        "dataset = get_data(slice=1, train=False)\n",
        "loader = make_loader(dataset, batch_size=3)\n",
        "\n",
        "# Get a batch\n",
        "images, labels = next(iter(loader))\n",
        "\n",
        "# Class names from FER2013\n",
        "emotion_names = [\n",
        "    \"Angry\", \"Disgust\", \"Fear\", \"Happy\", \"Sad\", \"Surprise\", \"Neutral\"\n",
        "]\n",
        "\n",
        "# Plot the first 3 images\n",
        "plt.figure(figsize=(10, 4))\n",
        "for i in range(3):\n",
        "    plt.subplot(1, 3, i + 1)\n",
        "    plt.imshow(images[i][0], cmap='gray')\n",
        "    plt.title(f\"Label: {emotion_names[labels[i].item()]}\")\n",
        "    plt.axis('off')\n",
        "plt.tight_layout()\n",
        "plt.show()\n"
      ],
      "metadata": {
        "colab": {
          "base_uri": "https://localhost:8080/",
          "height": 372
        },
        "id": "NvgplaWYHJX6",
        "outputId": "b91208b2-9c4c-41d3-ecda-9cb284acbbfc"
      },
      "id": "NvgplaWYHJX6",
      "execution_count": 12,
      "outputs": [
        {
          "output_type": "display_data",
          "data": {
            "text/plain": [
              "<Figure size 1000x400 with 3 Axes>"
            ],
            "image/png": "[encoded data removed]"
          },
          "metadata": {}
        }
      ]
    },
    {
      "cell_type": "markdown",
      "source": [
        "# connecting WANDB"
      ],
      "metadata": {
        "id": "XhwXYgieSf7u"
      },
      "id": "XhwXYgieSf7u"
    },
    {
      "cell_type": "code",
      "source": [
        "import os\n",
        "import random\n",
        "\n",
        "import numpy as np\n",
        "import torch\n",
        "import torch.nn as nn\n",
        "import torchvision\n",
        "import torchvision.transforms as transforms\n",
        "from tqdm.auto import tqdm\n",
        "\n",
        "# Ensure deterministic behavior\n",
        "torch.backends.cudnn.deterministic = True\n",
        "random.seed(hash(\"setting random seeds\") % 2**32 - 1)\n",
        "np.random.seed(hash(\"improves reproducibility\") % 2**32 - 1)\n",
        "torch.manual_seed(hash(\"by removing stochasticity\") % 2**32 - 1)\n",
        "torch.cuda.manual_seed_all(hash(\"so runs are repeatable\") % 2**32 - 1)\n",
        "\n",
        "# Device configuration\n",
        "device = torch.device(\"cuda:0\" if torch.cuda.is_available() else \"cpu\")\n"
      ],
      "metadata": {
        "id": "zt2tymF2Se4p"
      },
      "id": "zt2tymF2Se4p",
      "execution_count": 13,
      "outputs": []
    },
    {
      "cell_type": "code",
      "source": [
        "import wandb\n",
        "wandb.login()"
      ],
      "metadata": {
        "colab": {
          "base_uri": "https://localhost:8080/",
          "height": 191
        },
        "id": "l2Op72b3SsY1",
        "outputId": "366409f6-c703-4ef0-f78f-e9591b2dfb48"
      },
      "id": "l2Op72b3SsY1",
      "execution_count": 14,
      "outputs": [
        {
          "output_type": "display_data",
          "data": {
            "text/plain": [
              "<IPython.core.display.Javascript object>"
            ],
            "application/javascript": [
              "\n",
              "        window._wandbApiKey = new Promise((resolve, reject) => {\n",
              "            function loadScript(url) {\n",
              "            return new Promise(function(resolve, reject) {\n",
              "                let newScript = document.createElement(\"script\");\n",
              "                newScript.onerror = reject;\n",
              "                newScript.onload = resolve;\n",
              "                document.body.appendChild(newScript);\n",
              "                newScript.src = url;\n",
              "            });\n",
              "            }\n",
              "            loadScript(\"https://cdn.jsdelivr.net/npm/postmate/build/postmate.min.js\").then(() => {\n",
              "            const iframe = document.createElement('iframe')\n",
              "            iframe.style.cssText = \"width:0;height:0;border:none\"\n",
              "            document.body.appendChild(iframe)\n",
              "            const handshake = new Postmate({\n",
              "                container: iframe,\n",
              "                url: 'https://wandb.ai/authorize'\n",
              "            });\n",
              "            const timeout = setTimeout(() => reject(\"Couldn't auto authenticate\"), 5000)\n",
              "            handshake.then(function(child) {\n",
              "                child.on('authorize', data => {\n",
              "                    clearTimeout(timeout)\n",
              "                    resolve(data)\n",
              "                });\n",
              "            });\n",
              "            })\n",
              "        });\n",
              "    "
            ]
          },
          "metadata": {}
        },
        {
          "output_type": "stream",
          "name": "stderr",
          "text": [
            "\u001b[34m\u001b[1mwandb\u001b[0m: Logging into wandb.ai. (Learn how to deploy a W&B server locally: https://wandb.me/wandb-server)\n",
            "\u001b[34m\u001b[1mwandb\u001b[0m: You can find your API key in your browser here: https://wandb.ai/authorize\n",
            "wandb: Paste an API key from your profile and hit enter:"
          ]
        },
        {
          "name": "stdout",
          "output_type": "stream",
          "text": [
            " ··········\n"
          ]
        },
        {
          "output_type": "stream",
          "name": "stderr",
          "text": [
            "\u001b[34m\u001b[1mwandb\u001b[0m: \u001b[33mWARNING\u001b[0m If you're specifying your api key in code, ensure this code is not shared publicly.\n",
            "\u001b[34m\u001b[1mwandb\u001b[0m: \u001b[33mWARNING\u001b[0m Consider setting the WANDB_API_KEY environment variable, or running `wandb login` from the command line.\n",
            "\u001b[34m\u001b[1mwandb\u001b[0m: No netrc file found, creating one.\n",
            "\u001b[34m\u001b[1mwandb\u001b[0m: Appending key for api.wandb.ai to your netrc file: /root/.netrc\n",
            "\u001b[34m\u001b[1mwandb\u001b[0m: Currently logged in as: \u001b[33marazm21\u001b[0m (\u001b[33marazm21-free-university-of-tbilisi-\u001b[0m) to \u001b[32mhttps://api.wandb.ai\u001b[0m. Use \u001b[1m`wandb login --relogin`\u001b[0m to force relogin\n"
          ]
        },
        {
          "output_type": "execute_result",
          "data": {
            "text/plain": [
              "True"
            ]
          },
          "metadata": {},
          "execution_count": 14
        }
      ]
    },
    {
      "cell_type": "code",
      "source": [],
      "metadata": {
        "id": "ymLc1hz_XE5W"
      },
      "id": "ymLc1hz_XE5W",
      "execution_count": null,
      "outputs": []
    },
    {
      "cell_type": "markdown",
      "source": [
        "# different attempted architectures"
      ],
      "metadata": {
        "id": "FjvVv9RPXFbN"
      },
      "id": "FjvVv9RPXFbN"
    },
    {
      "cell_type": "code",
      "source": [
        "# import torch.nn as nn\n",
        "\n",
        "# class ConvNet_super_simple(nn.Module):\n",
        "#     def __init__(self, kernels, classes=7):\n",
        "#         super(ConvNet_super_simple, self).__init__()\n",
        "\n",
        "#         self.layer1 = nn.Sequential(\n",
        "#             nn.Conv2d(1, kernels[0], kernel_size=5, stride=1, padding=2),\n",
        "#             nn.ReLU(),\n",
        "#             nn.MaxPool2d(kernel_size=2, stride=2)\n",
        "#         )\n",
        "#         self.layer2 = nn.Sequential(\n",
        "#             nn.Conv2d(kernels[0], kernels[1], kernel_size=5, stride=1, padding=2),\n",
        "#             nn.ReLU(),\n",
        "#             nn.MaxPool2d(kernel_size=2, stride=2)\n",
        "#         )\n",
        "\n",
        "#         # Assuming 48x48 input, after two 2x2 poolings -> 48/2/2 = 12x12\n",
        "#         self.fc = nn.Linear(12 * 12 * kernels[1], classes)\n",
        "\n",
        "#     def forward(self, x):\n",
        "#         out = self.layer1(x)\n",
        "#         out = self.layer2(out)\n",
        "#         out = out.view(out.size(0), -1)\n",
        "#         out = self.fc(out)\n",
        "#         return out\n",
        "import torch\n",
        "import torch.nn as nn\n",
        "\n",
        "class ConvNet_Improved(nn.Module):\n",
        "    def __init__(self, kernels, classes=7):\n",
        "        super(ConvNet_Improved, self).__init__()\n",
        "\n",
        "        # First conv block\n",
        "        self.conv1 = nn.Conv2d(1, kernels[0], kernel_size=3, stride=1, padding=1)\n",
        "        self.bn1 = nn.BatchNorm2d(kernels[0])\n",
        "        self.relu1 = nn.ReLU()\n",
        "        self.dropout1 = nn.Dropout(0.2)\n",
        "        self.pool1 = nn.MaxPool2d(kernel_size=2, stride=2)\n",
        "\n",
        "        # Second conv block\n",
        "        self.conv2 = nn.Conv2d(kernels[0], kernels[1], kernel_size=3, stride=1, padding=1)\n",
        "        self.bn2 = nn.BatchNorm2d(kernels[1])\n",
        "        self.relu2 = nn.ReLU()\n",
        "        self.dropout2 = nn.Dropout(0.3)\n",
        "        self.pool2 = nn.MaxPool2d(kernel_size=2, stride=2)\n",
        "\n",
        "        # Third conv block\n",
        "        self.conv3 = nn.Conv2d(kernels[1], kernels[2], kernel_size=3, stride=1, padding=1)\n",
        "        self.bn3 = nn.BatchNorm2d(kernels[2])\n",
        "        self.relu3 = nn.ReLU()\n",
        "        self.dropout3 = nn.Dropout(0.4)\n",
        "        self.pool3 = nn.MaxPool2d(kernel_size=2, stride=2)\n",
        "\n",
        "        # Assuming 48x48 input → 3 poolings: 48 → 24 → 12 → 6\n",
        "        self.flattened_dim = 6 * 6 * kernels[2]\n",
        "        self.fc = nn.Linear(self.flattened_dim, classes)\n",
        "\n",
        "    def forward(self, x):\n",
        "        x = self.pool1(self.dropout1(self.relu1(self.bn1(self.conv1(x)))))\n",
        "        x = self.pool2(self.dropout2(self.relu2(self.bn2(self.conv2(x)))))\n",
        "        x = self.pool3(self.dropout3(self.relu3(self.bn3(self.conv3(x)))))\n",
        "\n",
        "        x = x.view(x.size(0), -1)\n",
        "        x = self.fc(x)\n",
        "        return x\n"
      ],
      "metadata": {
        "id": "RaFvctrZTf1t"
      },
      "id": "RaFvctrZTf1t",
      "execution_count": null,
      "outputs": []
    },
    {
      "cell_type": "code",
      "source": [
        "import torch\n",
        "import torch.nn as nn\n",
        "import torch.nn.functional as F\n",
        "\n",
        "class ResidualBlock(nn.Module):\n",
        "    def __init__(self, channels):\n",
        "        super(ResidualBlock, self).__init__()\n",
        "        self.conv1 = nn.Conv2d(channels, channels, kernel_size=3, padding=1)\n",
        "        self.bn1 = nn.BatchNorm2d(channels)\n",
        "        self.conv2 = nn.Conv2d(channels, channels, kernel_size=3, padding=1)\n",
        "        self.bn2 = nn.BatchNorm2d(channels)\n",
        "\n",
        "    def forward(self, x):\n",
        "        identity = x\n",
        "        out = F.relu(self.bn1(self.conv1(x)))\n",
        "        out = self.bn2(self.conv2(out))\n",
        "        out += identity\n",
        "        out = F.relu(out)\n",
        "        return out\n",
        "\n",
        "class SimpleResNet(nn.Module):\n",
        "    def __init__(self, in_channels=1, base_channels=64, num_blocks=5, num_classes=7):\n",
        "        super(SimpleResNet, self).__init__()\n",
        "        self.entry = nn.Sequential(\n",
        "            nn.Conv2d(in_channels, base_channels, kernel_size=3, padding=1),\n",
        "            nn.BatchNorm2d(base_channels),\n",
        "            nn.ReLU()\n",
        "        )\n",
        "\n",
        "        self.blocks = nn.Sequential(*[ResidualBlock(base_channels) for _ in range(num_blocks)])\n",
        "\n",
        "        self.pool = nn.AdaptiveAvgPool2d((1, 1))\n",
        "        self.fc = nn.Linear(base_channels, num_classes)\n",
        "\n",
        "    def forward(self, x):\n",
        "        x = self.entry(x)\n",
        "        x = self.blocks(x)\n",
        "        x = self.pool(x)\n",
        "        x = x.view(x.size(0), -1)\n",
        "        return self.fc(x)\n"
      ],
      "metadata": {
        "id": "PFYKchqhXTSt"
      },
      "id": "PFYKchqhXTSt",
      "execution_count": null,
      "outputs": []
    },
    {
      "cell_type": "markdown",
      "source": [
        "# geting everything ready"
      ],
      "metadata": {
        "id": "zaVbntQmXODJ"
      },
      "id": "zaVbntQmXODJ"
    },
    {
      "cell_type": "code",
      "source": [
        "def make(config):\n",
        "    # Make the data\n",
        "    train_dataset = get_data(train=True)\n",
        "    test_dataset = get_data(train=False)\n",
        "    train_loader = make_loader(train_dataset, batch_size=config.batch_size)\n",
        "    test_loader = make_loader(test_dataset, batch_size=config.batch_size)\n",
        "\n",
        "    # Make the model\n",
        "    model = SimpleResNet().to(device)\n",
        "\n",
        "    # Make the loss and optimizer\n",
        "    criterion = nn.CrossEntropyLoss()\n",
        "    optimizer = torch.optim.Adam(model.parameters(), lr=config.learning_rate)\n",
        "\n",
        "    return model, train_loader, test_loader, criterion, optimizer"
      ],
      "metadata": {
        "id": "4GOnNEKyT1v2"
      },
      "id": "4GOnNEKyT1v2",
      "execution_count": null,
      "outputs": []
    },
    {
      "cell_type": "code",
      "source": [
        "def train_log(loss, example_ct, epoch):\n",
        "    # Where the magic happens\n",
        "    wandb.log({\"epoch\": epoch, \"loss\": loss}, step=example_ct)\n",
        "    print(f\"Loss after {str(example_ct).zfill(5)} examples: {loss:.3f}\")"
      ],
      "metadata": {
        "id": "Jwbd9gvXUp4R"
      },
      "id": "Jwbd9gvXUp4R",
      "execution_count": null,
      "outputs": []
    },
    {
      "cell_type": "code",
      "source": [
        "def train(model, loader, criterion, optimizer, config):\n",
        "    # Tell wandb to watch what the model gets up to: gradients, weights, and more!\n",
        "    wandb.watch(model, criterion, log=\"all\", log_freq=10)\n",
        "\n",
        "    # Run training and track with wandb\n",
        "    total_batches = len(loader) * config.epochs\n",
        "    example_ct = 0  # number of examples seen\n",
        "    batch_ct = 0\n",
        "    for epoch in tqdm(range(config.epochs)):\n",
        "        for _, (images, labels) in enumerate(loader):\n",
        "\n",
        "            loss = train_batch(images, labels, model, optimizer, criterion)\n",
        "            example_ct +=  len(images)\n",
        "            batch_ct += 1\n",
        "\n",
        "            # Report metrics every 25th batch\n",
        "            if ((batch_ct + 1) % 25) == 0:\n",
        "                train_log(loss, example_ct, epoch)\n",
        "                print(f\"batch number: {batch_ct + 1}\")\n",
        "\n",
        "\n",
        "def train_batch(images, labels, model, optimizer, criterion):\n",
        "    images, labels = images.to(device), labels.to(device)\n",
        "\n",
        "    # Forward pass ➡\n",
        "    outputs = model(images)\n",
        "    loss = criterion(outputs, labels)\n",
        "\n",
        "    # Backward pass ⬅\n",
        "    optimizer.zero_grad()\n",
        "    loss.backward()\n",
        "\n",
        "    # Step with optimizer\n",
        "    optimizer.step()\n",
        "\n",
        "    return loss"
      ],
      "metadata": {
        "id": "F3VQ1HxlUk6V"
      },
      "id": "F3VQ1HxlUk6V",
      "execution_count": null,
      "outputs": []
    },
    {
      "cell_type": "code",
      "source": [
        "def test(model, test_loader):\n",
        "    model.eval()\n",
        "\n",
        "    # Run the model on some test examples\n",
        "    with torch.no_grad():\n",
        "        correct, total = 0, 0\n",
        "        for images, labels in test_loader:\n",
        "            images, labels = images.to(device), labels.to(device)\n",
        "            outputs = model(images)\n",
        "            _, predicted = torch.max(outputs.data, 1)\n",
        "            total += labels.size(0)\n",
        "            correct += (predicted == labels).sum().item()\n",
        "\n",
        "        print(f\"Accuracy of the model on the {total} \" +\n",
        "              f\"test images: {correct / total:%}\")\n",
        "\n",
        "        wandb.log({\"test_accuracy\": correct / total})\n",
        "\n",
        "    # Save the model in the exchangeable ONNX format\n",
        "    torch.onnx.export(model, images, \"model.onnx\")\n",
        "    wandb.save(\"model.onnx\")"
      ],
      "metadata": {
        "id": "JYjjS-iHUuUG"
      },
      "id": "JYjjS-iHUuUG",
      "execution_count": null,
      "outputs": []
    },
    {
      "cell_type": "code",
      "source": [
        "def model_pipeline(hyperparameters):\n",
        "\n",
        "    # tell wandb to get started\n",
        "    with wandb.init(project=\"expression_dataset\",\n",
        "                    config=hyperparameters,\n",
        "                    name = \"simple_resnet_architecture\"):\n",
        "      # access all HPs through wandb.config, so logging matches execution!\n",
        "      config = wandb.config\n",
        "\n",
        "      # make the model, data, and optimization problem\n",
        "      model, train_loader, test_loader, criterion, optimizer = make(config)\n",
        "      print(model)\n",
        "\n",
        "      # and use them to train the model\n",
        "      train(model, train_loader, criterion, optimizer, config)\n",
        "\n",
        "      # and test its final performance\n",
        "      test(model, test_loader)\n",
        "\n",
        "    return model"
      ],
      "metadata": {
        "id": "cEsYfYCkUbYw"
      },
      "id": "cEsYfYCkUbYw",
      "execution_count": null,
      "outputs": []
    },
    {
      "cell_type": "code",
      "source": [
        "config = dict(\n",
        "    epochs=50,\n",
        "    classes=7,\n",
        "    #kernels=[32, 64, 128],\n",
        "    batch_size=256,\n",
        "    learning_rate=0.005,\n",
        "    dataset=\"Facial Expression Recognition\",\n",
        "    architecture=\"simple_resnet_architecture_50_epoch\")"
      ],
      "metadata": {
        "id": "GoXMnqIWY9fa"
      },
      "id": "GoXMnqIWY9fa",
      "execution_count": null,
      "outputs": []
    },
    {
      "cell_type": "code",
      "source": [
        "model = model_pipeline(config)"
      ],
      "metadata": {
        "colab": {
          "base_uri": "https://localhost:8080/",
          "height": 1000,
          "referenced_widgets": [
            "a1961e9904a34fb293bd0f71e9e227cd",
            "e2e240083fad4312b6ccb49afa156c47",
            "7e6f4742842644308a6aede5ea3ae82e",
            "632d23b6b60d4f7fbf6b0be8bf14e8e2",
            "68de8d09085e4da287a1786e895de53e",
            "cb558a6eb36d4236bcbce94c0fcfe8ab",
            "9fc8c9e7de1c4e91bc297104eef4b0cd",
            "56bbe4fa2cd64574a2d764f587f58c76",
            "88e5b1921f214a49bd1eae3d81b97b10",
            "ab98e389fa8a458fbd73ebb31bac1fc9",
            "0c9acd327dcf43e79c8e2b123bcdf4c7"
          ]
        },
        "id": "MifXx_iuXfLi",
        "outputId": "8ffabc91-165b-4d22-8d31-c0a257bcf7b6"
      },
      "id": "MifXx_iuXfLi",
      "execution_count": null,
      "outputs": [
        {
          "output_type": "display_data",
          "data": {
            "text/plain": [
              "<IPython.core.display.HTML object>"
            ],
            "text/html": [
              "Tracking run with wandb version 0.19.11"
            ]
          },
          "metadata": {}
        },
        {
          "output_type": "display_data",
          "data": {
            "text/plain": [
              "<IPython.core.display.HTML object>"
            ],
            "text/html": [
              "Run data is saved locally in <code>/content/wandb/run-20250526_161443-mvcmkg8g</code>"
            ]
          },
          "metadata": {}
        },
        {
          "output_type": "display_data",
          "data": {
            "text/plain": [
              "<IPython.core.display.HTML object>"
            ],
            "text/html": [
              "Syncing run <strong><a href='https://wandb.ai/arazm21-free-university-of-tbilisi-/expression_dataset/runs/mvcmkg8g' target=\"_blank\">simple_resnet_architecture</a></strong> to <a href='https://wandb.ai/arazm21-free-university-of-tbilisi-/expression_dataset' target=\"_blank\">Weights & Biases</a> (<a href='https://wandb.me/developer-guide' target=\"_blank\">docs</a>)<br>"
            ]
          },
          "metadata": {}
        },
        {
          "output_type": "display_data",
          "data": {
            "text/plain": [
              "<IPython.core.display.HTML object>"
            ],
            "text/html": [
              " View project at <a href='https://wandb.ai/arazm21-free-university-of-tbilisi-/expression_dataset' target=\"_blank\">https://wandb.ai/arazm21-free-university-of-tbilisi-/expression_dataset</a>"
            ]
          },
          "metadata": {}
        },
        {
          "output_type": "display_data",
          "data": {
            "text/plain": [
              "<IPython.core.display.HTML object>"
            ],
            "text/html": [
              " View run at <a href='https://wandb.ai/arazm21-free-university-of-tbilisi-/expression_dataset/runs/mvcmkg8g' target=\"_blank\">https://wandb.ai/arazm21-free-university-of-tbilisi-/expression_dataset/runs/mvcmkg8g</a>"
            ]
          },
          "metadata": {}
        },
        {
          "output_type": "stream",
          "name": "stdout",
          "text": [
            "SimpleResNet(\n",
            "  (entry): Sequential(\n",
            "    (0): Conv2d(1, 64, kernel_size=(3, 3), stride=(1, 1), padding=(1, 1))\n",
            "    (1): BatchNorm2d(64, eps=1e-05, momentum=0.1, affine=True, track_running_stats=True)\n",
            "    (2): ReLU()\n",
            "  )\n",
            "  (blocks): Sequential(\n",
            "    (0): ResidualBlock(\n",
            "      (conv1): Conv2d(64, 64, kernel_size=(3, 3), stride=(1, 1), padding=(1, 1))\n",
            "      (bn1): BatchNorm2d(64, eps=1e-05, momentum=0.1, affine=True, track_running_stats=True)\n",
            "      (conv2): Conv2d(64, 64, kernel_size=(3, 3), stride=(1, 1), padding=(1, 1))\n",
            "      (bn2): BatchNorm2d(64, eps=1e-05, momentum=0.1, affine=True, track_running_stats=True)\n",
            "    )\n",
            "    (1): ResidualBlock(\n",
            "      (conv1): Conv2d(64, 64, kernel_size=(3, 3), stride=(1, 1), padding=(1, 1))\n",
            "      (bn1): BatchNorm2d(64, eps=1e-05, momentum=0.1, affine=True, track_running_stats=True)\n",
            "      (conv2): Conv2d(64, 64, kernel_size=(3, 3), stride=(1, 1), padding=(1, 1))\n",
            "      (bn2): BatchNorm2d(64, eps=1e-05, momentum=0.1, affine=True, track_running_stats=True)\n",
            "    )\n",
            "    (2): ResidualBlock(\n",
            "      (conv1): Conv2d(64, 64, kernel_size=(3, 3), stride=(1, 1), padding=(1, 1))\n",
            "      (bn1): BatchNorm2d(64, eps=1e-05, momentum=0.1, affine=True, track_running_stats=True)\n",
            "      (conv2): Conv2d(64, 64, kernel_size=(3, 3), stride=(1, 1), padding=(1, 1))\n",
            "      (bn2): BatchNorm2d(64, eps=1e-05, momentum=0.1, affine=True, track_running_stats=True)\n",
            "    )\n",
            "    (3): ResidualBlock(\n",
            "      (conv1): Conv2d(64, 64, kernel_size=(3, 3), stride=(1, 1), padding=(1, 1))\n",
            "      (bn1): BatchNorm2d(64, eps=1e-05, momentum=0.1, affine=True, track_running_stats=True)\n",
            "      (conv2): Conv2d(64, 64, kernel_size=(3, 3), stride=(1, 1), padding=(1, 1))\n",
            "      (bn2): BatchNorm2d(64, eps=1e-05, momentum=0.1, affine=True, track_running_stats=True)\n",
            "    )\n",
            "    (4): ResidualBlock(\n",
            "      (conv1): Conv2d(64, 64, kernel_size=(3, 3), stride=(1, 1), padding=(1, 1))\n",
            "      (bn1): BatchNorm2d(64, eps=1e-05, momentum=0.1, affine=True, track_running_stats=True)\n",
            "      (conv2): Conv2d(64, 64, kernel_size=(3, 3), stride=(1, 1), padding=(1, 1))\n",
            "      (bn2): BatchNorm2d(64, eps=1e-05, momentum=0.1, affine=True, track_running_stats=True)\n",
            "    )\n",
            "  )\n",
            "  (pool): AdaptiveAvgPool2d(output_size=(1, 1))\n",
            "  (fc): Linear(in_features=64, out_features=7, bias=True)\n",
            ")\n"
          ]
        },
        {
          "output_type": "display_data",
          "data": {
            "text/plain": [
              "  0%|          | 0/50 [00:00<?, ?it/s]"
            ],
            "application/vnd.jupyter.widget-view+json": {
              "version_major": 2,
              "version_minor": 0,
              "model_id": "a1961e9904a34fb293bd0f71e9e227cd"
            }
          },
          "metadata": {}
        },
        {
          "output_type": "stream",
          "name": "stdout",
          "text": [
            "Loss after 01024 examples: 1.940\n",
            "batch number: 5\n",
            "Loss after 02304 examples: 1.822\n",
            "batch number: 10\n",
            "Loss after 03584 examples: 1.797\n",
            "batch number: 15\n",
            "Loss after 04850 examples: 1.821\n",
            "batch number: 20\n",
            "Loss after 06130 examples: 1.813\n",
            "batch number: 25\n",
            "Loss after 07410 examples: 1.777\n",
            "batch number: 30\n",
            "Loss after 08690 examples: 1.738\n",
            "batch number: 35\n",
            "Loss after 09956 examples: 1.776\n",
            "batch number: 40\n",
            "Loss after 11236 examples: 1.772\n",
            "batch number: 45\n",
            "Loss after 12516 examples: 1.823\n",
            "batch number: 50\n",
            "Loss after 13782 examples: 1.786\n",
            "batch number: 55\n",
            "Loss after 15062 examples: 1.744\n",
            "batch number: 60\n",
            "Loss after 16342 examples: 1.801\n",
            "batch number: 65\n",
            "Loss after 17622 examples: 1.797\n",
            "batch number: 70\n",
            "Loss after 18888 examples: 1.763\n",
            "batch number: 75\n",
            "Loss after 20168 examples: 1.785\n",
            "batch number: 80\n",
            "Loss after 21448 examples: 1.748\n",
            "batch number: 85\n",
            "Loss after 22728 examples: 1.812\n",
            "batch number: 90\n",
            "Loss after 23994 examples: 1.765\n",
            "batch number: 95\n",
            "Loss after 25274 examples: 1.750\n",
            "batch number: 100\n",
            "Loss after 26554 examples: 1.789\n",
            "batch number: 105\n",
            "Loss after 27820 examples: 1.737\n",
            "batch number: 110\n",
            "Loss after 29100 examples: 1.773\n",
            "batch number: 115\n",
            "Loss after 30380 examples: 1.717\n",
            "batch number: 120\n",
            "Loss after 31660 examples: 1.716\n",
            "batch number: 125\n",
            "Loss after 32926 examples: 1.773\n",
            "batch number: 130\n",
            "Loss after 34206 examples: 1.716\n",
            "batch number: 135\n",
            "Loss after 35486 examples: 1.710\n",
            "batch number: 140\n",
            "Loss after 36752 examples: 1.707\n",
            "batch number: 145\n",
            "Loss after 38032 examples: 1.675\n",
            "batch number: 150\n",
            "Loss after 39312 examples: 1.740\n",
            "batch number: 155\n",
            "Loss after 40592 examples: 1.760\n",
            "batch number: 160\n",
            "Loss after 41858 examples: 1.629\n",
            "batch number: 165\n",
            "Loss after 43138 examples: 1.723\n",
            "batch number: 170\n",
            "Loss after 44418 examples: 1.662\n",
            "batch number: 175\n",
            "Loss after 45698 examples: 1.642\n",
            "batch number: 180\n",
            "Loss after 46964 examples: 1.725\n",
            "batch number: 185\n",
            "Loss after 48244 examples: 1.682\n",
            "batch number: 190\n",
            "Loss after 49524 examples: 1.586\n",
            "batch number: 195\n",
            "Loss after 50790 examples: 1.648\n",
            "batch number: 200\n",
            "Loss after 52070 examples: 1.663\n",
            "batch number: 205\n",
            "Loss after 53350 examples: 1.629\n",
            "batch number: 210\n",
            "Loss after 54630 examples: 1.623\n",
            "batch number: 215\n",
            "Loss after 55896 examples: 1.597\n",
            "batch number: 220\n",
            "Loss after 57176 examples: 1.689\n",
            "batch number: 225\n",
            "Loss after 58456 examples: 1.586\n",
            "batch number: 230\n",
            "Loss after 59722 examples: 1.533\n",
            "batch number: 235\n",
            "Loss after 61002 examples: 1.569\n",
            "batch number: 240\n",
            "Loss after 62282 examples: 1.645\n",
            "batch number: 245\n",
            "Loss after 63562 examples: 1.681\n",
            "batch number: 250\n",
            "Loss after 64828 examples: 1.574\n",
            "batch number: 255\n",
            "Loss after 66108 examples: 1.494\n",
            "batch number: 260\n",
            "Loss after 67388 examples: 1.518\n",
            "batch number: 265\n",
            "Loss after 68668 examples: 1.641\n",
            "batch number: 270\n",
            "Loss after 69934 examples: 1.556\n",
            "batch number: 275\n",
            "Loss after 71214 examples: 1.576\n",
            "batch number: 280\n",
            "Loss after 72494 examples: 1.593\n",
            "batch number: 285\n",
            "Loss after 73760 examples: 1.640\n",
            "batch number: 290\n",
            "Loss after 75040 examples: 1.537\n",
            "batch number: 295\n",
            "Loss after 76320 examples: 1.458\n",
            "batch number: 300\n",
            "Loss after 77600 examples: 1.600\n",
            "batch number: 305\n",
            "Loss after 78866 examples: 1.485\n",
            "batch number: 310\n",
            "Loss after 80146 examples: 1.449\n",
            "batch number: 315\n",
            "Loss after 81426 examples: 1.534\n",
            "batch number: 320\n",
            "Loss after 82692 examples: 1.493\n",
            "batch number: 325\n",
            "Loss after 83972 examples: 1.399\n",
            "batch number: 330\n",
            "Loss after 85252 examples: 1.504\n",
            "batch number: 335\n",
            "Loss after 86532 examples: 1.588\n",
            "batch number: 340\n",
            "Loss after 87798 examples: 1.420\n",
            "batch number: 345\n",
            "Loss after 89078 examples: 1.489\n",
            "batch number: 350\n",
            "Loss after 90358 examples: 1.403\n",
            "batch number: 355\n",
            "Loss after 91638 examples: 1.472\n",
            "batch number: 360\n",
            "Loss after 92904 examples: 1.480\n",
            "batch number: 365\n",
            "Loss after 94184 examples: 1.394\n",
            "batch number: 370\n",
            "Loss after 95464 examples: 1.396\n",
            "batch number: 375\n",
            "Loss after 96730 examples: 1.325\n",
            "batch number: 380\n",
            "Loss after 98010 examples: 1.432\n",
            "batch number: 385\n",
            "Loss after 99290 examples: 1.364\n",
            "batch number: 390\n",
            "Loss after 100570 examples: 1.456\n",
            "batch number: 395\n",
            "Loss after 101836 examples: 1.302\n",
            "batch number: 400\n",
            "Loss after 103116 examples: 1.458\n",
            "batch number: 405\n",
            "Loss after 104396 examples: 1.370\n",
            "batch number: 410\n",
            "Loss after 105662 examples: 1.392\n",
            "batch number: 415\n",
            "Loss after 106942 examples: 1.392\n",
            "batch number: 420\n",
            "Loss after 108222 examples: 1.295\n",
            "batch number: 425\n",
            "Loss after 109502 examples: 1.391\n",
            "batch number: 430\n",
            "Loss after 110768 examples: 1.350\n",
            "batch number: 435\n",
            "Loss after 112048 examples: 1.483\n",
            "batch number: 440\n",
            "Loss after 113328 examples: 1.373\n",
            "batch number: 445\n",
            "Loss after 114608 examples: 1.322\n",
            "batch number: 450\n",
            "Loss after 115874 examples: 1.355\n",
            "batch number: 455\n",
            "Loss after 117154 examples: 1.293\n",
            "batch number: 460\n",
            "Loss after 118434 examples: 1.265\n",
            "batch number: 465\n",
            "Loss after 119700 examples: 1.289\n",
            "batch number: 470\n",
            "Loss after 120980 examples: 1.358\n",
            "batch number: 475\n",
            "Loss after 122260 examples: 1.436\n",
            "batch number: 480\n",
            "Loss after 123540 examples: 1.243\n",
            "batch number: 485\n",
            "Loss after 124806 examples: 1.298\n",
            "batch number: 490\n",
            "Loss after 126086 examples: 1.301\n",
            "batch number: 495\n",
            "Loss after 127366 examples: 1.229\n",
            "batch number: 500\n",
            "Loss after 128632 examples: 1.299\n",
            "batch number: 505\n",
            "Loss after 129912 examples: 1.248\n",
            "batch number: 510\n",
            "Loss after 131192 examples: 1.287\n",
            "batch number: 515\n",
            "Loss after 132472 examples: 1.129\n",
            "batch number: 520\n",
            "Loss after 133738 examples: 1.275\n",
            "batch number: 525\n",
            "Loss after 135018 examples: 1.228\n",
            "batch number: 530\n",
            "Loss after 136298 examples: 1.299\n",
            "batch number: 535\n",
            "Loss after 137578 examples: 1.294\n",
            "batch number: 540\n",
            "Loss after 138844 examples: 1.251\n",
            "batch number: 545\n",
            "Loss after 140124 examples: 1.166\n",
            "batch number: 550\n",
            "Loss after 141404 examples: 1.210\n",
            "batch number: 555\n",
            "Loss after 142670 examples: 1.203\n",
            "batch number: 560\n",
            "Loss after 143950 examples: 1.300\n",
            "batch number: 565\n",
            "Loss after 145230 examples: 1.249\n",
            "batch number: 570\n",
            "Loss after 146510 examples: 1.236\n",
            "batch number: 575\n",
            "Loss after 147776 examples: 1.084\n",
            "batch number: 580\n",
            "Loss after 149056 examples: 1.100\n",
            "batch number: 585\n",
            "Loss after 150336 examples: 1.137\n",
            "batch number: 590\n",
            "Loss after 151602 examples: 1.209\n",
            "batch number: 595\n",
            "Loss after 152882 examples: 1.131\n",
            "batch number: 600\n",
            "Loss after 154162 examples: 1.179\n",
            "batch number: 605\n",
            "Loss after 155442 examples: 1.100\n",
            "batch number: 610\n",
            "Loss after 156708 examples: 1.052\n",
            "batch number: 615\n",
            "Loss after 157988 examples: 1.098\n",
            "batch number: 620\n",
            "Loss after 159268 examples: 1.115\n",
            "batch number: 625\n",
            "Loss after 160548 examples: 1.112\n",
            "batch number: 630\n",
            "Loss after 161814 examples: 1.044\n",
            "batch number: 635\n",
            "Loss after 163094 examples: 0.978\n",
            "batch number: 640\n",
            "Loss after 164374 examples: 1.101\n",
            "batch number: 645\n",
            "Loss after 165640 examples: 1.032\n",
            "batch number: 650\n",
            "Loss after 166920 examples: 1.066\n",
            "batch number: 655\n",
            "Loss after 168200 examples: 0.927\n",
            "batch number: 660\n",
            "Loss after 169480 examples: 1.020\n",
            "batch number: 665\n",
            "Loss after 170746 examples: 0.997\n",
            "batch number: 670\n",
            "Loss after 172026 examples: 1.141\n",
            "batch number: 675\n",
            "Loss after 173306 examples: 1.022\n",
            "batch number: 680\n",
            "Loss after 174572 examples: 0.993\n",
            "batch number: 685\n",
            "Loss after 175852 examples: 0.984\n",
            "batch number: 690\n",
            "Loss after 177132 examples: 0.994\n",
            "batch number: 695\n",
            "Loss after 178412 examples: 0.983\n",
            "batch number: 700\n",
            "Loss after 179678 examples: 1.063\n",
            "batch number: 705\n",
            "Loss after 180958 examples: 0.909\n",
            "batch number: 710\n",
            "Loss after 182238 examples: 0.873\n",
            "batch number: 715\n",
            "Loss after 183518 examples: 0.974\n",
            "batch number: 720\n",
            "Loss after 184784 examples: 0.875\n",
            "batch number: 725\n",
            "Loss after 186064 examples: 0.926\n",
            "batch number: 730\n",
            "Loss after 187344 examples: 0.952\n",
            "batch number: 735\n",
            "Loss after 188610 examples: 0.841\n",
            "batch number: 740\n",
            "Loss after 189890 examples: 0.844\n",
            "batch number: 745\n",
            "Loss after 191170 examples: 0.809\n",
            "batch number: 750\n",
            "Loss after 192450 examples: 1.013\n",
            "batch number: 755\n",
            "Loss after 193716 examples: 0.688\n",
            "batch number: 760\n",
            "Loss after 194996 examples: 0.795\n",
            "batch number: 765\n",
            "Loss after 196276 examples: 0.765\n",
            "batch number: 770\n",
            "Loss after 197542 examples: 0.850\n",
            "batch number: 775\n",
            "Loss after 198822 examples: 0.792\n",
            "batch number: 780\n",
            "Loss after 200102 examples: 0.747\n",
            "batch number: 785\n",
            "Loss after 201382 examples: 0.865\n",
            "batch number: 790\n",
            "Loss after 202648 examples: 0.738\n",
            "batch number: 795\n",
            "Loss after 203928 examples: 0.650\n",
            "batch number: 800\n",
            "Loss after 205208 examples: 0.805\n",
            "batch number: 805\n",
            "Loss after 206488 examples: 0.807\n",
            "batch number: 810\n",
            "Loss after 207754 examples: 0.680\n",
            "batch number: 815\n",
            "Loss after 209034 examples: 0.672\n",
            "batch number: 820\n",
            "Loss after 210314 examples: 0.853\n",
            "batch number: 825\n",
            "Loss after 211580 examples: 0.672\n",
            "batch number: 830\n",
            "Loss after 212860 examples: 0.654\n",
            "batch number: 835\n",
            "Loss after 214140 examples: 0.732\n",
            "batch number: 840\n",
            "Loss after 215420 examples: 0.828\n",
            "batch number: 845\n",
            "Loss after 216686 examples: 0.681\n",
            "batch number: 850\n",
            "Loss after 217966 examples: 0.706\n",
            "batch number: 855\n",
            "Loss after 219246 examples: 0.601\n",
            "batch number: 860\n",
            "Loss after 220512 examples: 0.735\n",
            "batch number: 865\n",
            "Loss after 221792 examples: 0.602\n",
            "batch number: 870\n",
            "Loss after 223072 examples: 0.600\n",
            "batch number: 875\n",
            "Loss after 224352 examples: 0.535\n",
            "batch number: 880\n",
            "Loss after 225618 examples: 0.577\n",
            "batch number: 885\n",
            "Loss after 226898 examples: 0.584\n",
            "batch number: 890\n",
            "Loss after 228178 examples: 0.538\n",
            "batch number: 895\n",
            "Loss after 229458 examples: 0.644\n",
            "batch number: 900\n",
            "Accuracy of the model on the 1149 test images: 33.768494%\n"
          ]
        },
        {
          "output_type": "display_data",
          "data": {
            "text/plain": [
              "<IPython.core.display.HTML object>"
            ],
            "text/html": []
          },
          "metadata": {}
        },
        {
          "output_type": "display_data",
          "data": {
            "text/plain": [
              "<IPython.core.display.HTML object>"
            ],
            "text/html": [
              "<br>    <style><br>        .wandb-row {<br>            display: flex;<br>            flex-direction: row;<br>            flex-wrap: wrap;<br>            justify-content: flex-start;<br>            width: 100%;<br>        }<br>        .wandb-col {<br>            display: flex;<br>            flex-direction: column;<br>            flex-basis: 100%;<br>            flex: 1;<br>            padding: 10px;<br>        }<br>    </style><br><div class=\"wandb-row\"><div class=\"wandb-col\"><h3>Run history:</h3><br/><table class=\"wandb\"><tr><td>epoch</td><td>▁▁▁▂▂▂▂▂▃▃▃▃▃▃▄▄▅▅▅▅▅▅▆▆▆▆▆▆▆▆▇▇▇▇▇▇████</td></tr><tr><td>loss</td><td>███████▇▇█▇▇▇▇▇▆▇▆▆▆▆▆▅▆▅▅▄▄▅▄▄▃▃▃▃▃▂▂▂▁</td></tr><tr><td>test_accuracy</td><td>▁</td></tr></table><br/></div><div class=\"wandb-col\"><h3>Run summary:</h3><br/><table class=\"wandb\"><tr><td>epoch</td><td>49</td></tr><tr><td>loss</td><td>0.64389</td></tr><tr><td>test_accuracy</td><td>0.33768</td></tr></table><br/></div></div>"
            ]
          },
          "metadata": {}
        },
        {
          "output_type": "display_data",
          "data": {
            "text/plain": [
              "<IPython.core.display.HTML object>"
            ],
            "text/html": [
              " View run <strong style=\"color:#cdcd00\">simple_resnet_architecture</strong> at: <a href='https://wandb.ai/arazm21-free-university-of-tbilisi-/expression_dataset/runs/mvcmkg8g' target=\"_blank\">https://wandb.ai/arazm21-free-university-of-tbilisi-/expression_dataset/runs/mvcmkg8g</a><br> View project at: <a href='https://wandb.ai/arazm21-free-university-of-tbilisi-/expression_dataset' target=\"_blank\">https://wandb.ai/arazm21-free-university-of-tbilisi-/expression_dataset</a><br>Synced 5 W&B file(s), 0 media file(s), 0 artifact file(s) and 1 other file(s)"
            ]
          },
          "metadata": {}
        },
        {
          "output_type": "display_data",
          "data": {
            "text/plain": [
              "<IPython.core.display.HTML object>"
            ],
            "text/html": [
              "Find logs at: <code>./wandb/run-20250526_161443-mvcmkg8g/logs</code>"
            ]
          },
          "metadata": {}
        }
      ]
    },
    {
      "cell_type": "code",
      "source": [],
      "metadata": {
        "id": "PhusPwNHkvAx"
      },
      "id": "PhusPwNHkvAx",
      "execution_count": null,
      "outputs": []
    }
  ],
  "metadata": {
    "kernelspec": {
      "display_name": "Python 3",
      "name": "python3"
    },
    "language_info": {
      "codemirror_mode": {
        "name": "ipython",
        "version": 2
      },
      "file_extension": ".py",
      "mimetype": "text/x-python",
      "name": "python",
      "nbconvert_exporter": "python",
      "pygments_lexer": "ipython2",
      "version": "2.7.6"
    },
    "colab": {
      "provenance": [],
      "gpuType": "T4",
      "include_colab_link": true
    },
    "widgets": {
      "application/vnd.jupyter.widget-state+json": {
        "a1961e9904a34fb293bd0f71e9e227cd": {
          "model_module": "@jupyter-widgets/controls",
          "model_name": "HBoxModel",
          "model_module_version": "1.5.0",
          "state": {
            "_dom_classes": [],
            "_model_module": "@jupyter-widgets/controls",
            "_model_module_version": "1.5.0",
            "_model_name": "HBoxModel",
            "_view_count": null,
            "_view_module": "@jupyter-widgets/controls",
            "_view_module_version": "1.5.0",
            "_view_name": "HBoxView",
            "box_style": "",
            "children": [
              "IPY_MODEL_e2e240083fad4312b6ccb49afa156c47",
              "IPY_MODEL_7e6f4742842644308a6aede5ea3ae82e",
              "IPY_MODEL_632d23b6b60d4f7fbf6b0be8bf14e8e2"
            ],
            "layout": "IPY_MODEL_68de8d09085e4da287a1786e895de53e"
          }
        },
        "e2e240083fad4312b6ccb49afa156c47": {
          "model_module": "@jupyter-widgets/controls",
          "model_name": "HTMLModel",
          "model_module_version": "1.5.0",
          "state": {
            "_dom_classes": [],
            "_model_module": "@jupyter-widgets/controls",
            "_model_module_version": "1.5.0",
            "_model_name": "HTMLModel",
            "_view_count": null,
            "_view_module": "@jupyter-widgets/controls",
            "_view_module_version": "1.5.0",
            "_view_name": "HTMLView",
            "description": "",
            "description_tooltip": null,
            "layout": "IPY_MODEL_cb558a6eb36d4236bcbce94c0fcfe8ab",
            "placeholder": "​",
            "style": "IPY_MODEL_9fc8c9e7de1c4e91bc297104eef4b0cd",
            "value": "100%"
          }
        },
        "7e6f4742842644308a6aede5ea3ae82e": {
          "model_module": "@jupyter-widgets/controls",
          "model_name": "FloatProgressModel",
          "model_module_version": "1.5.0",
          "state": {
            "_dom_classes": [],
            "_model_module": "@jupyter-widgets/controls",
            "_model_module_version": "1.5.0",
            "_model_name": "FloatProgressModel",
            "_view_count": null,
            "_view_module": "@jupyter-widgets/controls",
            "_view_module_version": "1.5.0",
            "_view_name": "ProgressView",
            "bar_style": "success",
            "description": "",
            "description_tooltip": null,
            "layout": "IPY_MODEL_56bbe4fa2cd64574a2d764f587f58c76",
            "max": 50,
            "min": 0,
            "orientation": "horizontal",
            "style": "IPY_MODEL_88e5b1921f214a49bd1eae3d81b97b10",
            "value": 50
          }
        },
        "632d23b6b60d4f7fbf6b0be8bf14e8e2": {
          "model_module": "@jupyter-widgets/controls",
          "model_name": "HTMLModel",
          "model_module_version": "1.5.0",
          "state": {
            "_dom_classes": [],
            "_model_module": "@jupyter-widgets/controls",
            "_model_module_version": "1.5.0",
            "_model_name": "HTMLModel",
            "_view_count": null,
            "_view_module": "@jupyter-widgets/controls",
            "_view_module_version": "1.5.0",
            "_view_name": "HTMLView",
            "description": "",
            "description_tooltip": null,
            "layout": "IPY_MODEL_ab98e389fa8a458fbd73ebb31bac1fc9",
            "placeholder": "​",
            "style": "IPY_MODEL_0c9acd327dcf43e79c8e2b123bcdf4c7",
            "value": " 50/50 [06:08&lt;00:00,  7.42s/it]"
          }
        },
        "68de8d09085e4da287a1786e895de53e": {
          "model_module": "@jupyter-widgets/base",
          "model_name": "LayoutModel",
          "model_module_version": "1.2.0",
          "state": {
            "_model_module": "@jupyter-widgets/base",
            "_model_module_version": "1.2.0",
            "_model_name": "LayoutModel",
            "_view_count": null,
            "_view_module": "@jupyter-widgets/base",
            "_view_module_version": "1.2.0",
            "_view_name": "LayoutView",
            "align_content": null,
            "align_items": null,
            "align_self": null,
            "border": null,
            "bottom": null,
            "display": null,
            "flex": null,
            "flex_flow": null,
            "grid_area": null,
            "grid_auto_columns": null,
            "grid_auto_flow": null,
            "grid_auto_rows": null,
            "grid_column": null,
            "grid_gap": null,
            "grid_row": null,
            "grid_template_areas": null,
            "grid_template_columns": null,
            "grid_template_rows": null,
            "height": null,
            "justify_content": null,
            "justify_items": null,
            "left": null,
            "margin": null,
            "max_height": null,
            "max_width": null,
            "min_height": null,
            "min_width": null,
            "object_fit": null,
            "object_position": null,
            "order": null,
            "overflow": null,
            "overflow_x": null,
            "overflow_y": null,
            "padding": null,
            "right": null,
            "top": null,
            "visibility": null,
            "width": null
          }
        },
        "cb558a6eb36d4236bcbce94c0fcfe8ab": {
          "model_module": "@jupyter-widgets/base",
          "model_name": "LayoutModel",
          "model_module_version": "1.2.0",
          "state": {
            "_model_module": "@jupyter-widgets/base",
            "_model_module_version": "1.2.0",
            "_model_name": "LayoutModel",
            "_view_count": null,
            "_view_module": "@jupyter-widgets/base",
            "_view_module_version": "1.2.0",
            "_view_name": "LayoutView",
            "align_content": null,
            "align_items": null,
            "align_self": null,
            "border": null,
            "bottom": null,
            "display": null,
            "flex": null,
            "flex_flow": null,
            "grid_area": null,
            "grid_auto_columns": null,
            "grid_auto_flow": null,
            "grid_auto_rows": null,
            "grid_column": null,
            "grid_gap": null,
            "grid_row": null,
            "grid_template_areas": null,
            "grid_template_columns": null,
            "grid_template_rows": null,
            "height": null,
            "justify_content": null,
            "justify_items": null,
            "left": null,
            "margin": null,
            "max_height": null,
            "max_width": null,
            "min_height": null,
            "min_width": null,
            "object_fit": null,
            "object_position": null,
            "order": null,
            "overflow": null,
            "overflow_x": null,
            "overflow_y": null,
            "padding": null,
            "right": null,
            "top": null,
            "visibility": null,
            "width": null
          }
        },
        "9fc8c9e7de1c4e91bc297104eef4b0cd": {
          "model_module": "@jupyter-widgets/controls",
          "model_name": "DescriptionStyleModel",
          "model_module_version": "1.5.0",
          "state": {
            "_model_module": "@jupyter-widgets/controls",
            "_model_module_version": "1.5.0",
            "_model_name": "DescriptionStyleModel",
            "_view_count": null,
            "_view_module": "@jupyter-widgets/base",
            "_view_module_version": "1.2.0",
            "_view_name": "StyleView",
            "description_width": ""
          }
        },
        "56bbe4fa2cd64574a2d764f587f58c76": {
          "model_module": "@jupyter-widgets/base",
          "model_name": "LayoutModel",
          "model_module_version": "1.2.0",
          "state": {
            "_model_module": "@jupyter-widgets/base",
            "_model_module_version": "1.2.0",
            "_model_name": "LayoutModel",
            "_view_count": null,
            "_view_module": "@jupyter-widgets/base",
            "_view_module_version": "1.2.0",
            "_view_name": "LayoutView",
            "align_content": null,
            "align_items": null,
            "align_self": null,
            "border": null,
            "bottom": null,
            "display": null,
            "flex": null,
            "flex_flow": null,
            "grid_area": null,
            "grid_auto_columns": null,
            "grid_auto_flow": null,
            "grid_auto_rows": null,
            "grid_column": null,
            "grid_gap": null,
            "grid_row": null,
            "grid_template_areas": null,
            "grid_template_columns": null,
            "grid_template_rows": null,
            "height": null,
            "justify_content": null,
            "justify_items": null,
            "left": null,
            "margin": null,
            "max_height": null,
            "max_width": null,
            "min_height": null,
            "min_width": null,
            "object_fit": null,
            "object_position": null,
            "order": null,
            "overflow": null,
            "overflow_x": null,
            "overflow_y": null,
            "padding": null,
            "right": null,
            "top": null,
            "visibility": null,
            "width": null
          }
        },
        "88e5b1921f214a49bd1eae3d81b97b10": {
          "model_module": "@jupyter-widgets/controls",
          "model_name": "ProgressStyleModel",
          "model_module_version": "1.5.0",
          "state": {
            "_model_module": "@jupyter-widgets/controls",
            "_model_module_version": "1.5.0",
            "_model_name": "ProgressStyleModel",
            "_view_count": null,
            "_view_module": "@jupyter-widgets/base",
            "_view_module_version": "1.2.0",
            "_view_name": "StyleView",
            "bar_color": null,
            "description_width": ""
          }
        },
        "ab98e389fa8a458fbd73ebb31bac1fc9": {
          "model_module": "@jupyter-widgets/base",
          "model_name": "LayoutModel",
          "model_module_version": "1.2.0",
          "state": {
            "_model_module": "@jupyter-widgets/base",
            "_model_module_version": "1.2.0",
            "_model_name": "LayoutModel",
            "_view_count": null,
            "_view_module": "@jupyter-widgets/base",
            "_view_module_version": "1.2.0",
            "_view_name": "LayoutView",
            "align_content": null,
            "align_items": null,
            "align_self": null,
            "border": null,
            "bottom": null,
            "display": null,
            "flex": null,
            "flex_flow": null,
            "grid_area": null,
            "grid_auto_columns": null,
            "grid_auto_flow": null,
            "grid_auto_rows": null,
            "grid_column": null,
            "grid_gap": null,
            "grid_row": null,
            "grid_template_areas": null,
            "grid_template_columns": null,
            "grid_template_rows": null,
            "height": null,
            "justify_content": null,
            "justify_items": null,
            "left": null,
            "margin": null,
            "max_height": null,
            "max_width": null,
            "min_height": null,
            "min_width": null,
            "object_fit": null,
            "object_position": null,
            "order": null,
            "overflow": null,
            "overflow_x": null,
            "overflow_y": null,
            "padding": null,
            "right": null,
            "top": null,
            "visibility": null,
            "width": null
          }
        },
        "0c9acd327dcf43e79c8e2b123bcdf4c7": {
          "model_module": "@jupyter-widgets/controls",
          "model_name": "DescriptionStyleModel",
          "model_module_version": "1.5.0",
          "state": {
            "_model_module": "@jupyter-widgets/controls",
            "_model_module_version": "1.5.0",
            "_model_name": "DescriptionStyleModel",
            "_view_count": null,
            "_view_module": "@jupyter-widgets/base",
            "_view_module_version": "1.2.0",
            "_view_name": "StyleView",
            "description_width": ""
          }
        }
      }
    },
    "accelerator": "GPU"
  },
  "nbformat": 4,
  "nbformat_minor": 5
}