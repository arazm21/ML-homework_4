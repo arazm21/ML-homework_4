{
  "cells": [
    {
      "cell_type": "markdown",
      "metadata": {
        "id": "view-in-github",
        "colab_type": "text"
      },
      "source": [
        "<a href=\"https://colab.research.google.com/github/arazm21/ML-homework_4/blob/main/expression_notebook_final.ipynb\" target=\"_parent\"><img src=\"https://colab.research.google.com/assets/colab-badge.svg\" alt=\"Open In Colab\"/></a>"
      ]
    },
    {
      "cell_type": "markdown",
      "source": [
        "# loading the data and organising it"
      ],
      "metadata": {
        "id": "ShlkPaeoBQ3k"
      },
      "id": "ShlkPaeoBQ3k"
    },
    {
      "cell_type": "code",
      "source": [
        "! pip install kaggle\n",
        "from google.colab import drive\n",
        "drive.mount('/content/drive')\n",
        "! mkdir ~/.kaggle\n",
        "!cp /content/drive/MyDrive/ColabNotebooks/kaggle_API_credentials/kaggle.json ~/.kaggle/kaggle.json\n",
        "! chmod 600 ~/.kaggle/kaggle.json\n",
        "! kaggle competitions download -c challenges-in-representation-learning-facial-expression-recognition-challenge\n",
        "! unzip challenges-in-representation-learning-facial-expression-recognition-challenge"
      ],
      "metadata": {
        "collapsed": true,
        "colab": {
          "base_uri": "https://localhost:8080/"
        },
        "id": "dNNvBwljBQFE",
        "outputId": "04b641c0-20d8-4c68-e645-962b5f35422a"
      },
      "id": "dNNvBwljBQFE",
      "execution_count": 1,
      "outputs": [
        {
          "output_type": "stream",
          "name": "stdout",
          "text": [
            "Requirement already satisfied: kaggle in /usr/local/lib/python3.11/dist-packages (1.7.4.5)\n",
            "Requirement already satisfied: bleach in /usr/local/lib/python3.11/dist-packages (from kaggle) (6.2.0)\n",
            "Requirement already satisfied: certifi>=14.05.14 in /usr/local/lib/python3.11/dist-packages (from kaggle) (2025.4.26)\n",
            "Requirement already satisfied: charset-normalizer in /usr/local/lib/python3.11/dist-packages (from kaggle) (3.4.2)\n",
            "Requirement already satisfied: idna in /usr/local/lib/python3.11/dist-packages (from kaggle) (3.10)\n",
            "Requirement already satisfied: protobuf in /usr/local/lib/python3.11/dist-packages (from kaggle) (5.29.5)\n",
            "Requirement already satisfied: python-dateutil>=2.5.3 in /usr/local/lib/python3.11/dist-packages (from kaggle) (2.9.0.post0)\n",
            "Requirement already satisfied: python-slugify in /usr/local/lib/python3.11/dist-packages (from kaggle) (8.0.4)\n",
            "Requirement already satisfied: requests in /usr/local/lib/python3.11/dist-packages (from kaggle) (2.32.3)\n",
            "Requirement already satisfied: setuptools>=21.0.0 in /usr/local/lib/python3.11/dist-packages (from kaggle) (75.2.0)\n",
            "Requirement already satisfied: six>=1.10 in /usr/local/lib/python3.11/dist-packages (from kaggle) (1.17.0)\n",
            "Requirement already satisfied: text-unidecode in /usr/local/lib/python3.11/dist-packages (from kaggle) (1.3)\n",
            "Requirement already satisfied: tqdm in /usr/local/lib/python3.11/dist-packages (from kaggle) (4.67.1)\n",
            "Requirement already satisfied: urllib3>=1.15.1 in /usr/local/lib/python3.11/dist-packages (from kaggle) (2.4.0)\n",
            "Requirement already satisfied: webencodings in /usr/local/lib/python3.11/dist-packages (from kaggle) (0.5.1)\n",
            "Mounted at /content/drive\n",
            "Downloading challenges-in-representation-learning-facial-expression-recognition-challenge.zip to /content\n",
            " 96% 273M/285M [00:00<00:00, 582MB/s]\n",
            "100% 285M/285M [00:04<00:00, 74.7MB/s]\n",
            "Archive:  challenges-in-representation-learning-facial-expression-recognition-challenge.zip\n",
            "  inflating: example_submission.csv  \n",
            "  inflating: fer2013.tar.gz          \n",
            "  inflating: icml_face_data.csv      \n",
            "  inflating: test.csv                \n",
            "  inflating: train.csv               \n"
          ]
        }
      ]
    },
    {
      "cell_type": "code",
      "source": [
        "!pip install onnx"
      ],
      "metadata": {
        "id": "9fXPkihKllSZ",
        "colab": {
          "base_uri": "https://localhost:8080/"
        },
        "outputId": "987a3cdf-43fd-4959-ddbb-7d515790c538"
      },
      "id": "9fXPkihKllSZ",
      "execution_count": 2,
      "outputs": [
        {
          "output_type": "stream",
          "name": "stdout",
          "text": [
            "Collecting onnx\n",
            "  Downloading onnx-1.18.0-cp311-cp311-manylinux_2_17_x86_64.manylinux2014_x86_64.whl.metadata (6.9 kB)\n",
            "Requirement already satisfied: numpy>=1.22 in /usr/local/lib/python3.11/dist-packages (from onnx) (2.0.2)\n",
            "Requirement already satisfied: protobuf>=4.25.1 in /usr/local/lib/python3.11/dist-packages (from onnx) (5.29.5)\n",
            "Requirement already satisfied: typing_extensions>=4.7.1 in /usr/local/lib/python3.11/dist-packages (from onnx) (4.13.2)\n",
            "Downloading onnx-1.18.0-cp311-cp311-manylinux_2_17_x86_64.manylinux2014_x86_64.whl (17.6 MB)\n",
            "\u001b[2K   \u001b[90m━━━━━━━━━━━━━━━━━━━━━━━━━━━━━━━━━━━━━━━━\u001b[0m \u001b[32m17.6/17.6 MB\u001b[0m \u001b[31m44.2 MB/s\u001b[0m eta \u001b[36m0:00:00\u001b[0m\n",
            "\u001b[?25hInstalling collected packages: onnx\n",
            "Successfully installed onnx-1.18.0\n"
          ]
        }
      ]
    },
    {
      "cell_type": "code",
      "source": [
        "import torch # Main PyTorch Library\n",
        "from torch import nn # Used for creating the layers and loss function\n",
        "from torch.optim import Adam # Adam Optimizer\n",
        "import torchvision.transforms as transforms # Transform function used to modify and preprocess all the images\n",
        "from torch.utils.data import Dataset, DataLoader # Dataset class and DataLoader for creating the objects\n",
        "from sklearn.preprocessing import LabelEncoder # Label Encoder to encode the classes from strings to numbers\n",
        "import matplotlib.pyplot as plt # Used for visualizing the images and plotting the training progress\n",
        "from PIL import Image # Used to read the images from the directory\n",
        "import pandas as pd # Used to read/create dataframes (csv) and process tabular data\n",
        "import numpy as np # preprocessing and numerical/mathematical operations\n",
        "import os # Used to read the images path from the directory\n",
        "\n",
        "device = \"cuda\" if torch.cuda.is_available() else \"cpu\" # detect the GPU if any, if not use CPU, change cuda to mps if you have a mac\n",
        "print(\"Device available: \", device)"
      ],
      "metadata": {
        "id": "xib5nVmSLH0o",
        "colab": {
          "base_uri": "https://localhost:8080/"
        },
        "outputId": "8de75c22-9b77-466f-bd34-3be314f1e280"
      },
      "id": "xib5nVmSLH0o",
      "execution_count": 3,
      "outputs": [
        {
          "output_type": "stream",
          "name": "stdout",
          "text": [
            "Device available:  cuda\n"
          ]
        }
      ]
    },
    {
      "cell_type": "code",
      "source": [
        "import pandas as pd\n",
        "import torch\n",
        "from torch.utils.data import Dataset, DataLoader\n",
        "from collections import Counter\n",
        "import random\n",
        "import numpy as np\n",
        "from PIL import Image\n",
        "from torchvision import transforms\n",
        "\n",
        "# ─── 1) Augmentations for minority classes ────────────────────────────────────\n",
        "\n",
        "aug_transform = transforms.Compose([\n",
        "    transforms.RandomRotation(10),\n",
        "    transforms.ColorJitter(brightness=0.3, contrast=0.3),\n",
        "    transforms.RandomHorizontalFlip(),\n",
        "    # transforms.RandomAffine(degrees=0, translate=(0.1, 0.1)),\n",
        "    transforms.ToTensor(),  # finally convert to tensor in [0,1]\n",
        "])\n",
        "\n",
        "# ─── 2) Base “no‐transform” behavior ─────────────────────────────────────────\n",
        "\n",
        "class ExpressionDatasetFromDF(Dataset):\n",
        "    def __init__(self, dataframe):\n",
        "        # Expect columns exactly [\"emotion\", \"pixels\", \"Usage\"]\n",
        "        # Each “pixels” entry is a string of “230  19  …”\n",
        "        self.images = dataframe[\" pixels\"].apply(\n",
        "            lambda x: np.fromstring(x, sep=\" \", dtype=np.uint8).reshape(48, 48)\n",
        "        )\n",
        "        # Stack into a (N, 1, 48, 48) float32 tensor in [0,1]\n",
        "        self.images = torch.tensor(\n",
        "            np.stack(self.images.values), dtype=torch.float32\n",
        "        ).unsqueeze(1) / 255.0\n",
        "        self.labels = torch.tensor(dataframe[\"emotion\"].values, dtype=torch.long)\n",
        "\n",
        "    def __len__(self):\n",
        "        return len(self.labels)\n",
        "\n",
        "    def __getitem__(self, idx):\n",
        "        return self.images[idx], self.labels[idx]\n",
        "\n",
        "\n",
        "# ─── 3) Oversampling / augmentation wrapper ──────────────────────────────────\n",
        "\n",
        "class AugmentedExpressionDataset(Dataset):\n",
        "    def __init__(self, base_dataset, targets, num_aug_per_sample=1):\n",
        "        \"\"\"\n",
        "        base_dataset: an ExpressionDatasetFromDF (no transforms applied)\n",
        "        targets: list of ints (same length as base_dataset)\n",
        "        \"\"\"\n",
        "        self.base_dataset = base_dataset\n",
        "        self.targets = targets\n",
        "        self.class_counts = Counter(targets)\n",
        "        self.max_count = max(self.class_counts.values())\n",
        "\n",
        "        # Build a list of “base indices” to duplicate + augment\n",
        "        self.augmented_indices = []\n",
        "        for cls_label, count in self.class_counts.items():\n",
        "            n_to_add = self.max_count - count\n",
        "            if n_to_add <= 0:\n",
        "                continue\n",
        "            # pick with replacement from all indices whose target == cls_label\n",
        "            indices_of_cls = [\n",
        "                i for i, t in enumerate(targets) if t == cls_label\n",
        "            ]\n",
        "            sampled = random.choices(indices_of_cls, k=n_to_add * num_aug_per_sample)\n",
        "            self.augmented_indices.extend(sampled)\n",
        "\n",
        "        print(f\"‣ Base dataset size: {len(self.base_dataset)}\")\n",
        "        print(f\"‣ Augmenting {len(self.augmented_indices)} extra samples to balance classes.\")\n",
        "        print(f\"‣ Resulting dataset size: {len(self.base_dataset) + len(self.augmented_indices)}\")\n",
        "\n",
        "    def __len__(self):\n",
        "        return len(self.base_dataset) + len(self.augmented_indices)\n",
        "\n",
        "    def __getitem__(self, idx):\n",
        "        if idx < len(self.base_dataset):\n",
        "            # no augmentation for the “original” sample\n",
        "            img_tensor, label = self.base_dataset[idx]\n",
        "            return img_tensor, label\n",
        "        else:\n",
        "            # for augmented ones: take the base index, convert back to PIL, augment, then ToTensor\n",
        "            base_idx = self.augmented_indices[idx - len(self.base_dataset)]\n",
        "            img_tensor, label = self.base_dataset[base_idx]\n",
        "            # img_tensor is (1,48,48) float in [0,1]. Convert back to uint8 PIL:\n",
        "            arr_uint8 = (img_tensor.squeeze().numpy() * 255).astype(np.uint8)\n",
        "            pil_img = Image.fromarray(arr_uint8, mode=\"L\")\n",
        "            img_aug = aug_transform(pil_img)  # now a (1,48,48) FloatTensor in [0,1]\n",
        "            return img_aug, label\n",
        "\n",
        "\n",
        "# ─── 4) Revised get_data (no more “slice”) ───────────────────────────────────\n",
        "\n",
        "def get_data(csv_file=\"icml_face_data.csv\", train=True):\n",
        "    \"\"\"\n",
        "    - Reads icml_face_data.csv (which has exactly [\"emotion\",\"pixels\",\"Usage\"]).\n",
        "    - Splits by Usage == \"Training\" vs. \"PublicTest\".\n",
        "    - For train: wraps in AugmentedExpressionDataset. For test/val: returns raw dataset.\n",
        "    \"\"\"\n",
        "    full_df = pd.read_csv(csv_file)\n",
        "\n",
        "    if train:\n",
        "        df_part = full_df[full_df[\" Usage\"] == \"Training\"].reset_index(drop=True)\n",
        "    else:\n",
        "        df_part = full_df[full_df[\" Usage\"] == \"PublicTest\"].reset_index(drop=True)\n",
        "\n",
        "    print(f\"‣ Loaded '{'Training' if train else 'PublicTest'}' => {len(df_part)} samples before augmentation/slicing.\")\n",
        "\n",
        "    base_ds = ExpressionDatasetFromDF(df_part)\n",
        "\n",
        "    if train:\n",
        "        targets = df_part[\"emotion\"].tolist()\n",
        "        balanced_ds = AugmentedExpressionDataset(base_ds, targets)\n",
        "        return balanced_ds\n",
        "    else:\n",
        "        return base_ds\n",
        "\n",
        "\n",
        "def make_loader(dataset, batch_size):\n",
        "    return DataLoader(\n",
        "        dataset=dataset,\n",
        "        batch_size=batch_size,\n",
        "        shuffle=True,\n",
        "        pin_memory=True,\n",
        "        num_workers=1,\n",
        "    )\n"
      ],
      "metadata": {
        "id": "b5Ptu8H4Lzx6"
      },
      "id": "b5Ptu8H4Lzx6",
      "execution_count": 4,
      "outputs": []
    },
    {
      "cell_type": "code",
      "source": [
        "import pandas as pd\n",
        "import torch\n",
        "from torch.utils.data import Dataset, DataLoader\n",
        "from collections import Counter\n",
        "import random\n",
        "import numpy as np\n",
        "from PIL import Image\n",
        "from torchvision import transforms\n",
        "\n",
        "# ─── 1) Augmentations for minority classes ────────────────────────────────────\n",
        "\n",
        "aug_transform = transforms.Compose([\n",
        "    transforms.RandomRotation(20),\n",
        "    transforms.ColorJitter(brightness=0.3, contrast=0.3),\n",
        "    transforms.RandomHorizontalFlip(),\n",
        "    transforms.RandomAffine(degrees=0, translate=(0.1, 0.1)),\n",
        "    transforms.ToTensor(),  # finally convert to tensor in [0,1]\n",
        "])\n",
        "\n",
        "# ─── 2) Base “no‐transform” behavior ─────────────────────────────────────────\n",
        "\n",
        "class ExpressionDatasetFromDF(Dataset):\n",
        "    def __init__(self, dataframe):\n",
        "        # Expect columns exactly [\"emotion\", \"pixels\", \"Usage\"]\n",
        "        # Each “pixels” entry is a string of “230  19  …”\n",
        "        self.images = dataframe[\" pixels\"].apply(\n",
        "            lambda x: np.fromstring(x, sep=\" \", dtype=np.uint8).reshape(48, 48)\n",
        "        )\n",
        "        # Stack into a (N, 1, 48, 48) float32 tensor in [0,1]\n",
        "        self.images = torch.tensor(\n",
        "            np.stack(self.images.values), dtype=torch.float32\n",
        "        ).unsqueeze(1) / 255.0\n",
        "        self.labels = torch.tensor(dataframe[\"emotion\"].values, dtype=torch.long)\n",
        "\n",
        "    def __len__(self):\n",
        "        return len(self.labels)\n",
        "\n",
        "    def __getitem__(self, idx):\n",
        "        return self.images[idx], self.labels[idx]\n",
        "\n",
        "\n",
        "# ─── 3) Oversampling / augmentation wrapper ──────────────────────────────────\n",
        "\n",
        "class AugmentedExpressionDataset(Dataset):\n",
        "    def __init__(self, base_dataset, targets, num_aug_per_sample=1):\n",
        "        \"\"\"\n",
        "        base_dataset: an ExpressionDatasetFromDF (no transforms applied)\n",
        "        targets: list of ints (same length as base_dataset)\n",
        "        \"\"\"\n",
        "        self.base_dataset = base_dataset\n",
        "        self.targets = targets\n",
        "        self.class_counts = Counter(targets)\n",
        "        self.max_count = max(self.class_counts.values())\n",
        "\n",
        "        # Build a list of “base indices” to duplicate + augment\n",
        "        self.augmented_indices = []\n",
        "        for cls_label, count in self.class_counts.items():\n",
        "            n_to_add = self.max_count - count\n",
        "            if n_to_add <= 0:\n",
        "                continue\n",
        "            # pick with replacement from all indices whose target == cls_label\n",
        "            indices_of_cls = [\n",
        "                i for i, t in enumerate(targets) if t == cls_label\n",
        "            ]\n",
        "            sampled = random.choices(indices_of_cls, k=n_to_add * num_aug_per_sample)\n",
        "            self.augmented_indices.extend(sampled)\n",
        "\n",
        "        print(f\"‣ Base dataset size: {len(self.base_dataset)}\")\n",
        "        print(f\"‣ Augmenting {len(self.augmented_indices)} extra samples to balance classes.\")\n",
        "        print(f\"‣ Resulting dataset size: {len(self.base_dataset) + len(self.augmented_indices)}\")\n",
        "\n",
        "    def __len__(self):\n",
        "        return len(self.base_dataset) + len(self.augmented_indices)\n",
        "\n",
        "    def __getitem__(self, idx):\n",
        "        if idx < len(self.base_dataset):\n",
        "            # no augmentation for the “original” sample\n",
        "            img_tensor, label = self.base_dataset[idx]\n",
        "            return img_tensor, label\n",
        "        else:\n",
        "            # for augmented ones: take the base index, convert back to PIL, augment, then ToTensor\n",
        "            base_idx = self.augmented_indices[idx - len(self.base_dataset)]\n",
        "            img_tensor, label = self.base_dataset[base_idx]\n",
        "            # img_tensor is (1,48,48) float in [0,1]. Convert back to uint8 PIL:\n",
        "            arr_uint8 = (img_tensor.squeeze().numpy() * 255).astype(np.uint8)\n",
        "            pil_img = Image.fromarray(arr_uint8, mode=\"L\")\n",
        "            img_aug = aug_transform(pil_img)  # now a (1,48,48) FloatTensor in [0,1]\n",
        "            return img_aug, label\n",
        "\n",
        "\n",
        "# ─── 4) Revised get_data (no more “slice”) ───────────────────────────────────\n",
        "\n",
        "def get_data(csv_file=\"icml_face_data.csv\", train=True):\n",
        "    \"\"\"\n",
        "    - Reads icml_face_data.csv (which has exactly [\"emotion\",\"pixels\",\"Usage\"]).\n",
        "    - Splits by Usage == \"Training\" vs. \"PublicTest\".\n",
        "    - For train: wraps in AugmentedExpressionDataset. For test/val: returns raw dataset.\n",
        "    \"\"\"\n",
        "    full_df = pd.read_csv(csv_file)\n",
        "\n",
        "    if train:\n",
        "        df_part = full_df[full_df[\" Usage\"] == \"Training\"].reset_index(drop=True)\n",
        "    else:\n",
        "        df_part = full_df[full_df[\" Usage\"] == \"PublicTest\"].reset_index(drop=True)\n",
        "\n",
        "    print(f\"‣ Loaded '{'Training' if train else 'PublicTest'}' => {len(df_part)} samples before augmentation/slicing.\")\n",
        "\n",
        "    base_ds = ExpressionDatasetFromDF(df_part)\n",
        "\n",
        "    if train:\n",
        "        targets = df_part[\"emotion\"].tolist()\n",
        "        balanced_ds = AugmentedExpressionDataset(base_ds, targets)\n",
        "        return balanced_ds\n",
        "    else:\n",
        "        return base_ds\n",
        "\n",
        "\n",
        "def make_loader(dataset, batch_size):\n",
        "    return DataLoader(\n",
        "        dataset=dataset,\n",
        "        batch_size=batch_size,\n",
        "        shuffle=True,\n",
        "        pin_memory=True,\n",
        "        num_workers=2,\n",
        "    )\n",
        "\n",
        "\n",
        "# ─── 5) Quick sanity check ───────────────────────────────────────────────────\n",
        "\n",
        "if __name__ == \"__main__\":\n",
        "    # 1) Inspect base “Training” size (should be ~28,709 for FER2013).\n",
        "    train_ds = get_data(csv_file=\"icml_face_data.csv\", train=True)\n",
        "    print(f\"Len of train_ds (after augmentation): {len(train_ds)}\\n\")\n",
        "\n",
        "    # 2) Inspect base “PublicTest” size (should be ~3,589).\n",
        "    val_ds = get_data(csv_file=\"icml_face_data.csv\", train=False)\n",
        "    print(f\"Len of val_ds (no augmentation): {len(val_ds)}\\n\")\n",
        "\n",
        "    # 3) Create DataLoader and confirm iteration count\n",
        "    train_loader = make_loader(train_ds, batch_size=64)\n",
        "    total_seen = sum(len(batch[0]) for batch in train_loader)\n",
        "    print(f\"Total images seen via train_loader: {total_seen}\")\n"
      ],
      "metadata": {
        "id": "D1ye0F1iHqSC",
        "colab": {
          "base_uri": "https://localhost:8080/"
        },
        "outputId": "3fc82e9a-b055-41fc-edaa-1d1abb1dd258"
      },
      "id": "D1ye0F1iHqSC",
      "execution_count": 17,
      "outputs": [
        {
          "output_type": "stream",
          "name": "stdout",
          "text": [
            "‣ Loaded 'Training' => 28709 samples before augmentation/slicing.\n",
            "‣ Base dataset size: 28709\n",
            "‣ Augmenting 21796 extra samples to balance classes.\n",
            "‣ Resulting dataset size: 50505\n",
            "Len of train_ds (after augmentation): 50505\n",
            "\n",
            "‣ Loaded 'PublicTest' => 3589 samples before augmentation/slicing.\n",
            "Len of val_ds (no augmentation): 3589\n",
            "\n",
            "Total images seen via train_loader: 50505\n"
          ]
        }
      ]
    },
    {
      "cell_type": "markdown",
      "source": [
        "## test that loading was ok"
      ],
      "metadata": {
        "id": "RsFhOzV_PHxI"
      },
      "id": "RsFhOzV_PHxI"
    },
    {
      "cell_type": "code",
      "source": [
        "# Load and create loader\n",
        "dataset = get_data(train=False)\n",
        "loader = make_loader(dataset, batch_size=3)\n",
        "\n",
        "# Get a batch\n",
        "images, labels = next(iter(loader))\n",
        "\n",
        "# Class names from FER2013\n",
        "emotion_names = [\n",
        "    \"Angry\", \"Disgust\", \"Fear\", \"Happy\", \"Sad\", \"Surprise\", \"Neutral\"\n",
        "]\n",
        "\n",
        "# Plot the first 3 images\n",
        "plt.figure(figsize=(10, 4))\n",
        "for i in range(3):\n",
        "    plt.subplot(1, 3, i + 1)\n",
        "    plt.imshow(images[i][0], cmap='gray')\n",
        "    plt.title(f\"Label: {emotion_names[labels[i].item()]}\")\n",
        "    plt.axis('off')\n",
        "plt.tight_layout()\n",
        "plt.show()\n"
      ],
      "metadata": {
        "id": "NvgplaWYHJX6",
        "colab": {
          "base_uri": "https://localhost:8080/",
          "height": 372
        },
        "outputId": "71411aae-a0a4-4208-cfd7-ee0ef8500263"
      },
      "id": "NvgplaWYHJX6",
      "execution_count": 6,
      "outputs": [
        {
          "output_type": "display_data",
          "data": {
            "text/plain": [
              "<Figure size 1000x400 with 3 Axes>"
            ],
            "image/png": "[encoded data removed]"
          },
          "metadata": {}
        }
      ]
    },
    {
      "cell_type": "markdown",
      "source": [
        "# connecting WANDB"
      ],
      "metadata": {
        "id": "XhwXYgieSf7u"
      },
      "id": "XhwXYgieSf7u"
    },
    {
      "cell_type": "code",
      "source": [
        "import os\n",
        "import random\n",
        "\n",
        "import numpy as np\n",
        "import torch\n",
        "import torch.nn as nn\n",
        "import torchvision\n",
        "import torchvision.transforms as transforms\n",
        "from tqdm.auto import tqdm\n",
        "\n",
        "# Ensure deterministic behavior\n",
        "torch.backends.cudnn.deterministic = True\n",
        "random.seed(hash(\"setting random seeds\") % 2**32 - 1)\n",
        "np.random.seed(hash(\"improves reproducibility\") % 2**32 - 1)\n",
        "torch.manual_seed(hash(\"by removing stochasticity\") % 2**32 - 1)\n",
        "torch.cuda.manual_seed_all(hash(\"so runs are repeatable\") % 2**32 - 1)\n",
        "\n",
        "# Device configuration\n",
        "device = torch.device(\"cuda:0\" if torch.cuda.is_available() else \"cpu\")\n"
      ],
      "metadata": {
        "id": "zt2tymF2Se4p"
      },
      "id": "zt2tymF2Se4p",
      "execution_count": 7,
      "outputs": []
    },
    {
      "cell_type": "code",
      "source": [
        "import wandb\n",
        "wandb.login()"
      ],
      "metadata": {
        "id": "l2Op72b3SsY1",
        "colab": {
          "base_uri": "https://localhost:8080/",
          "height": 211
        },
        "outputId": "e9e2456e-0151-4b5e-a1d0-2d610a3e0b58"
      },
      "id": "l2Op72b3SsY1",
      "execution_count": 8,
      "outputs": [
        {
          "output_type": "display_data",
          "data": {
            "text/plain": [
              "<IPython.core.display.Javascript object>"
            ],
            "application/javascript": [
              "\n",
              "        window._wandbApiKey = new Promise((resolve, reject) => {\n",
              "            function loadScript(url) {\n",
              "            return new Promise(function(resolve, reject) {\n",
              "                let newScript = document.createElement(\"script\");\n",
              "                newScript.onerror = reject;\n",
              "                newScript.onload = resolve;\n",
              "                document.body.appendChild(newScript);\n",
              "                newScript.src = url;\n",
              "            });\n",
              "            }\n",
              "            loadScript(\"https://cdn.jsdelivr.net/npm/postmate/build/postmate.min.js\").then(() => {\n",
              "            const iframe = document.createElement('iframe')\n",
              "            iframe.style.cssText = \"width:0;height:0;border:none\"\n",
              "            document.body.appendChild(iframe)\n",
              "            const handshake = new Postmate({\n",
              "                container: iframe,\n",
              "                url: 'https://wandb.ai/authorize'\n",
              "            });\n",
              "            const timeout = setTimeout(() => reject(\"Couldn't auto authenticate\"), 5000)\n",
              "            handshake.then(function(child) {\n",
              "                child.on('authorize', data => {\n",
              "                    clearTimeout(timeout)\n",
              "                    resolve(data)\n",
              "                });\n",
              "            });\n",
              "            })\n",
              "        });\n",
              "    "
            ]
          },
          "metadata": {}
        },
        {
          "output_type": "stream",
          "name": "stderr",
          "text": [
            "\u001b[34m\u001b[1mwandb\u001b[0m: Logging into wandb.ai. (Learn how to deploy a W&B server locally: https://wandb.me/wandb-server)\n",
            "\u001b[34m\u001b[1mwandb\u001b[0m: You can find your API key in your browser here: https://wandb.ai/authorize\n",
            "wandb: Paste an API key from your profile and hit enter:"
          ]
        },
        {
          "name": "stdout",
          "output_type": "stream",
          "text": [
            " ··········\n"
          ]
        },
        {
          "output_type": "stream",
          "name": "stderr",
          "text": [
            "\u001b[34m\u001b[1mwandb\u001b[0m: \u001b[33mWARNING\u001b[0m If you're specifying your api key in code, ensure this code is not shared publicly.\n",
            "\u001b[34m\u001b[1mwandb\u001b[0m: \u001b[33mWARNING\u001b[0m Consider setting the WANDB_API_KEY environment variable, or running `wandb login` from the command line.\n",
            "\u001b[34m\u001b[1mwandb\u001b[0m: No netrc file found, creating one.\n",
            "\u001b[34m\u001b[1mwandb\u001b[0m: Appending key for api.wandb.ai to your netrc file: /root/.netrc\n",
            "\u001b[34m\u001b[1mwandb\u001b[0m: Currently logged in as: \u001b[33marazm21\u001b[0m (\u001b[33marazm21-free-university-of-tbilisi-\u001b[0m) to \u001b[32mhttps://api.wandb.ai\u001b[0m. Use \u001b[1m`wandb login --relogin`\u001b[0m to force relogin\n"
          ]
        },
        {
          "output_type": "execute_result",
          "data": {
            "text/plain": [
              "True"
            ]
          },
          "metadata": {},
          "execution_count": 8
        }
      ]
    },
    {
      "cell_type": "markdown",
      "source": [
        "# different attempted architectures"
      ],
      "metadata": {
        "id": "FjvVv9RPXFbN"
      },
      "id": "FjvVv9RPXFbN"
    },
    {
      "cell_type": "markdown",
      "source": [
        "## baseline model"
      ],
      "metadata": {
        "id": "5jXpkWMRxArB"
      },
      "id": "5jXpkWMRxArB"
    },
    {
      "cell_type": "code",
      "source": [
        "class BaselineModel(nn.Module):\n",
        "    def __init__(self):\n",
        "      super().__init__()\n",
        "\n",
        "      self.conv1 = nn.Conv2d(1, 32, kernel_size = 3, padding = 1)\n",
        "      self.conv2 = nn.Conv2d(32, 64, kernel_size = 3, padding = 1)\n",
        "      self.conv3 = nn.Conv2d(64, 128, kernel_size = 3, padding = 1)\n",
        "      self.pooling = nn.MaxPool2d(2,2)\n",
        "      self.relu = nn.ReLU()\n",
        "\n",
        "      self.flatten = nn.Flatten()\n",
        "      self.linear = nn.Linear((128 * 6 * 6), 128)\n",
        "      self.output = nn.Linear(128, 7)\n",
        "\n",
        "\n",
        "    def forward(self, x):\n",
        "      x = self.conv1(x)\n",
        "      x = self.pooling(x)\n",
        "      x = self.relu(x)\n",
        "      x = self.conv2(x)\n",
        "      x = self.pooling(x)\n",
        "      x = self.relu(x)\n",
        "      x = self.conv3(x)\n",
        "      x = self.pooling(x)\n",
        "      x = self.relu(x)\n",
        "      x = self.flatten(x)\n",
        "      x = self.linear(x)\n",
        "      x = self.output(x)\n",
        "\n",
        "      return x"
      ],
      "metadata": {
        "id": "vJXLEBWwxESi"
      },
      "id": "vJXLEBWwxESi",
      "execution_count": 73,
      "outputs": []
    },
    {
      "cell_type": "markdown",
      "source": [
        "## enhanced baseline model"
      ],
      "metadata": {
        "id": "UdBMGddGyZl9"
      },
      "id": "UdBMGddGyZl9"
    },
    {
      "cell_type": "code",
      "source": [
        "import torch.nn as nn\n",
        "import torch.nn.functional as F\n",
        "\n",
        "class EnhancedBaselineModel(nn.Module):\n",
        "    def __init__(self):\n",
        "        super().__init__()\n",
        "\n",
        "        self.features = nn.Sequential(\n",
        "            nn.Conv2d(1, 64, kernel_size=3, padding=1),\n",
        "            nn.BatchNorm2d(64),\n",
        "            nn.ReLU(),\n",
        "            nn.MaxPool2d(2, 2),  # 48 -> 24\n",
        "\n",
        "            nn.Conv2d(64, 128, kernel_size=3, padding=1),\n",
        "            nn.BatchNorm2d(128),\n",
        "            nn.ReLU(),\n",
        "            nn.MaxPool2d(2, 2),  # 24 -> 12\n",
        "\n",
        "            nn.Conv2d(128, 256, kernel_size=3, padding=1),\n",
        "            nn.BatchNorm2d(256),\n",
        "            nn.ReLU(),\n",
        "            nn.MaxPool2d(2, 2),  # 12 -> 6\n",
        "\n",
        "            nn.Conv2d(256, 512, kernel_size=3, padding=1),\n",
        "            nn.BatchNorm2d(512),\n",
        "            nn.ReLU(),\n",
        "            nn.MaxPool2d(2, 2),  # 6 -> 3\n",
        "        )\n",
        "\n",
        "        self.classifier = nn.Sequential(\n",
        "            nn.Flatten(),\n",
        "            nn.Dropout(0.5),\n",
        "            nn.Linear(512 * 3 * 3, 256),\n",
        "            nn.ReLU(),\n",
        "            nn.Dropout(0.5),\n",
        "            nn.Linear(256, 7)\n",
        "        )\n",
        "\n",
        "    def forward(self, x):\n",
        "        x = self.features(x)\n",
        "        x = self.classifier(x)\n",
        "        return x\n"
      ],
      "metadata": {
        "id": "Cy1jxwZQyaYe"
      },
      "id": "Cy1jxwZQyaYe",
      "execution_count": 10,
      "outputs": []
    },
    {
      "cell_type": "markdown",
      "source": [
        "## ImprovedModel"
      ],
      "metadata": {
        "id": "6Y6FOkFKqwWc"
      },
      "id": "6Y6FOkFKqwWc"
    },
    {
      "cell_type": "code",
      "source": [
        "import torch.nn as nn\n",
        "\n",
        "class ImprovedModel(nn.Module):\n",
        "    def __init__(self, dropout_p=0.5):\n",
        "        super().__init__()\n",
        "        # — conv backbone with 4 pooling stages —\n",
        "        self.conv1    = nn.Conv2d(1,   32, 3, padding=1, bias=False)\n",
        "        self.bn1      = nn.BatchNorm2d(32)\n",
        "        self.conv2    = nn.Conv2d(32,  64, 3, padding=1, bias=False)\n",
        "        self.bn2      = nn.BatchNorm2d(64)\n",
        "        self.conv3    = nn.Conv2d(64, 128, 3, padding=1, bias=False)\n",
        "        self.bn3      = nn.BatchNorm2d(128)\n",
        "        self.conv4    = nn.Conv2d(128,256, 3, padding=1, bias=False)\n",
        "        self.bn4      = nn.BatchNorm2d(256)\n",
        "\n",
        "        self.pool     = nn.MaxPool2d(2,2)\n",
        "        self.relu     = nn.ReLU(inplace=True)\n",
        "        self.drop_conv= nn.Dropout2d(dropout_p)\n",
        "\n",
        "        # # — two extra conv layers (no further pooling) —\n",
        "        # self.conv5    = nn.Conv2d(256, 512, 3, padding=1, bias=False)\n",
        "        # self.bn5      = nn.BatchNorm2d(512)\n",
        "        # self.conv6    = nn.Conv2d(512, 512, 3, padding=1, bias=False)\n",
        "        # self.bn6      = nn.BatchNorm2d(512)\n",
        "\n",
        "        # — richer head with 4 FCs —\n",
        "        self.flatten  = nn.Flatten()\n",
        "        # Corrected input size for the first linear layer\n",
        "        self.fc1      = nn.Linear(256 * 3 * 3, 512, bias=False) # 256 channels * 3x3 spatial size\n",
        "        self.bn_fc1   = nn.BatchNorm1d(512)\n",
        "        self.drop1    = nn.Dropout(dropout_p)\n",
        "        self.fc2      = nn.Linear(512, 256, bias=False)\n",
        "        self.bn_fc2   = nn.BatchNorm1d(256)\n",
        "        self.drop2    = nn.Dropout(dropout_p)\n",
        "        self.fc3      = nn.Linear(256, 128, bias=False)\n",
        "        self.bn_fc3   = nn.BatchNorm1d(128)\n",
        "        self.drop3    = nn.Dropout(dropout_p)\n",
        "        self.fc4      = nn.Linear(128, 64, bias=False)\n",
        "        self.bn_fc4   = nn.BatchNorm1d(64)\n",
        "        self.drop4    = nn.Dropout(dropout_p)\n",
        "        self.output   = nn.Linear(64, 7)\n",
        "\n",
        "    def forward(self, x):\n",
        "        # conv blocks 1–4 with pooling\n",
        "        for conv, bn in [(self.conv1,self.bn1),\n",
        "                         (self.conv2,self.bn2),\n",
        "                         (self.conv3,self.bn3),\n",
        "                         (self.conv4,self.bn4)]:\n",
        "            x = conv(x)\n",
        "            x = bn(x)\n",
        "            x = self.relu(x)\n",
        "            x = self.pool(x)\n",
        "            x = self.drop_conv(x)\n",
        "\n",
        "        # # extra conv blocks 5–6 (no more pooling)\n",
        "        # x = self.conv5(x)\n",
        "        # x = self.bn5(x)\n",
        "        # x = self.relu(x)\n",
        "        # x = self.drop_conv(x)\n",
        "\n",
        "        # x = self.conv6(x)\n",
        "        # x = self.bn6(x)\n",
        "        # x = self.relu(x)\n",
        "        # x = self.drop_conv(x)\n",
        "\n",
        "        # FC head\n",
        "        x = self.flatten(x)\n",
        "        x = self.fc1(x)\n",
        "        x = self.bn_fc1(x)\n",
        "        x = self.relu(x)\n",
        "        x = self.drop1(x)\n",
        "\n",
        "        x = self.fc2(x)\n",
        "        x = self.bn_fc2(x)\n",
        "        x = self.relu(x)\n",
        "        x = self.drop2(x)\n",
        "\n",
        "        x = self.fc3(x)\n",
        "        x = self.bn_fc3(x)\n",
        "        x = self.relu(x)\n",
        "        x = self.drop3(x)\n",
        "\n",
        "        x = self.fc4(x)\n",
        "        x = self.bn_fc4(x)\n",
        "        x = self.relu(x)\n",
        "        x = self.drop4(x)\n",
        "\n",
        "        x = self.output(x)\n",
        "        return x"
      ],
      "metadata": {
        "id": "YVdHBSmXqwFC"
      },
      "id": "YVdHBSmXqwFC",
      "execution_count": 67,
      "outputs": []
    },
    {
      "cell_type": "markdown",
      "source": [
        "## convnet"
      ],
      "metadata": {
        "id": "jjCDTHA1RHhj"
      },
      "id": "jjCDTHA1RHhj"
    },
    {
      "cell_type": "code",
      "source": [
        "# import torch.nn as nn\n",
        "\n",
        "# class ConvNet_super_simple(nn.Module):\n",
        "#     def __init__(self, kernels, classes=7):\n",
        "#         super(ConvNet_super_simple, self).__init__()\n",
        "\n",
        "#         self.layer1 = nn.Sequential(\n",
        "#             nn.Conv2d(1, kernels[0], kernel_size=5, stride=1, padding=2),\n",
        "#             nn.ReLU(),\n",
        "#             nn.MaxPool2d(kernel_size=2, stride=2)\n",
        "#         )\n",
        "#         self.layer2 = nn.Sequential(\n",
        "#             nn.Conv2d(kernels[0], kernels[1], kernel_size=5, stride=1, padding=2),\n",
        "#             nn.ReLU(),\n",
        "#             nn.MaxPool2d(kernel_size=2, stride=2)\n",
        "#         )\n",
        "\n",
        "#         # Assuming 48x48 input, after two 2x2 poolings -> 48/2/2 = 12x12\n",
        "#         self.fc = nn.Linear(12 * 12 * kernels[1], classes)\n",
        "\n",
        "#     def forward(self, x):\n",
        "#         out = self.layer1(x)\n",
        "#         out = self.layer2(out)\n",
        "#         out = out.view(out.size(0), -1)\n",
        "#         out = self.fc(out)\n",
        "#         return out\n",
        "import torch\n",
        "import torch.nn as nn\n",
        "\n",
        "class ConvNet_Improved(nn.Module):\n",
        "    def __init__(self, kernels, classes=7):\n",
        "        super(ConvNet_Improved, self).__init__()\n",
        "\n",
        "        # First conv block\n",
        "        self.conv1 = nn.Conv2d(1, kernels[0], kernel_size=3, stride=1, padding=1)\n",
        "        self.bn1 = nn.BatchNorm2d(kernels[0])\n",
        "        self.relu1 = nn.ReLU()\n",
        "        self.dropout1 = nn.Dropout(0.2)\n",
        "        self.pool1 = nn.MaxPool2d(kernel_size=2, stride=2)\n",
        "\n",
        "        # Second conv block\n",
        "        self.conv2 = nn.Conv2d(kernels[0], kernels[1], kernel_size=3, stride=1, padding=1)\n",
        "        self.bn2 = nn.BatchNorm2d(kernels[1])\n",
        "        self.relu2 = nn.ReLU()\n",
        "        self.dropout2 = nn.Dropout(0.3)\n",
        "        self.pool2 = nn.MaxPool2d(kernel_size=2, stride=2)\n",
        "\n",
        "        # Third conv block\n",
        "        self.conv3 = nn.Conv2d(kernels[1], kernels[2], kernel_size=3, stride=1, padding=1)\n",
        "        self.bn3 = nn.BatchNorm2d(kernels[2])\n",
        "        self.relu3 = nn.ReLU()\n",
        "        self.dropout3 = nn.Dropout(0.4)\n",
        "        self.pool3 = nn.MaxPool2d(kernel_size=2, stride=2)\n",
        "\n",
        "        # Assuming 48x48 input → 3 poolings: 48 → 24 → 12 → 6\n",
        "        self.flattened_dim = 6 * 6 * kernels[2]\n",
        "        self.fc = nn.Linear(self.flattened_dim, classes)\n",
        "\n",
        "    def forward(self, x):\n",
        "        x = self.pool1(self.dropout1(self.relu1(self.bn1(self.conv1(x)))))\n",
        "        x = self.pool2(self.dropout2(self.relu2(self.bn2(self.conv2(x)))))\n",
        "        x = self.pool3(self.dropout3(self.relu3(self.bn3(self.conv3(x)))))\n",
        "\n",
        "        x = x.view(x.size(0), -1)\n",
        "        x = self.fc(x)\n",
        "        return x\n"
      ],
      "metadata": {
        "id": "RaFvctrZTf1t"
      },
      "id": "RaFvctrZTf1t",
      "execution_count": 9,
      "outputs": []
    },
    {
      "cell_type": "markdown",
      "source": [
        "## resnet"
      ],
      "metadata": {
        "id": "cumrZOH9Sj1A"
      },
      "id": "cumrZOH9Sj1A"
    },
    {
      "cell_type": "code",
      "source": [
        "import torch\n",
        "import torch.nn as nn\n",
        "import torch.nn.functional as F\n",
        "\n",
        "class ResidualBlock(nn.Module):\n",
        "    def __init__(self, in_channels, out_channels, downsample=False, dropout_rate=0.2):\n",
        "        super(ResidualBlock, self).__init__()\n",
        "        stride = 2 if downsample else 1\n",
        "\n",
        "        self.conv1 = nn.Conv2d(in_channels, out_channels, kernel_size=3, stride=stride, padding=1)\n",
        "        self.bn1 = nn.BatchNorm2d(out_channels)\n",
        "        self.conv2 = nn.Conv2d(out_channels, out_channels, kernel_size=3, padding=1)\n",
        "        self.bn2 = nn.BatchNorm2d(out_channels)\n",
        "\n",
        "        self.shortcut = nn.Sequential()\n",
        "        if downsample or in_channels != out_channels:\n",
        "            self.shortcut = nn.Sequential(\n",
        "                nn.Conv2d(in_channels, out_channels, kernel_size=1, stride=stride),\n",
        "                nn.BatchNorm2d(out_channels)\n",
        "            )\n",
        "\n",
        "        self.dropout = nn.Dropout2d(dropout_rate)\n",
        "\n",
        "    def forward(self, x):\n",
        "        identity = self.shortcut(x)\n",
        "        out = F.relu(self.bn1(self.conv1(x)))\n",
        "        out = self.bn2(self.conv2(out))\n",
        "        # out = self.dropout(out)  # ✅ Dropout after residual addition\n",
        "        out += identity\n",
        "        out = F.relu(out)\n",
        "\n",
        "        return out\n",
        "\n",
        "class SimpleResNet15(nn.Module):\n",
        "    def __init__(self, in_channels=1, num_classes=7, dropout_rate=0.13):\n",
        "        super(SimpleResNet15, self).__init__()\n",
        "\n",
        "        self.entry = nn.Sequential(\n",
        "            nn.Conv2d(in_channels, 32, kernel_size=3, padding=1),\n",
        "            nn.BatchNorm2d(32),\n",
        "            nn.ReLU()\n",
        "        )\n",
        "        self.layers = nn.Sequential(\n",
        "          ResidualBlock(32, 64, downsample=True, dropout_rate=dropout_rate),\n",
        "          ResidualBlock(64, 128, downsample=True, dropout_rate=dropout_rate),\n",
        "          ResidualBlock(128, 256, downsample=True, dropout_rate=dropout_rate),\n",
        "          ResidualBlock(256, 512, downsample=True, dropout_rate=dropout_rate),\n",
        "          ResidualBlock(512, 1024, downsample=True, dropout_rate=dropout_rate),\n",
        "          ResidualBlock(1024, 2048, downsample=True, dropout_rate=dropout_rate),\n",
        "          ResidualBlock(2048, 2048, downsample=True, dropout_rate=dropout_rate),\n",
        "          ResidualBlock(2048, 2048, downsample=True, dropout_rate=dropout_rate),\n",
        "\n",
        "          ResidualBlock(2048, 1024, downsample=True, dropout_rate=dropout_rate),\n",
        "          ResidualBlock(1024, 512, downsample=True, dropout_rate=dropout_rate),\n",
        "          ResidualBlock(512, 256, downsample=True, dropout_rate=dropout_rate),\n",
        "\n",
        "          ResidualBlock(256, 256, downsample=False, dropout_rate=dropout_rate),\n",
        "          ResidualBlock(256, 256, downsample=False, dropout_rate=dropout_rate)\n",
        "        )\n",
        "\n",
        "        self.pool = nn.AdaptiveAvgPool2d((1, 1))\n",
        "        self.fc = nn.Linear(256, 256)\n",
        "        self.fc = nn.Linear(256, num_classes)\n",
        "\n",
        "    def forward(self, x):\n",
        "        x = self.entry(x)\n",
        "        x = self.layers(x)\n",
        "        x = self.pool(x)\n",
        "        x = x.view(x.size(0), -1)\n",
        "        return self.fc(x)\n"
      ],
      "metadata": {
        "id": "PFYKchqhXTSt"
      },
      "id": "PFYKchqhXTSt",
      "execution_count": 8,
      "outputs": []
    },
    {
      "cell_type": "markdown",
      "source": [
        "## googlenet(mini)"
      ],
      "metadata": {
        "id": "ltk-bzVKSnDU"
      },
      "id": "ltk-bzVKSnDU"
    },
    {
      "cell_type": "code",
      "source": [
        "import torch\n",
        "import torch.nn as nn\n",
        "import torch.nn.functional as F\n",
        "\n",
        "# class MiniInception(nn.Module):\n",
        "#     def __init__(self, in_ch, c1, c3red, c3, pool_proj):\n",
        "#         super().__init__()\n",
        "#         # 1×1 branch\n",
        "#         self.b1 = nn.Conv2d(in_ch, c1, kernel_size=1)\n",
        "#         # 1×1 → 3×3 branch\n",
        "#         self.b2_1 = nn.Conv2d(in_ch, c3red, kernel_size=1)\n",
        "#         self.b2_2 = nn.Conv2d(c3red, c3,   kernel_size=3, padding=1)\n",
        "#         # pool → 1×1 branch\n",
        "#         self.b3_pool = nn.MaxPool2d(3, stride=1, padding=1)\n",
        "#         self.b3_proj = nn.Conv2d(in_ch, pool_proj, kernel_size=1)\n",
        "#         self.bn = nn.BatchNorm2d(c1 + c3 + pool_proj)\n",
        "\n",
        "#     def forward(self, x):\n",
        "#         b1 = self.b1(x)\n",
        "#         b2 = self.b2_2(F.relu(self.b2_1(x)))\n",
        "#         b3 = self.b3_proj(self.b3_pool(x))\n",
        "#         out = torch.cat([b1, b2, b3], dim=1)\n",
        "#         return F.relu(self.bn(out))\n",
        "\n",
        "\n",
        "# class MiniGoogLeNet(nn.Module):\n",
        "#     def __init__(self, num_classes=7, aux_on=True):\n",
        "#         super().__init__()\n",
        "#         self.aux_on = aux_on\n",
        "\n",
        "#         # ---- stem ----\n",
        "#         self.stem = nn.Sequential(\n",
        "#             nn.Conv2d(1, 32, 3, padding=1),\n",
        "#             nn.BatchNorm2d(32), nn.ReLU(),\n",
        "#             nn.MaxPool2d(2, 2)  # 48→24\n",
        "#         )\n",
        "\n",
        "#         # ---- two Inception blocks ----\n",
        "#         self.inc1 = MiniInception(32, c1=16, c3red=16, c3=24, pool_proj=16)  # outputs 56\n",
        "#         self.inc2 = MiniInception(56, c1=32, c3red=24, c3=32, pool_proj=24)  # outputs 88\n",
        "\n",
        "#         # auxiliary head (after inc1)\n",
        "#         if aux_on:\n",
        "#             self.aux = nn.Sequential(\n",
        "#                 nn.AdaptiveAvgPool2d((4,4)),\n",
        "#                 nn.Conv2d(56, 32, 1), nn.ReLU(),\n",
        "#                 nn.Flatten(),\n",
        "#                 nn.Linear(32*4*4, 128), nn.ReLU(), nn.Dropout(0.5),\n",
        "#                 nn.Linear(128, num_classes)\n",
        "#             )\n",
        "\n",
        "#         # ---- classifier head ----\n",
        "#         self.pool = nn.AdaptiveAvgPool2d((1,1))\n",
        "#         self.fc   = nn.Sequential(\n",
        "#             nn.Flatten(),\n",
        "#             nn.Dropout(0.5),\n",
        "#             nn.Linear(88, num_classes)\n",
        "#         )\n",
        "\n",
        "#     def forward(self, x):\n",
        "#         x = self.stem(x)            # → [B,32,24,24]\n",
        "#         x1 = self.inc1(x)           # → [B,56,24,24]\n",
        "\n",
        "#         # you can still compute aux_out if you want,\n",
        "#         # but we won't return it so training code stays unchanged\n",
        "#         if self.training and self.aux_on:\n",
        "#             _ = self.aux(x1)\n",
        "\n",
        "#         x2 = F.max_pool2d(x1, 2, 2) # → [B,56,12,12]\n",
        "#         x2 = self.inc2(x2)          # → [B,88,12,12]\n",
        "\n",
        "#         x3 = self.pool(x2)          # → [B,88,1,1]\n",
        "#         main_out = self.fc(x3)      # → [B,num_classes]\n",
        "\n",
        "#         return main_out\n",
        "class MiniInception(nn.Module):\n",
        "    def __init__(self, in_ch, c1, c3red, c3, pool_proj, dropout=0.2):\n",
        "        super().__init__()\n",
        "        # 1×1 branch\n",
        "        self.b1 = nn.Conv2d(in_ch, c1, 1)\n",
        "        # 1×1 → 3×3 branch\n",
        "        self.b2_1 = nn.Conv2d(in_ch, c3red, 1)\n",
        "        self.b2_2 = nn.Conv2d(c3red, c3, 3, padding=1)\n",
        "        # pool → 1×1 branch\n",
        "        self.b3_pool = nn.MaxPool2d(3, stride=1, padding=1)\n",
        "        self.b3_proj = nn.Conv2d(in_ch, pool_proj, 1)\n",
        "\n",
        "        self.bn = nn.BatchNorm2d(c1 + c3 + pool_proj)\n",
        "        self.dropout = nn.Dropout2d(dropout)\n",
        "\n",
        "    def forward(self, x):\n",
        "        b1 = self.b1(x)\n",
        "        b2 = self.b2_2(F.relu(self.b2_1(x)))\n",
        "        b3 = self.b3_proj(self.b3_pool(x))\n",
        "        out = torch.cat([b1, b2, b3], dim=1)\n",
        "        out = F.relu(self.bn(out))\n",
        "        return self.dropout(out)\n",
        "\n",
        "\n",
        "class ComplexMiniGoogLeNet(nn.Module):\n",
        "    def __init__(self, num_classes=7, aux_on=True):\n",
        "        super().__init__()\n",
        "        self.aux_on = aux_on\n",
        "\n",
        "        # ── Stem ──\n",
        "        self.stem = nn.Sequential(\n",
        "            nn.Conv2d(1, 32, 3, padding=1),\n",
        "            nn.BatchNorm2d(32), nn.ReLU(),\n",
        "            nn.MaxPool2d(2, 2)  # 48 → 24\n",
        "        )\n",
        "\n",
        "        # ── Inception Blocks ──\n",
        "        self.inc1 = MiniInception(32, c1=16, c3red=16, c3=32, pool_proj=16, dropout=0.2)   # →64 ch\n",
        "        self.inc2 = MiniInception(64, c1=24, c3red=24, c3=48, pool_proj=24, dropout=0.2)   # →96 ch\n",
        "        self.inc3 = MiniInception(96, c1=32, c3red=32, c3=64, pool_proj=32, dropout=0.3)   # →128 ch\n",
        "\n",
        "        # ── Auxiliary head (computed but not returned) ──\n",
        "        if aux_on:\n",
        "            self.aux = nn.Sequential(\n",
        "                nn.AdaptiveAvgPool2d((4, 4)),\n",
        "                nn.Conv2d(96, 48, 1), nn.ReLU(),\n",
        "                nn.Flatten(),\n",
        "                nn.Linear(48 * 4 * 4, 256), nn.ReLU(), nn.Dropout(0.5),\n",
        "                nn.Linear(256, num_classes)\n",
        "            )\n",
        "\n",
        "        # ── Final classifier ──\n",
        "        self.final_pool = nn.AdaptiveAvgPool2d((1, 1))\n",
        "        self.classifier = nn.Sequential(\n",
        "            nn.Flatten(),\n",
        "            nn.Dropout(0.5),\n",
        "            nn.Linear(128, num_classes)\n",
        "        )\n",
        "\n",
        "    def forward(self, x):\n",
        "        x = self.stem(x)          # → [B,32,24,24]\n",
        "        x1 = self.inc1(x)         # → [B,64,24,24]\n",
        "        x2 = self.inc2(x1)        # → [B,96,24,24]\n",
        "\n",
        "        # compute aux but ignore its output\n",
        "        if self.training and self.aux_on:\n",
        "            _ = self.aux(x2)\n",
        "\n",
        "        x3 = F.max_pool2d(x2, 2, 2)  # → [B,96,12,12]\n",
        "        x3 = self.inc3(x3)           # → [B,128,12,12]\n",
        "\n",
        "        x4 = self.final_pool(x3)     # → [B,128,1,1]\n",
        "        main_out = self.classifier(x4)\n",
        "        return main_out"
      ],
      "metadata": {
        "id": "2ydG-CJ4SsQ_"
      },
      "id": "2ydG-CJ4SsQ_",
      "execution_count": 18,
      "outputs": []
    },
    {
      "cell_type": "markdown",
      "source": [
        "## densenet"
      ],
      "metadata": {
        "id": "IH2tbOH_Hd8Z"
      },
      "id": "IH2tbOH_Hd8Z"
    },
    {
      "cell_type": "code",
      "source": [
        "import torch\n",
        "import torch.nn as nn\n",
        "import torch.nn.functional as F\n",
        "\n",
        "class DenseLayer(nn.Module):\n",
        "    def __init__(self, in_channels, growth_rate):\n",
        "        super().__init__()\n",
        "        self.bn = nn.BatchNorm2d(in_channels)\n",
        "        self.relu = nn.ReLU(inplace=True)\n",
        "        self.conv = nn.Conv2d(in_channels, growth_rate, kernel_size=3, padding=1, bias=False)\n",
        "\n",
        "    def forward(self, x):\n",
        "        out = self.conv(self.relu(self.bn(x)))\n",
        "        return torch.cat([x, out], dim=1)\n",
        "\n",
        "class DenseBlock(nn.Module):\n",
        "    def __init__(self, in_channels, growth_rate, num_layers):\n",
        "        super().__init__()\n",
        "        layers = []\n",
        "        for _ in range(num_layers):\n",
        "            layers.append(DenseLayer(in_channels, growth_rate))\n",
        "            in_channels += growth_rate\n",
        "        self.block = nn.Sequential(*layers)\n",
        "\n",
        "    def forward(self, x):\n",
        "        return self.block(x)\n",
        "\n",
        "class TransitionLayer(nn.Module):\n",
        "    def __init__(self, in_channels, out_channels):\n",
        "        super().__init__()\n",
        "        self.bn = nn.BatchNorm2d(in_channels)\n",
        "        self.relu = nn.ReLU(inplace=True)\n",
        "        self.conv = nn.Conv2d(in_channels, out_channels, kernel_size=1, bias=False)\n",
        "        self.pool = nn.AvgPool2d(kernel_size=2, stride=2)\n",
        "\n",
        "    def forward(self, x):\n",
        "        x = self.conv(self.relu(self.bn(x)))\n",
        "        return self.pool(x)\n",
        "\n",
        "class MiniDenseNet(nn.Module):\n",
        "    def __init__(self, growth_rate=12, num_classes=7):\n",
        "        super().__init__()\n",
        "        self.conv1 = nn.Conv2d(1, 2 * growth_rate, kernel_size=3, padding=1, bias=False)\n",
        "        num_channels = 2 * growth_rate\n",
        "\n",
        "        self.block1 = DenseBlock(num_channels, growth_rate, num_layers=4)\n",
        "        num_channels += 4 * growth_rate\n",
        "        self.trans1 = TransitionLayer(num_channels, num_channels // 2)\n",
        "        num_channels = num_channels // 2\n",
        "\n",
        "        self.block2 = DenseBlock(num_channels, growth_rate, num_layers=4)\n",
        "        num_channels += 4 * growth_rate\n",
        "        self.trans2 = TransitionLayer(num_channels, num_channels // 2)\n",
        "        num_channels = num_channels // 2\n",
        "\n",
        "        self.bn = nn.BatchNorm2d(num_channels)\n",
        "        self.relu = nn.ReLU(inplace=True)\n",
        "        self.pool = nn.AdaptiveAvgPool2d((1, 1))\n",
        "        self.fc = nn.Linear(num_channels, num_classes)\n",
        "\n",
        "    def forward(self, x):\n",
        "        x = self.conv1(x)\n",
        "        x = self.trans1(self.block1(x))\n",
        "        x = self.trans2(self.block2(x))\n",
        "        x = self.relu(self.bn(x))\n",
        "        x = self.pool(x)\n",
        "        x = torch.flatten(x, 1)\n",
        "        return self.fc(x)\n"
      ],
      "metadata": {
        "id": "s_2N0muZHftN"
      },
      "id": "s_2N0muZHftN",
      "execution_count": 20,
      "outputs": []
    },
    {
      "cell_type": "markdown",
      "source": [
        "## vision transformer"
      ],
      "metadata": {
        "id": "LIri0mc2NmsS"
      },
      "id": "LIri0mc2NmsS"
    },
    {
      "cell_type": "code",
      "source": [
        "import torch\n",
        "from torch import nn\n",
        "from einops.layers.torch import Rearrange\n",
        "from einops import repeat\n",
        "from torch import Tensor\n",
        "\n",
        "\n",
        "class PatchEmbedding(nn.Module):\n",
        "    def __init__(self, in_channels=1, patch_size=8, emb_size=128):\n",
        "        self.patch_size = patch_size\n",
        "        super().__init__()\n",
        "        self.projection = nn.Sequential(\n",
        "            # break-down the image in s1 x s2 patches and flat them\n",
        "            Rearrange('b c (h p1) (w p2) -> b (h w) (p1 p2 c)', p1=patch_size, p2=patch_size),\n",
        "            nn.Linear(patch_size * patch_size * in_channels, emb_size)\n",
        "        )\n",
        "\n",
        "    def forward(self, x: Tensor) -> Tensor:\n",
        "        x = self.projection(x)\n",
        "        return x\n",
        "\n",
        "\n",
        "class Attention(nn.Module):\n",
        "    def __init__(self, dim, n_heads, dropout):\n",
        "        super().__init__()\n",
        "        self.n_heads = n_heads\n",
        "        self.att = torch.nn.MultiheadAttention(embed_dim=dim,\n",
        "                                               num_heads=n_heads,\n",
        "                                               dropout=dropout)\n",
        "        self.q = torch.nn.Linear(dim, dim)\n",
        "        self.k = torch.nn.Linear(dim, dim)\n",
        "        self.v = torch.nn.Linear(dim, dim)\n",
        "\n",
        "    def forward(self, x):\n",
        "        q = self.q(x)\n",
        "        k = self.k(x)\n",
        "        v = self.v(x)\n",
        "        attn_output, attn_output_weights = self.att(x, x, x)\n",
        "        return attn_output\n",
        "\n",
        "\n",
        "class PreNorm(nn.Module):\n",
        "    def __init__(self, dim, fn):\n",
        "        super().__init__()\n",
        "        self.norm = nn.LayerNorm(dim)\n",
        "        self.fn = fn\n",
        "\n",
        "    def forward(self, x, **kwargs):\n",
        "        return self.fn(self.norm(x), **kwargs)\n",
        "\n",
        "\n",
        "class FeedForward(nn.Sequential):\n",
        "    def __init__(self, dim, hidden_dim, dropout=0.):\n",
        "        super().__init__(\n",
        "            nn.Linear(dim, hidden_dim),\n",
        "            nn.GELU(),\n",
        "            nn.Dropout(dropout),\n",
        "            nn.Linear(hidden_dim, dim),\n",
        "            nn.Dropout(dropout)\n",
        "        )\n",
        "\n",
        "\n",
        "class ResidualAdd(nn.Module):\n",
        "    def __init__(self, fn):\n",
        "        super().__init__()\n",
        "        self.fn = fn\n",
        "\n",
        "    def forward(self, x, **kwargs):\n",
        "        res = x\n",
        "        x = self.fn(x, **kwargs)\n",
        "        x += res\n",
        "        return x\n",
        "\n",
        "\n",
        "class ExpressionViT(nn.Module):\n",
        "    def __init__(self, num_classes=7, aux_on=True, img_size=48, patch_size=8,\n",
        "                 emb_dim=128, n_layers=6, dropout=0.1, heads=4):\n",
        "        super().__init__()\n",
        "        self.aux_on = aux_on\n",
        "        self.n_layers = n_layers\n",
        "\n",
        "        # Patching\n",
        "        self.patch_embedding = PatchEmbedding(in_channels=1,\n",
        "                                              patch_size=patch_size,\n",
        "                                              emb_size=emb_dim)\n",
        "\n",
        "        # Learnable params\n",
        "        num_patches = (img_size // patch_size) ** 2\n",
        "        self.pos_embedding = nn.Parameter(\n",
        "            torch.randn(1, num_patches + 1, emb_dim))\n",
        "        self.cls_token = nn.Parameter(torch.randn(1, 1, emb_dim))\n",
        "\n",
        "        # Transformer Encoder\n",
        "        self.layers = nn.ModuleList([])\n",
        "        for _ in range(n_layers):\n",
        "            transformer_block = nn.Sequential(\n",
        "                ResidualAdd(PreNorm(emb_dim, Attention(emb_dim, n_heads=heads, dropout=dropout))),\n",
        "                ResidualAdd(PreNorm(emb_dim, FeedForward(emb_dim, emb_dim, dropout=dropout)))\n",
        "            )\n",
        "            self.layers.append(transformer_block)\n",
        "\n",
        "        # Auxiliary head (after layer n_layers//2, similar to your original design)\n",
        "        if aux_on:\n",
        "            self.aux_head = nn.Sequential(\n",
        "                nn.LayerNorm(emb_dim),\n",
        "                nn.Linear(emb_dim, emb_dim // 2),\n",
        "                nn.GELU(),\n",
        "                nn.Dropout(0.5),\n",
        "                nn.Linear(emb_dim // 2, num_classes)\n",
        "            )\n",
        "\n",
        "        # Main classification head\n",
        "        self.head = nn.Sequential(\n",
        "            nn.LayerNorm(emb_dim),\n",
        "            nn.Dropout(0.5),\n",
        "            nn.Linear(emb_dim, num_classes)\n",
        "        )\n",
        "\n",
        "    def forward(self, img):\n",
        "        # Get patch embedding vectors\n",
        "        x = self.patch_embedding(img)\n",
        "        b, n, _ = x.shape\n",
        "\n",
        "        # Add cls token to inputs\n",
        "        cls_tokens = repeat(self.cls_token, '1 1 d -> b 1 d', b=b)\n",
        "        x = torch.cat([cls_tokens, x], dim=1)\n",
        "        x += self.pos_embedding[:, :(n + 1)]\n",
        "\n",
        "        # Transformer layers\n",
        "        for i in range(self.n_layers):\n",
        "            x = self.layers[i](x)\n",
        "\n",
        "            # Auxiliary output (after middle layer)\n",
        "            if i == self.n_layers // 2 and self.training and self.aux_on:\n",
        "                aux_cls_token = x[:, 0, :]  # Extract cls token\n",
        "                _ = self.aux_head(aux_cls_token)  # Compute but don't return\n",
        "\n",
        "        # Main output based on classification token\n",
        "        main_out = self.head(x[:, 0, :])\n",
        "        return main_out\n",
        "\n",
        "\n",
        "class CompactExpressionViT(nn.Module):\n",
        "    def __init__(self, num_classes=7, aux_on=True):\n",
        "        super().__init__()\n",
        "        self.aux_on = aux_on\n",
        "\n",
        "        # Compact configuration for faster training\n",
        "        img_size = 48\n",
        "        patch_size = 6\n",
        "        emb_dim = 96\n",
        "        n_layers = 4\n",
        "        heads = 3\n",
        "        dropout = 0.2\n",
        "\n",
        "        self.n_layers = n_layers\n",
        "\n",
        "        # Patching\n",
        "        self.patch_embedding = PatchEmbedding(in_channels=1,\n",
        "                                              patch_size=patch_size,\n",
        "                                              emb_size=emb_dim)\n",
        "\n",
        "        # Learnable params\n",
        "        num_patches = (img_size // patch_size) ** 2  # 16 patches\n",
        "        self.pos_embedding = nn.Parameter(\n",
        "            torch.randn(1, num_patches + 1, emb_dim))\n",
        "        self.cls_token = nn.Parameter(torch.randn(1, 1, emb_dim))\n",
        "\n",
        "        # Transformer Encoder\n",
        "        self.layers = nn.ModuleList([])\n",
        "        for _ in range(n_layers):\n",
        "            transformer_block = nn.Sequential(\n",
        "                ResidualAdd(PreNorm(emb_dim, Attention(emb_dim, n_heads=heads, dropout=dropout))),\n",
        "                ResidualAdd(PreNorm(emb_dim, FeedForward(emb_dim, emb_dim * 2, dropout=dropout)))\n",
        "            )\n",
        "            self.layers.append(transformer_block)\n",
        "\n",
        "        # Auxiliary head\n",
        "        if aux_on:\n",
        "            self.aux_head = nn.Sequential(\n",
        "                nn.LayerNorm(emb_dim),\n",
        "                nn.Linear(emb_dim, emb_dim // 2),\n",
        "                nn.GELU(),\n",
        "                nn.Dropout(0.3),\n",
        "                nn.Linear(emb_dim // 2, num_classes)\n",
        "            )\n",
        "\n",
        "        # Main classification head\n",
        "        self.head = nn.Sequential(\n",
        "            nn.LayerNorm(emb_dim),\n",
        "            nn.Dropout(0.3),\n",
        "            nn.Linear(emb_dim, num_classes)\n",
        "        )\n",
        "\n",
        "    def forward(self, img):\n",
        "        # Get patch embedding vectors\n",
        "        x = self.patch_embedding(img)\n",
        "        b, n, _ = x.shape\n",
        "\n",
        "        # Add cls token to inputs\n",
        "        cls_tokens = repeat(self.cls_token, '1 1 d -> b 1 d', b=b)\n",
        "        x = torch.cat([cls_tokens, x], dim=1)\n",
        "        x += self.pos_embedding[:, :(n + 1)]\n",
        "\n",
        "        # Transformer layers\n",
        "        for i in range(self.n_layers):\n",
        "            x = self.layers[i](x)\n",
        "\n",
        "            # Auxiliary output (after 2nd layer for compact model)\n",
        "            if i == 1 and self.training and self.aux_on:\n",
        "                aux_cls_token = x[:, 0, :]\n",
        "                _ = self.aux_head(aux_cls_token)\n",
        "\n",
        "        # Main output based on classification token\n",
        "        main_out = self.head(x[:, 0, :])\n",
        "        return main_out\n",
        "\n",
        "from torch import nn\n",
        "from einops.layers.torch import Rearrange\n",
        "from torch import Tensor\n",
        "\n",
        "\n",
        "class PatchEmbedding(nn.Module):\n",
        "    def __init__(self, in_channels = 1, patch_size = 8, emb_size = 128):\n",
        "        self.patch_size = patch_size\n",
        "        super().__init__()\n",
        "        self.projection = nn.Sequential(\n",
        "            # break-down the image in s1 x s2 patches and flat them\n",
        "            Rearrange('b c (h p1) (w p2) -> b (h w) (p1 p2 c)', p1=patch_size, p2=patch_size),\n",
        "            nn.Linear(patch_size * patch_size * in_channels, emb_size)\n",
        "        )\n",
        "\n",
        "    def forward(self, x: Tensor) -> Tensor:\n",
        "        x = self.projection(x)\n",
        "        return x\n",
        "\n",
        "class Attention(nn.Module):\n",
        "    def __init__(self, dim, n_heads, dropout):\n",
        "        super().__init__()\n",
        "        self.n_heads = n_heads\n",
        "        self.att = torch.nn.MultiheadAttention(embed_dim=dim,\n",
        "                                               num_heads=n_heads,\n",
        "                                               dropout=dropout)\n",
        "        self.q = torch.nn.Linear(dim, dim)\n",
        "        self.k = torch.nn.Linear(dim, dim)\n",
        "        self.v = torch.nn.Linear(dim, dim)\n",
        "\n",
        "    def forward(self, x):\n",
        "        q = self.q(x)\n",
        "        k = self.k(x)\n",
        "        v = self.v(x)\n",
        "        attn_output, attn_output_weights = self.att(x, x, x)\n",
        "        return attn_output\n",
        "\n",
        "class PreNorm(nn.Module):\n",
        "    def __init__(self, dim, fn):\n",
        "        super().__init__()\n",
        "        self.norm = nn.LayerNorm(dim)\n",
        "        self.fn = fn\n",
        "    def forward(self, x, **kwargs):\n",
        "        return self.fn(self.norm(x), **kwargs)\n",
        "\n",
        "class FeedForward(nn.Sequential):\n",
        "    def __init__(self, dim, hidden_dim, dropout = 0.):\n",
        "        super().__init__(\n",
        "            nn.Linear(dim, hidden_dim),\n",
        "            nn.GELU(),\n",
        "            nn.Dropout(dropout),\n",
        "            nn.Linear(hidden_dim, dim),\n",
        "            nn.Dropout(dropout)\n",
        "        )\n",
        "\n",
        "class ResidualAdd(nn.Module):\n",
        "    def __init__(self, fn):\n",
        "        super().__init__()\n",
        "        self.fn = fn\n",
        "\n",
        "    def forward(self, x, **kwargs):\n",
        "        res = x\n",
        "        x = self.fn(x, **kwargs)\n",
        "        x += res\n",
        "        return x\n",
        "\n",
        "from einops import repeat\n",
        "\n",
        "class ViT(nn.Module):\n",
        "    def __init__(self, ch=1, img_size=48, patch_size=4, emb_dim=64,\n",
        "                n_layers=12, out_dim=7, dropout=0.2, heads=8):\n",
        "        super(ViT, self).__init__()\n",
        "\n",
        "        # Attributes\n",
        "        self.channels = ch\n",
        "        self.height = img_size\n",
        "        self.width = img_size\n",
        "        self.patch_size = patch_size\n",
        "        self.n_layers = n_layers\n",
        "\n",
        "        # Patching\n",
        "        self.patch_embedding = PatchEmbedding(in_channels=ch,\n",
        "                                              patch_size=patch_size,\n",
        "                                              emb_size=emb_dim)\n",
        "        # Learnable params\n",
        "        num_patches = (img_size // patch_size) ** 2\n",
        "        self.pos_embedding = nn.Parameter(\n",
        "            torch.randn(1, num_patches + 1, emb_dim))\n",
        "        self.cls_token = nn.Parameter(torch.rand(1, 1, emb_dim))\n",
        "\n",
        "        # Transformer Encoder\n",
        "        self.layers = nn.ModuleList([])\n",
        "        for _ in range(n_layers):\n",
        "            transformer_block = nn.Sequential(\n",
        "                ResidualAdd(PreNorm(emb_dim, Attention(emb_dim, n_heads = heads, dropout = dropout))),\n",
        "                ResidualAdd(PreNorm(emb_dim, FeedForward(emb_dim, emb_dim, dropout = dropout))))\n",
        "            self.layers.append(transformer_block)\n",
        "\n",
        "        # Classification head\n",
        "        self.head = nn.Sequential(nn.LayerNorm(emb_dim), nn.Linear(emb_dim, out_dim))\n",
        "\n",
        "\n",
        "    def forward(self, img):\n",
        "        # Get patch embedding vectors\n",
        "        x = self.patch_embedding(img)\n",
        "        b, n, _ = x.shape\n",
        "\n",
        "        # Add cls token to inputs\n",
        "        cls_tokens = repeat(self.cls_token, '1 1 d -> b 1 d', b = b)\n",
        "        x = torch.cat([cls_tokens, x], dim=1)\n",
        "        x += self.pos_embedding[:, :(n + 1)]\n",
        "\n",
        "        # Transformer layers\n",
        "        for i in range(self.n_layers):\n",
        "            x = self.layers[i](x)\n",
        "\n",
        "        # Output based on classification token\n",
        "        return self.head(x[:, 0, :])\n",
        "\n"
      ],
      "metadata": {
        "id": "_2nPvP7QNlqo"
      },
      "id": "_2nPvP7QNlqo",
      "execution_count": null,
      "outputs": []
    },
    {
      "cell_type": "code",
      "source": [
        "class ClassToken(Layer):\n",
        "    def __init__(self):\n",
        "        super().__init__()\n",
        "\n",
        "    def build(self, input_shape):\n",
        "        w_init = tf.random_normal_initializer()\n",
        "        self.w = tf.Variable(\n",
        "            initial_value=w_init(shape=(1, 1, input_shape[-1]), dtype=tf.float32),\n",
        "            trainable=True\n",
        "        )\n",
        "\n",
        "    def call(self, inputs):\n",
        "        batch_size = tf.shape(inputs)[0]\n",
        "        hidden_dim = self.w.shape[-1]\n",
        "\n",
        "        cls = tf.broadcast_to(self.w, [batch_size, 1, hidden_dim])\n",
        "        cls = tf.cast(cls, dtype=inputs.dtype)\n",
        "        return cls\n",
        "\n",
        "def mlp(x, cf):\n",
        "    x = Dense(cf[\"mlp_dim\"], activation=\"gelu\")(x)\n",
        "    x = Dropout(cf[\"dropout_rate\"])(x)\n",
        "    x = Dense(cf[\"hidden_dim\"])(x)\n",
        "    x = Dropout(cf[\"dropout_rate\"])(x)\n",
        "    return x\n",
        "\n",
        "def transformer_encoder(x, cf):\n",
        "    skip_1 = x\n",
        "    x = LayerNormalization()(x)\n",
        "    x = MultiHeadAttention(\n",
        "        num_heads=cf[\"num_heads\"], key_dim=cf[\"hidden_dim\"]\n",
        "    )(x, x)\n",
        "    x = Add()([x, skip_1])\n",
        "\n",
        "    skip_2 = x\n",
        "    x = LayerNormalization()(x)\n",
        "    x = mlp(x, cf)\n",
        "    x = Add()([x, skip_2])\n",
        "\n",
        "    return x\n",
        "\n",
        "def ViT(cf):\n",
        "    inputs = Input(shape=cf[\"input_shape\"])\n",
        "    patches = Patches(cf[\"patch_size\"])(inputs)\n",
        "    x = PatchEncoder(num_patches=cf[\"num_patches\"], projection_dim=cf[\"projection_dim\"])(patches)\n",
        "    cls_token = ClassToken()(x)\n",
        "    x = Concatenate(axis=1)([cls_token, x])\n",
        "\n",
        "    for _ in range(cf[\"num_layers\"]):\n",
        "        x = transformer_encoder(x, cf)\n",
        "\n",
        "    x = LayerNormalization()(x)\n",
        "    x = x[:, 0]\n",
        "    x = Dense(cf[\"num_classes\"], activation=\"softmax\")(x)\n",
        "\n",
        "    model = Model(inputs, x)\n",
        "    return model"
      ],
      "metadata": {
        "id": "IzpTX__egM29"
      },
      "id": "IzpTX__egM29",
      "execution_count": null,
      "outputs": []
    },
    {
      "cell_type": "markdown",
      "source": [
        "# geting everything ready"
      ],
      "metadata": {
        "id": "zaVbntQmXODJ"
      },
      "id": "zaVbntQmXODJ"
    },
    {
      "cell_type": "code",
      "source": [
        "def make(config):\n",
        "    # Make the data\n",
        "    train_dataset = get_data(train=True)\n",
        "    test_dataset = get_data(train=False)\n",
        "    train_loader = make_loader(train_dataset, batch_size=config.batch_size)\n",
        "    test_loader = make_loader(test_dataset, batch_size=config.batch_size)\n",
        "\n",
        "    # Make the model\n",
        "    model = ComplexMiniGoogLeNet().to(device)\n",
        "\n",
        "    # Make the loss and optimizer\n",
        "    criterion = nn.CrossEntropyLoss()\n",
        "    optimizer = torch.optim.Adam(model.parameters(), lr=config.learning_rate)\n",
        "\n",
        "    return model, train_loader, test_loader, criterion, optimizer"
      ],
      "metadata": {
        "id": "4GOnNEKyT1v2"
      },
      "id": "4GOnNEKyT1v2",
      "execution_count": 10,
      "outputs": []
    },
    {
      "cell_type": "code",
      "source": [
        "def train_log(loss, example_ct, epoch):\n",
        "    # Where the magic happens\n",
        "    wandb.log({\"epoch\": epoch, \"loss\": loss}, step=example_ct)\n",
        "    print(f\"Loss after {str(example_ct).zfill(5)} examples: {loss:.3f}\")"
      ],
      "metadata": {
        "id": "Jwbd9gvXUp4R"
      },
      "id": "Jwbd9gvXUp4R",
      "execution_count": 11,
      "outputs": []
    },
    {
      "cell_type": "markdown",
      "source": [
        "## early stop training"
      ],
      "metadata": {
        "id": "6Vih9mc96ns6"
      },
      "id": "6Vih9mc96ns6"
    },
    {
      "cell_type": "code",
      "source": [
        "class EarlyStopping:\n",
        "    def __init__(self, patience=5, min_delta=0.0):\n",
        "        self.patience = patience\n",
        "        self.min_delta = min_delta\n",
        "        self.best_loss = float('inf')\n",
        "        self.counter = 0\n",
        "        self.early_stop = False\n",
        "\n",
        "    def __call__(self, val_loss):\n",
        "        if val_loss < self.best_loss - self.min_delta:\n",
        "            self.best_loss = val_loss\n",
        "            self.counter = 0\n",
        "        else:\n",
        "            self.counter += 1\n",
        "            if self.counter >= self.patience:\n",
        "                self.early_stop = True\n",
        "\n",
        "def validate(model, val_loader, criterion):\n",
        "    model.eval()\n",
        "    total = 0\n",
        "    correct = 0\n",
        "    val_loss = 0.0\n",
        "\n",
        "    with torch.no_grad():\n",
        "        for images, labels in val_loader:\n",
        "            images, labels = images.to(device), labels.to(device)\n",
        "            outputs = model(images)\n",
        "            loss = criterion(outputs, labels)\n",
        "\n",
        "            val_loss += loss.item() * images.size(0)\n",
        "            _, predicted = torch.max(outputs.data, 1)\n",
        "            total += labels.size(0)\n",
        "            correct += (predicted == labels).sum().item()\n",
        "\n",
        "    val_loss /= total\n",
        "    val_acc = correct / total\n",
        "    return val_loss, val_acc\n",
        "\n",
        "def train(model, train_loader, val_loader, criterion, optimizer, config):\n",
        "    wandb.watch(model, criterion, log=\"all\", log_freq=10)\n",
        "\n",
        "    early_stopper = EarlyStopping(patience=15, min_delta=0.001)\n",
        "\n",
        "    example_ct = 0\n",
        "    batch_ct = 0\n",
        "    for epoch in tqdm(range(config.epochs)):\n",
        "        model.train()\n",
        "        running_correct = 0\n",
        "        running_total = 0\n",
        "\n",
        "        for _, (images, labels) in enumerate(train_loader):\n",
        "            loss, batch_correct, batch_total = train_batch(images, labels, model, optimizer, criterion)\n",
        "            example_ct += len(images)\n",
        "            batch_ct += 1\n",
        "\n",
        "            running_correct += batch_correct\n",
        "            running_total += batch_total\n",
        "\n",
        "            if ((batch_ct + 1) % 25) == 0:\n",
        "                train_log(loss, example_ct, epoch)\n",
        "                print(f\"batch number: {batch_ct + 1}\")\n",
        "\n",
        "        train_acc = running_correct / running_total\n",
        "\n",
        "        # ⏱️ Validate at the end of the epoch\n",
        "        val_loss, val_acc = validate(model, val_loader, criterion)\n",
        "        wandb.log({\n",
        "            \"epoch\": epoch,\n",
        "            \"val_loss\": val_loss,\n",
        "            \"val_accuracy\": val_acc,\n",
        "            \"train_accuracy\": train_acc\n",
        "        })\n",
        "        print(f\"Epoch {epoch + 1}: val_loss = {val_loss:.4f}, val_acc = {val_acc:.4f}, train_acc = {train_acc:.4f}\")\n",
        "\n",
        "        # Check early stopping\n",
        "        early_stopper(val_loss)\n",
        "        if early_stopper.early_stop:\n",
        "            print(f\"Early stopping triggered at epoch {epoch + 1}\")\n",
        "            break\n",
        "def train_batch(images, labels, model, optimizer, criterion):\n",
        "    images, labels = images.to(device), labels.to(device)\n",
        "\n",
        "    outputs = model(images)\n",
        "    loss = criterion(outputs, labels)\n",
        "\n",
        "    optimizer.zero_grad()\n",
        "    loss.backward()\n",
        "    optimizer.step()\n",
        "\n",
        "    _, predicted = torch.max(outputs, 1)\n",
        "    correct = (predicted == labels).sum().item()\n",
        "    total = labels.size(0)\n",
        "\n",
        "    return loss, correct, total"
      ],
      "metadata": {
        "id": "2gDrRJB56ihi"
      },
      "id": "2gDrRJB56ihi",
      "execution_count": null,
      "outputs": []
    },
    {
      "cell_type": "markdown",
      "source": [
        "## normal training"
      ],
      "metadata": {
        "id": "Ts0xewao6rsq"
      },
      "id": "Ts0xewao6rsq"
    },
    {
      "cell_type": "code",
      "source": [
        "import torch\n",
        "from tqdm import tqdm\n",
        "import wandb\n",
        "from sklearn.metrics import confusion_matrix, f1_score\n",
        "import matplotlib.pyplot as plt\n",
        "import numpy as np\n",
        "\n",
        "\n",
        "def train(model, train_loader, val_loader, criterion, optimizer, config, class_names= [\"Angry\", \"Disgust\", \"Fear\", \"Happy\", \"Sad\", \"Surprise\", \"Neutral\"]):\n",
        "    # wandb.init(\n",
        "    #     project=\"\",\n",
        "    #     config={\n",
        "    #         \"epochs\": config.epochs,\n",
        "    #         \"batch_size\": train_loader.batch_size,\n",
        "    #         \"optimizer\": optimizer.__class__.__name__,\n",
        "    #         \"lr\": optimizer.param_groups[0][\"lr\"],\n",
        "    #         \"criterion\": criterion.__class__.__name__,\n",
        "    #     }\n",
        "    # )\n",
        "    # wandb.watch(model, log=\"all\", log_freq=100)\n",
        "    model.to(config.device)\n",
        "\n",
        "    train_loss_plot, val_loss_plot = [], []\n",
        "    train_acc_plot, val_acc_plot = [], []\n",
        "\n",
        "    for epoch in range(config.epochs):\n",
        "        # Training\n",
        "        model.train()\n",
        "        total_train_loss, train_correct, train_total = 0.0, 0, 0\n",
        "\n",
        "        for images, labels in tqdm(train_loader, desc=f\"Epoch {epoch + 1} [Train]\"):\n",
        "            images, labels = images.to(config.device), labels.to(config.device)\n",
        "\n",
        "            optimizer.zero_grad()\n",
        "            outputs = model(images)\n",
        "            loss = criterion(outputs, labels)\n",
        "            loss.backward()\n",
        "            optimizer.step()\n",
        "\n",
        "            total_train_loss += loss.item() * images.size(0)\n",
        "            _, predicted = torch.max(outputs.data, 1)\n",
        "            train_total += labels.size(0)\n",
        "            train_correct += (predicted == labels).sum().item()\n",
        "\n",
        "        train_loss = total_train_loss / train_total\n",
        "        train_acc = train_correct / train_total\n",
        "\n",
        "        # Validation\n",
        "        val_loss, val_acc, all_targets, all_preds = validate(model, val_loader, criterion, config.device)\n",
        "\n",
        "        # F1 and Confusion Matrix\n",
        "        cm = confusion_matrix(all_targets, all_preds)\n",
        "        f1_per_class = f1_score(all_targets, all_preds, average=None)\n",
        "\n",
        "        log_data = {\n",
        "            \"epoch\": epoch + 1,\n",
        "            \"train_loss\": train_loss,\n",
        "            \"train_acc\": train_acc,\n",
        "            \"val_loss\": val_loss,\n",
        "            \"val_acc\": val_acc,\n",
        "        }\n",
        "        for i, name in enumerate(class_names):\n",
        "            log_data[f\"f1_{name}\"] = f1_per_class[i]\n",
        "        wandb.log(log_data)\n",
        "\n",
        "        # Confusion matrix image\n",
        "        fig, ax = plt.subplots(figsize=(6,6))\n",
        "        im = ax.imshow(cm, cmap=\"Blues\")\n",
        "        fig.colorbar(im, ax=ax)\n",
        "        ax.set_xticks(np.arange(len(class_names)))\n",
        "        ax.set_yticks(np.arange(len(class_names)))\n",
        "        ax.set_xticklabels(class_names, rotation=45, ha=\"right\")\n",
        "        ax.set_yticklabels(class_names)\n",
        "        for i in range(len(class_names)):\n",
        "            for j in range(len(class_names)):\n",
        "                ax.text(j, i, cm[i, j], ha=\"center\", va=\"center\")\n",
        "        ax.set_title(f\"Confusion Matrix - Epoch {epoch+1}\")\n",
        "        ax.set_xlabel(\"Predicted\")\n",
        "        ax.set_ylabel(\"Actual\")\n",
        "        wandb.log({\"confusion_matrix\": wandb.Image(fig)})\n",
        "        plt.close(fig)\n",
        "\n",
        "        # Store for final plots\n",
        "        train_loss_plot.append(train_loss)\n",
        "        val_loss_plot.append(val_loss)\n",
        "        train_acc_plot.append(train_acc)\n",
        "        val_acc_plot.append(val_acc)\n",
        "\n",
        "        print(f\"Epoch {epoch+1}/{config.epochs}: \"\n",
        "              f\"Train Loss={train_loss:.4f}, Train Acc={train_acc:.4f} | \"\n",
        "              f\"Val Loss={val_loss:.4f}, Val Acc={val_acc:.4f}\")\n",
        "\n",
        "    # Final loss/accuracy curves\n",
        "    epochs_range = list(range(1, config.epochs + 1))\n",
        "\n",
        "    fig1, ax1 = plt.subplots()\n",
        "    ax1.plot(epochs_range, train_loss_plot, label=\"Train Loss\")\n",
        "    ax1.plot(epochs_range, val_loss_plot, label=\"Val Loss\")\n",
        "    ax1.set_title(\"Loss vs Epoch\")\n",
        "    ax1.set_xlabel(\"Epoch\")\n",
        "    ax1.set_ylabel(\"Loss\")\n",
        "    ax1.legend()\n",
        "    wandb.log({\"loss_curve\": wandb.Image(fig1)})\n",
        "    plt.close(fig1)\n",
        "\n",
        "    fig2, ax2 = plt.subplots()\n",
        "    ax2.plot(epochs_range, train_acc_plot, label=\"Train Accuracy\")\n",
        "    ax2.plot(epochs_range, val_acc_plot, label=\"Val Accuracy\")\n",
        "    ax2.set_title(\"Accuracy vs Epoch\")\n",
        "    ax2.set_xlabel(\"Epoch\")\n",
        "    ax2.set_ylabel(\"Accuracy\")\n",
        "    ax2.legend()\n",
        "    wandb.log({\"accuracy_curve\": wandb.Image(fig2)})\n",
        "    plt.close(fig2)\n",
        "\n",
        "    return model\n",
        "\n",
        "def validate(model, val_loader, criterion, device):\n",
        "    model.eval()\n",
        "    val_loss = 0.0\n",
        "    correct, total = 0, 0\n",
        "    all_preds, all_targets = [], []\n",
        "\n",
        "    with torch.no_grad():\n",
        "        for images, labels in val_loader:\n",
        "            images, labels = images.to(device), labels.to(device)\n",
        "            outputs = model(images)\n",
        "            loss = criterion(outputs, labels)\n",
        "\n",
        "            val_loss += loss.item() * images.size(0)\n",
        "            _, predicted = torch.max(outputs.data, 1)\n",
        "            total += labels.size(0)\n",
        "            correct += (predicted == labels).sum().item()\n",
        "\n",
        "            all_preds.extend(predicted.cpu().numpy())\n",
        "            all_targets.extend(labels.cpu().numpy())\n",
        "\n",
        "    avg_val_loss = val_loss / total\n",
        "    val_acc = correct / total\n",
        "    return avg_val_loss, val_acc, all_targets, all_preds\n",
        "\n",
        "import torch\n",
        "from sklearn.metrics import confusion_matrix, f1_score, classification_report\n",
        "import matplotlib.pyplot as plt\n",
        "import seaborn as sns\n",
        "import numpy as np\n",
        "import wandb\n",
        "\n",
        "def test(model, test_loader, device, class_names=None):\n",
        "    model.eval()\n",
        "    correct, total = 0, 0\n",
        "    all_preds, all_targets = [], []\n",
        "    misclassified_images = []\n",
        "\n",
        "    with torch.no_grad():\n",
        "        for images, labels in test_loader:\n",
        "            images, labels = images.to(device), labels.to(device)\n",
        "            outputs = model(images)\n",
        "            _, predicted = torch.max(outputs, 1)\n",
        "\n",
        "            total += labels.size(0)\n",
        "            correct += (predicted == labels).sum().item()\n",
        "\n",
        "            all_preds.extend(predicted.cpu().numpy())\n",
        "            all_targets.extend(labels.cpu().numpy())\n",
        "\n",
        "            # Save misclassified images\n",
        "            mis_mask = (predicted != labels)\n",
        "            mis_imgs = images[mis_mask]\n",
        "            mis_lbls = labels[mis_mask]\n",
        "            mis_preds = predicted[mis_mask]\n",
        "            for img, true_lbl, pred_lbl in zip(mis_imgs, mis_lbls, mis_preds):\n",
        "                misclassified_images.append((img.cpu(), true_lbl.item(), pred_lbl.item()))\n",
        "\n",
        "    acc = correct / total\n",
        "    f1_macro = f1_score(all_targets, all_preds, average=\"macro\")\n",
        "    f1_per_class = f1_score(all_targets, all_preds, average=None)\n",
        "\n",
        "    print(f\"\\nTest Accuracy: {acc:.2%}\")\n",
        "    print(f\"F1 Macro: {f1_macro:.4f}\")\n",
        "    print(\"\\nClassification Report:\\n\", classification_report(all_targets, all_preds, target_names=class_names))\n",
        "\n",
        "    # Log numeric metrics\n",
        "    log_data = {\n",
        "        \"test_accuracy\": acc,\n",
        "        \"test_f1_macro\": f1_macro,\n",
        "    }\n",
        "    if class_names:\n",
        "        for i, name in enumerate(class_names):\n",
        "            log_data[f\"f1_{name}\"] = f1_per_class[i]\n",
        "    wandb.log(log_data)\n",
        "\n",
        "    # Confusion matrix\n",
        "    cm = confusion_matrix(all_targets, all_preds)\n",
        "    fig, ax = plt.subplots(figsize=(8, 6))\n",
        "    sns.heatmap(\n",
        "        cm,\n",
        "        annot=True,\n",
        "        fmt=\"d\",\n",
        "        xticklabels=class_names if class_names else \"auto\",\n",
        "        yticklabels=class_names if class_names else \"auto\",\n",
        "        cmap=\"Blues\"\n",
        "    )\n",
        "    ax.set_xlabel(\"Predicted\")\n",
        "    ax.set_ylabel(\"Actual\")\n",
        "    ax.set_title(\"Confusion Matrix (Test)\")\n",
        "    # wandb.log({\n",
        "    #     \"confusion_matrix_final\": wandb.Image(fig),\n",
        "    #     \"confusion_matrix_raw\": wandb.Table(data=cm.tolist(), columns=class_names, rows=class_names),\n",
        "    # })\n",
        "    plt.close(fig)\n",
        "\n",
        "    wandb.log({\n",
        "    \"confusion_matrix_final\": wandb.Image(fig),\n",
        "    \"confusion_matrix_raw\": wandb.plot.confusion_matrix(\n",
        "        probs=None,\n",
        "        y_true=all_targets,\n",
        "        preds=all_preds,\n",
        "        class_names=class_names if class_names else None\n",
        "    )\n",
        "})\n",
        "    # Log a few misclassified images\n",
        "    if class_names:\n",
        "        wrong_table = wandb.Table(columns=[\"Image\", \"True Label\", \"Predicted Label\"])\n",
        "        for img, true_lbl, pred_lbl in misclassified_images[:25]:\n",
        "            img_np = img.squeeze().numpy()  # assumes grayscale\n",
        "            wrong_table.add_data(\n",
        "                wandb.Image(img_np, caption=f\"Pred: {class_names[pred_lbl]}, GT: {class_names[true_lbl]}\"),\n",
        "                class_names[true_lbl],\n",
        "                class_names[pred_lbl]\n",
        "            )\n",
        "        wandb.log({\"misclassified_samples\": wrong_table})\n",
        "\n",
        "    # Export ONNX\n",
        "    dummy_input = torch.randn(1, *images.shape[1:]).to(device)\n",
        "    torch.onnx.export(model, dummy_input, \"model.onnx\")\n",
        "    wandb.save(\"model.onnx\")\n",
        "\n",
        "    # Optionally log model architecture as a string\n",
        "    model_arch_str = str(model)\n",
        "    wandb.log({\"model_architecture\": wandb.Html(f\"<pre>{model_arch_str}</pre>\")})\n"
      ],
      "metadata": {
        "id": "F3VQ1HxlUk6V"
      },
      "id": "F3VQ1HxlUk6V",
      "execution_count": 12,
      "outputs": []
    },
    {
      "cell_type": "markdown",
      "source": [
        "## pipeline"
      ],
      "metadata": {
        "id": "UU0HM605Auy7"
      },
      "id": "UU0HM605Auy7"
    },
    {
      "cell_type": "code",
      "source": [
        "def model_pipeline(hyperparameters):\n",
        "\n",
        "    # tell wandb to get started\n",
        "    with wandb.init(project=\"expression_dataset_final\",\n",
        "                    config=hyperparameters,\n",
        "                    name = \"ComplexMiniGoogLeNet\"):\n",
        "      # access all HPs through wandb.config, so logging matches execution!\n",
        "      config = wandb.config\n",
        "\n",
        "      # make the model, data, and optimization problem\n",
        "      model, train_loader, test_loader, criterion, optimizer = make(config)\n",
        "      print(model)\n",
        "\n",
        "      # and use them to train the model\n",
        "      # train(model, train_loader, criterion, optimizer, config)\n",
        "\n",
        "      # # and test its final performance\n",
        "      # test(model, test_loader)\n",
        "      train(model, train_loader, test_loader, criterion, optimizer, config)\n",
        "      test(model, test_loader, config.device)  # final test; you can use actual test set here if available\n",
        "\n",
        "    wandb.finish()\n",
        "    return model"
      ],
      "metadata": {
        "id": "cEsYfYCkUbYw"
      },
      "id": "cEsYfYCkUbYw",
      "execution_count": 13,
      "outputs": []
    },
    {
      "cell_type": "code",
      "source": [
        "config = dict(\n",
        "    epochs=50,\n",
        "    classes=7,\n",
        "    #kernels=[32, 64, 128],\n",
        "    batch_size=256,\n",
        "    learning_rate=6e-4,\n",
        "    dataset=\"Facial Expression Recognition\",\n",
        "    architecture=\"ComplexMiniGoogLeNet_longer\",\n",
        "    device = device)"
      ],
      "metadata": {
        "id": "GoXMnqIWY9fa"
      },
      "id": "GoXMnqIWY9fa",
      "execution_count": 22,
      "outputs": []
    },
    {
      "cell_type": "code",
      "source": [
        "total = 0\n",
        "train_dataset = get_data(train=True)\n",
        "test_dataset = get_data(train=False)\n",
        "train_loader = make_loader(train_dataset, batch_size=config['batch_size'])\n",
        "test_loader = make_loader(test_dataset, batch_size=config['batch_size'])\n",
        "for batch in train_loader:\n",
        "    images, labels = batch\n",
        "    total += len(images)\n",
        "# Count class occurrences\n",
        "all_labels = []\n",
        "for _, labels in train_loader:\n",
        "    all_labels.extend(labels.tolist())\n",
        "\n",
        "label_counts = Counter(all_labels)\n",
        "\n",
        "# Print counts\n",
        "print(\"Label distribution in augmented training data:\")\n",
        "for label, count in sorted(label_counts.items()):\n",
        "    print(f\"Class {label}: {count} samples\")\n",
        "\n",
        "# Optional: plot for visual confirmation\n",
        "plt.bar(label_counts.keys(), label_counts.values(), tick_label=[str(i) for i in label_counts.keys()])\n",
        "plt.xlabel('Emotion Class')\n",
        "plt.ylabel('Number of Samples')\n",
        "plt.title('Class Distribution After Augmentation')\n",
        "plt.show()\n",
        "print(f\"Total images seen via train_loader: {total}\")"
      ],
      "metadata": {
        "colab": {
          "base_uri": "https://localhost:8080/",
          "height": 715
        },
        "id": "uTtkeP3VhRZO",
        "outputId": "21eedf9d-a034-440b-c1db-71093389347e"
      },
      "id": "uTtkeP3VhRZO",
      "execution_count": 19,
      "outputs": [
        {
          "output_type": "stream",
          "name": "stdout",
          "text": [
            "‣ Loaded 'Training' => 28709 samples before augmentation/slicing.\n",
            "‣ Base dataset size: 28709\n",
            "‣ Augmenting 21796 extra samples to balance classes.\n",
            "‣ Resulting dataset size: 50505\n",
            "‣ Loaded 'PublicTest' => 3589 samples before augmentation/slicing.\n",
            "Label distribution in augmented training data:\n",
            "Class 0: 7215 samples\n",
            "Class 1: 7215 samples\n",
            "Class 2: 7215 samples\n",
            "Class 3: 7215 samples\n",
            "Class 4: 7215 samples\n",
            "Class 5: 7215 samples\n",
            "Class 6: 7215 samples\n"
          ]
        },
        {
          "output_type": "display_data",
          "data": {
            "text/plain": [
              "<Figure size 640x480 with 1 Axes>"
            ],
            "image/png": "[encoded data removed]"
          },
          "metadata": {}
        },
        {
          "output_type": "stream",
          "name": "stdout",
          "text": [
            "Total images seen via train_loader: 50505\n"
          ]
        }
      ]
    },
    {
      "cell_type": "markdown",
      "source": [
        "# train!"
      ],
      "metadata": {
        "id": "MQvkFnUNxXls"
      },
      "id": "MQvkFnUNxXls"
    },
    {
      "cell_type": "code",
      "source": [
        "model = model_pipeline(config)"
      ],
      "metadata": {
        "colab": {
          "base_uri": "https://localhost:8080/",
          "height": 1000
        },
        "id": "MifXx_iuXfLi",
        "outputId": "f8d9d0a8-09fc-4e4e-bf55-9ce3ad4b650d"
      },
      "id": "MifXx_iuXfLi",
      "execution_count": 23,
      "outputs": [
        {
          "output_type": "display_data",
          "data": {
            "text/plain": [
              "<IPython.core.display.HTML object>"
            ],
            "text/html": [
              "Tracking run with wandb version 0.19.11"
            ]
          },
          "metadata": {}
        },
        {
          "output_type": "display_data",
          "data": {
            "text/plain": [
              "<IPython.core.display.HTML object>"
            ],
            "text/html": [
              "Run data is saved locally in <code>/content/wandb/run-20250605_075040-q7h5ah99</code>"
            ]
          },
          "metadata": {}
        },
        {
          "output_type": "display_data",
          "data": {
            "text/plain": [
              "<IPython.core.display.HTML object>"
            ],
            "text/html": [
              "Syncing run <strong><a href='https://wandb.ai/arazm21-free-university-of-tbilisi-/expression_dataset_final/runs/q7h5ah99' target=\"_blank\">ComplexMiniGoogLeNet</a></strong> to <a href='https://wandb.ai/arazm21-free-university-of-tbilisi-/expression_dataset_final' target=\"_blank\">Weights & Biases</a> (<a href='https://wandb.me/developer-guide' target=\"_blank\">docs</a>)<br>"
            ]
          },
          "metadata": {}
        },
        {
          "output_type": "display_data",
          "data": {
            "text/plain": [
              "<IPython.core.display.HTML object>"
            ],
            "text/html": [
              " View project at <a href='https://wandb.ai/arazm21-free-university-of-tbilisi-/expression_dataset_final' target=\"_blank\">https://wandb.ai/arazm21-free-university-of-tbilisi-/expression_dataset_final</a>"
            ]
          },
          "metadata": {}
        },
        {
          "output_type": "display_data",
          "data": {
            "text/plain": [
              "<IPython.core.display.HTML object>"
            ],
            "text/html": [
              " View run at <a href='https://wandb.ai/arazm21-free-university-of-tbilisi-/expression_dataset_final/runs/q7h5ah99' target=\"_blank\">https://wandb.ai/arazm21-free-university-of-tbilisi-/expression_dataset_final/runs/q7h5ah99</a>"
            ]
          },
          "metadata": {}
        },
        {
          "output_type": "stream",
          "name": "stdout",
          "text": [
            "‣ Loaded 'Training' => 28709 samples before augmentation/slicing.\n",
            "‣ Base dataset size: 28709\n",
            "‣ Augmenting 21796 extra samples to balance classes.\n",
            "‣ Resulting dataset size: 50505\n",
            "‣ Loaded 'PublicTest' => 3589 samples before augmentation/slicing.\n",
            "ComplexMiniGoogLeNet(\n",
            "  (stem): Sequential(\n",
            "    (0): Conv2d(1, 32, kernel_size=(3, 3), stride=(1, 1), padding=(1, 1))\n",
            "    (1): BatchNorm2d(32, eps=1e-05, momentum=0.1, affine=True, track_running_stats=True)\n",
            "    (2): ReLU()\n",
            "    (3): MaxPool2d(kernel_size=2, stride=2, padding=0, dilation=1, ceil_mode=False)\n",
            "  )\n",
            "  (inc1): MiniInception(\n",
            "    (b1): Conv2d(32, 16, kernel_size=(1, 1), stride=(1, 1))\n",
            "    (b2_1): Conv2d(32, 16, kernel_size=(1, 1), stride=(1, 1))\n",
            "    (b2_2): Conv2d(16, 32, kernel_size=(3, 3), stride=(1, 1), padding=(1, 1))\n",
            "    (b3_pool): MaxPool2d(kernel_size=3, stride=1, padding=1, dilation=1, ceil_mode=False)\n",
            "    (b3_proj): Conv2d(32, 16, kernel_size=(1, 1), stride=(1, 1))\n",
            "    (bn): BatchNorm2d(64, eps=1e-05, momentum=0.1, affine=True, track_running_stats=True)\n",
            "    (dropout): Dropout2d(p=0.2, inplace=False)\n",
            "  )\n",
            "  (inc2): MiniInception(\n",
            "    (b1): Conv2d(64, 24, kernel_size=(1, 1), stride=(1, 1))\n",
            "    (b2_1): Conv2d(64, 24, kernel_size=(1, 1), stride=(1, 1))\n",
            "    (b2_2): Conv2d(24, 48, kernel_size=(3, 3), stride=(1, 1), padding=(1, 1))\n",
            "    (b3_pool): MaxPool2d(kernel_size=3, stride=1, padding=1, dilation=1, ceil_mode=False)\n",
            "    (b3_proj): Conv2d(64, 24, kernel_size=(1, 1), stride=(1, 1))\n",
            "    (bn): BatchNorm2d(96, eps=1e-05, momentum=0.1, affine=True, track_running_stats=True)\n",
            "    (dropout): Dropout2d(p=0.2, inplace=False)\n",
            "  )\n",
            "  (inc3): MiniInception(\n",
            "    (b1): Conv2d(96, 32, kernel_size=(1, 1), stride=(1, 1))\n",
            "    (b2_1): Conv2d(96, 32, kernel_size=(1, 1), stride=(1, 1))\n",
            "    (b2_2): Conv2d(32, 64, kernel_size=(3, 3), stride=(1, 1), padding=(1, 1))\n",
            "    (b3_pool): MaxPool2d(kernel_size=3, stride=1, padding=1, dilation=1, ceil_mode=False)\n",
            "    (b3_proj): Conv2d(96, 32, kernel_size=(1, 1), stride=(1, 1))\n",
            "    (bn): BatchNorm2d(128, eps=1e-05, momentum=0.1, affine=True, track_running_stats=True)\n",
            "    (dropout): Dropout2d(p=0.3, inplace=False)\n",
            "  )\n",
            "  (aux): Sequential(\n",
            "    (0): AdaptiveAvgPool2d(output_size=(4, 4))\n",
            "    (1): Conv2d(96, 48, kernel_size=(1, 1), stride=(1, 1))\n",
            "    (2): ReLU()\n",
            "    (3): Flatten(start_dim=1, end_dim=-1)\n",
            "    (4): Linear(in_features=768, out_features=256, bias=True)\n",
            "    (5): ReLU()\n",
            "    (6): Dropout(p=0.5, inplace=False)\n",
            "    (7): Linear(in_features=256, out_features=7, bias=True)\n",
            "  )\n",
            "  (final_pool): AdaptiveAvgPool2d(output_size=(1, 1))\n",
            "  (classifier): Sequential(\n",
            "    (0): Flatten(start_dim=1, end_dim=-1)\n",
            "    (1): Dropout(p=0.5, inplace=False)\n",
            "    (2): Linear(in_features=128, out_features=7, bias=True)\n",
            "  )\n",
            ")\n"
          ]
        },
        {
          "output_type": "stream",
          "name": "stderr",
          "text": [
            "Epoch 1 [Train]: 100%|██████████| 198/198 [00:16<00:00, 12.06it/s]\n"
          ]
        },
        {
          "output_type": "stream",
          "name": "stdout",
          "text": [
            "Epoch 1/50: Train Loss=1.8966, Train Acc=0.2091 | Val Loss=1.8009, Val Acc=0.2538\n"
          ]
        },
        {
          "output_type": "stream",
          "name": "stderr",
          "text": [
            "Epoch 2 [Train]: 100%|██████████| 198/198 [00:16<00:00, 12.22it/s]\n"
          ]
        },
        {
          "output_type": "stream",
          "name": "stdout",
          "text": [
            "Epoch 2/50: Train Loss=1.7951, Train Acc=0.2661 | Val Loss=1.7765, Val Acc=0.2538\n"
          ]
        },
        {
          "output_type": "stream",
          "name": "stderr",
          "text": [
            "Epoch 3 [Train]: 100%|██████████| 198/198 [00:16<00:00, 12.02it/s]\n"
          ]
        },
        {
          "output_type": "stream",
          "name": "stdout",
          "text": [
            "Epoch 3/50: Train Loss=1.7337, Train Acc=0.3058 | Val Loss=1.7193, Val Acc=0.2895\n"
          ]
        },
        {
          "output_type": "stream",
          "name": "stderr",
          "text": [
            "Epoch 4 [Train]: 100%|██████████| 198/198 [00:16<00:00, 11.94it/s]\n"
          ]
        },
        {
          "output_type": "stream",
          "name": "stdout",
          "text": [
            "Epoch 4/50: Train Loss=1.6753, Train Acc=0.3368 | Val Loss=1.6472, Val Acc=0.3305\n"
          ]
        },
        {
          "output_type": "stream",
          "name": "stderr",
          "text": [
            "Epoch 5 [Train]: 100%|██████████| 198/198 [00:16<00:00, 12.34it/s]\n"
          ]
        },
        {
          "output_type": "stream",
          "name": "stdout",
          "text": [
            "Epoch 5/50: Train Loss=1.6443, Train Acc=0.3527 | Val Loss=1.6426, Val Acc=0.3154\n"
          ]
        },
        {
          "output_type": "stream",
          "name": "stderr",
          "text": [
            "Epoch 6 [Train]: 100%|██████████| 198/198 [00:17<00:00, 11.27it/s]\n"
          ]
        },
        {
          "output_type": "stream",
          "name": "stdout",
          "text": [
            "Epoch 6/50: Train Loss=1.6215, Train Acc=0.3629 | Val Loss=1.6165, Val Acc=0.3480\n"
          ]
        },
        {
          "output_type": "stream",
          "name": "stderr",
          "text": [
            "Epoch 7 [Train]: 100%|██████████| 198/198 [00:15<00:00, 12.53it/s]\n"
          ]
        },
        {
          "output_type": "stream",
          "name": "stdout",
          "text": [
            "Epoch 7/50: Train Loss=1.6042, Train Acc=0.3715 | Val Loss=1.6354, Val Acc=0.3293\n"
          ]
        },
        {
          "output_type": "stream",
          "name": "stderr",
          "text": [
            "Epoch 8 [Train]: 100%|██████████| 198/198 [00:15<00:00, 12.42it/s]\n"
          ]
        },
        {
          "output_type": "stream",
          "name": "stdout",
          "text": [
            "Epoch 8/50: Train Loss=1.5807, Train Acc=0.3841 | Val Loss=1.5507, Val Acc=0.3686\n"
          ]
        },
        {
          "output_type": "stream",
          "name": "stderr",
          "text": [
            "Epoch 9 [Train]: 100%|██████████| 198/198 [00:16<00:00, 12.32it/s]\n"
          ]
        },
        {
          "output_type": "stream",
          "name": "stdout",
          "text": [
            "Epoch 9/50: Train Loss=1.5683, Train Acc=0.3929 | Val Loss=1.5403, Val Acc=0.3842\n"
          ]
        },
        {
          "output_type": "stream",
          "name": "stderr",
          "text": [
            "Epoch 10 [Train]: 100%|██████████| 198/198 [00:15<00:00, 12.47it/s]\n"
          ]
        },
        {
          "output_type": "stream",
          "name": "stdout",
          "text": [
            "Epoch 10/50: Train Loss=1.5454, Train Acc=0.4022 | Val Loss=1.5200, Val Acc=0.3918\n"
          ]
        },
        {
          "output_type": "stream",
          "name": "stderr",
          "text": [
            "Epoch 11 [Train]: 100%|██████████| 198/198 [00:16<00:00, 12.34it/s]\n"
          ]
        },
        {
          "output_type": "stream",
          "name": "stdout",
          "text": [
            "Epoch 11/50: Train Loss=1.5335, Train Acc=0.4098 | Val Loss=1.5017, Val Acc=0.4040\n"
          ]
        },
        {
          "output_type": "stream",
          "name": "stderr",
          "text": [
            "Epoch 12 [Train]: 100%|██████████| 198/198 [00:16<00:00, 12.29it/s]\n"
          ]
        },
        {
          "output_type": "stream",
          "name": "stdout",
          "text": [
            "Epoch 12/50: Train Loss=1.5218, Train Acc=0.4114 | Val Loss=1.4660, Val Acc=0.4310\n"
          ]
        },
        {
          "output_type": "stream",
          "name": "stderr",
          "text": [
            "Epoch 13 [Train]: 100%|██████████| 198/198 [00:16<00:00, 12.24it/s]\n"
          ]
        },
        {
          "output_type": "stream",
          "name": "stdout",
          "text": [
            "Epoch 13/50: Train Loss=1.5113, Train Acc=0.4174 | Val Loss=1.4676, Val Acc=0.4302\n"
          ]
        },
        {
          "output_type": "stream",
          "name": "stderr",
          "text": [
            "Epoch 14 [Train]: 100%|██████████| 198/198 [00:17<00:00, 11.61it/s]\n"
          ]
        },
        {
          "output_type": "stream",
          "name": "stdout",
          "text": [
            "Epoch 14/50: Train Loss=1.4998, Train Acc=0.4221 | Val Loss=1.4488, Val Acc=0.4363\n"
          ]
        },
        {
          "output_type": "stream",
          "name": "stderr",
          "text": [
            "Epoch 15 [Train]: 100%|██████████| 198/198 [00:17<00:00, 11.44it/s]\n"
          ]
        },
        {
          "output_type": "stream",
          "name": "stdout",
          "text": [
            "Epoch 15/50: Train Loss=1.4904, Train Acc=0.4263 | Val Loss=1.4380, Val Acc=0.4441\n"
          ]
        },
        {
          "output_type": "stream",
          "name": "stderr",
          "text": [
            "Epoch 16 [Train]: 100%|██████████| 198/198 [00:17<00:00, 11.51it/s]\n"
          ]
        },
        {
          "output_type": "stream",
          "name": "stdout",
          "text": [
            "Epoch 16/50: Train Loss=1.4788, Train Acc=0.4294 | Val Loss=1.4164, Val Acc=0.4570\n"
          ]
        },
        {
          "output_type": "stream",
          "name": "stderr",
          "text": [
            "Epoch 17 [Train]: 100%|██████████| 198/198 [00:16<00:00, 12.09it/s]\n"
          ]
        },
        {
          "output_type": "stream",
          "name": "stdout",
          "text": [
            "Epoch 17/50: Train Loss=1.4754, Train Acc=0.4313 | Val Loss=1.4327, Val Acc=0.4355\n"
          ]
        },
        {
          "output_type": "stream",
          "name": "stderr",
          "text": [
            "Epoch 18 [Train]: 100%|██████████| 198/198 [00:16<00:00, 12.23it/s]\n"
          ]
        },
        {
          "output_type": "stream",
          "name": "stdout",
          "text": [
            "Epoch 18/50: Train Loss=1.4640, Train Acc=0.4365 | Val Loss=1.4065, Val Acc=0.4617\n"
          ]
        },
        {
          "output_type": "stream",
          "name": "stderr",
          "text": [
            "Epoch 19 [Train]: 100%|██████████| 198/198 [00:16<00:00, 11.93it/s]\n"
          ]
        },
        {
          "output_type": "stream",
          "name": "stdout",
          "text": [
            "Epoch 19/50: Train Loss=1.4565, Train Acc=0.4399 | Val Loss=1.4537, Val Acc=0.4372\n"
          ]
        },
        {
          "output_type": "stream",
          "name": "stderr",
          "text": [
            "Epoch 20 [Train]: 100%|██████████| 198/198 [00:17<00:00, 11.64it/s]\n"
          ]
        },
        {
          "output_type": "stream",
          "name": "stdout",
          "text": [
            "Epoch 20/50: Train Loss=1.4488, Train Acc=0.4442 | Val Loss=1.3900, Val Acc=0.4745\n"
          ]
        },
        {
          "output_type": "stream",
          "name": "stderr",
          "text": [
            "Epoch 21 [Train]: 100%|██████████| 198/198 [00:16<00:00, 12.22it/s]\n"
          ]
        },
        {
          "output_type": "stream",
          "name": "stdout",
          "text": [
            "Epoch 21/50: Train Loss=1.4353, Train Acc=0.4480 | Val Loss=1.4472, Val Acc=0.4402\n"
          ]
        },
        {
          "output_type": "stream",
          "name": "stderr",
          "text": [
            "Epoch 22 [Train]: 100%|██████████| 198/198 [00:16<00:00, 12.31it/s]\n"
          ]
        },
        {
          "output_type": "stream",
          "name": "stdout",
          "text": [
            "Epoch 22/50: Train Loss=1.4336, Train Acc=0.4510 | Val Loss=1.3716, Val Acc=0.4773\n"
          ]
        },
        {
          "output_type": "stream",
          "name": "stderr",
          "text": [
            "Epoch 23 [Train]: 100%|██████████| 198/198 [00:16<00:00, 12.35it/s]\n"
          ]
        },
        {
          "output_type": "stream",
          "name": "stdout",
          "text": [
            "Epoch 23/50: Train Loss=1.4283, Train Acc=0.4535 | Val Loss=1.3737, Val Acc=0.4739\n"
          ]
        },
        {
          "output_type": "stream",
          "name": "stderr",
          "text": [
            "Epoch 24 [Train]: 100%|██████████| 198/198 [00:16<00:00, 12.10it/s]\n"
          ]
        },
        {
          "output_type": "stream",
          "name": "stdout",
          "text": [
            "Epoch 24/50: Train Loss=1.4218, Train Acc=0.4546 | Val Loss=1.3554, Val Acc=0.4862\n"
          ]
        },
        {
          "output_type": "stream",
          "name": "stderr",
          "text": [
            "Epoch 25 [Train]: 100%|██████████| 198/198 [00:16<00:00, 12.22it/s]\n"
          ]
        },
        {
          "output_type": "stream",
          "name": "stdout",
          "text": [
            "Epoch 25/50: Train Loss=1.4127, Train Acc=0.4563 | Val Loss=1.3464, Val Acc=0.4960\n"
          ]
        },
        {
          "output_type": "stream",
          "name": "stderr",
          "text": [
            "Epoch 26 [Train]: 100%|██████████| 198/198 [00:16<00:00, 12.20it/s]\n"
          ]
        },
        {
          "output_type": "stream",
          "name": "stdout",
          "text": [
            "Epoch 26/50: Train Loss=1.4036, Train Acc=0.4600 | Val Loss=1.3444, Val Acc=0.4868\n"
          ]
        },
        {
          "output_type": "stream",
          "name": "stderr",
          "text": [
            "Epoch 27 [Train]: 100%|██████████| 198/198 [00:16<00:00, 12.27it/s]\n"
          ]
        },
        {
          "output_type": "stream",
          "name": "stdout",
          "text": [
            "Epoch 27/50: Train Loss=1.4075, Train Acc=0.4598 | Val Loss=1.3465, Val Acc=0.4840\n"
          ]
        },
        {
          "output_type": "stream",
          "name": "stderr",
          "text": [
            "Epoch 28 [Train]: 100%|██████████| 198/198 [00:16<00:00, 12.16it/s]\n"
          ]
        },
        {
          "output_type": "stream",
          "name": "stdout",
          "text": [
            "Epoch 28/50: Train Loss=1.3983, Train Acc=0.4631 | Val Loss=1.3443, Val Acc=0.4870\n"
          ]
        },
        {
          "output_type": "stream",
          "name": "stderr",
          "text": [
            "Epoch 29 [Train]: 100%|██████████| 198/198 [00:16<00:00, 11.85it/s]\n"
          ]
        },
        {
          "output_type": "stream",
          "name": "stdout",
          "text": [
            "Epoch 29/50: Train Loss=1.3965, Train Acc=0.4662 | Val Loss=1.3438, Val Acc=0.4898\n"
          ]
        },
        {
          "output_type": "stream",
          "name": "stderr",
          "text": [
            "Epoch 30 [Train]: 100%|██████████| 198/198 [00:16<00:00, 11.99it/s]\n"
          ]
        },
        {
          "output_type": "stream",
          "name": "stdout",
          "text": [
            "Epoch 30/50: Train Loss=1.3879, Train Acc=0.4652 | Val Loss=1.3370, Val Acc=0.4937\n"
          ]
        },
        {
          "output_type": "stream",
          "name": "stderr",
          "text": [
            "Epoch 31 [Train]: 100%|██████████| 198/198 [00:16<00:00, 11.69it/s]\n"
          ]
        },
        {
          "output_type": "stream",
          "name": "stdout",
          "text": [
            "Epoch 31/50: Train Loss=1.3900, Train Acc=0.4650 | Val Loss=1.3270, Val Acc=0.4971\n"
          ]
        },
        {
          "output_type": "stream",
          "name": "stderr",
          "text": [
            "Epoch 32 [Train]: 100%|██████████| 198/198 [00:16<00:00, 11.68it/s]\n"
          ]
        },
        {
          "output_type": "stream",
          "name": "stdout",
          "text": [
            "Epoch 32/50: Train Loss=1.3835, Train Acc=0.4686 | Val Loss=1.3527, Val Acc=0.4751\n"
          ]
        },
        {
          "output_type": "stream",
          "name": "stderr",
          "text": [
            "Epoch 33 [Train]: 100%|██████████| 198/198 [00:16<00:00, 11.67it/s]\n"
          ]
        },
        {
          "output_type": "stream",
          "name": "stdout",
          "text": [
            "Epoch 33/50: Train Loss=1.3766, Train Acc=0.4700 | Val Loss=1.3304, Val Acc=0.4915\n"
          ]
        },
        {
          "output_type": "stream",
          "name": "stderr",
          "text": [
            "Epoch 34 [Train]: 100%|██████████| 198/198 [00:15<00:00, 12.42it/s]\n"
          ]
        },
        {
          "output_type": "stream",
          "name": "stdout",
          "text": [
            "Epoch 34/50: Train Loss=1.3722, Train Acc=0.4724 | Val Loss=1.3228, Val Acc=0.5007\n"
          ]
        },
        {
          "output_type": "stream",
          "name": "stderr",
          "text": [
            "Epoch 35 [Train]: 100%|██████████| 198/198 [00:15<00:00, 12.49it/s]\n"
          ]
        },
        {
          "output_type": "stream",
          "name": "stdout",
          "text": [
            "Epoch 35/50: Train Loss=1.3708, Train Acc=0.4727 | Val Loss=1.3006, Val Acc=0.5052\n"
          ]
        },
        {
          "output_type": "stream",
          "name": "stderr",
          "text": [
            "Epoch 36 [Train]: 100%|██████████| 198/198 [00:15<00:00, 12.41it/s]\n"
          ]
        },
        {
          "output_type": "stream",
          "name": "stdout",
          "text": [
            "Epoch 36/50: Train Loss=1.3678, Train Acc=0.4732 | Val Loss=1.3252, Val Acc=0.4904\n"
          ]
        },
        {
          "output_type": "stream",
          "name": "stderr",
          "text": [
            "Epoch 37 [Train]: 100%|██████████| 198/198 [00:15<00:00, 12.47it/s]\n"
          ]
        },
        {
          "output_type": "stream",
          "name": "stdout",
          "text": [
            "Epoch 37/50: Train Loss=1.3628, Train Acc=0.4780 | Val Loss=1.3123, Val Acc=0.4957\n"
          ]
        },
        {
          "output_type": "stream",
          "name": "stderr",
          "text": [
            "Epoch 38 [Train]: 100%|██████████| 198/198 [00:16<00:00, 11.84it/s]\n"
          ]
        },
        {
          "output_type": "stream",
          "name": "stdout",
          "text": [
            "Epoch 38/50: Train Loss=1.3579, Train Acc=0.4782 | Val Loss=1.3046, Val Acc=0.4976\n"
          ]
        },
        {
          "output_type": "stream",
          "name": "stderr",
          "text": [
            "Epoch 39 [Train]: 100%|██████████| 198/198 [00:16<00:00, 11.95it/s]\n"
          ]
        },
        {
          "output_type": "stream",
          "name": "stdout",
          "text": [
            "Epoch 39/50: Train Loss=1.3574, Train Acc=0.4789 | Val Loss=1.3033, Val Acc=0.5029\n"
          ]
        },
        {
          "output_type": "stream",
          "name": "stderr",
          "text": [
            "Epoch 40 [Train]: 100%|██████████| 198/198 [00:16<00:00, 12.17it/s]\n"
          ]
        },
        {
          "output_type": "stream",
          "name": "stdout",
          "text": [
            "Epoch 40/50: Train Loss=1.3507, Train Acc=0.4808 | Val Loss=1.3134, Val Acc=0.4935\n"
          ]
        },
        {
          "output_type": "stream",
          "name": "stderr",
          "text": [
            "Epoch 41 [Train]: 100%|██████████| 198/198 [00:16<00:00, 12.18it/s]\n"
          ]
        },
        {
          "output_type": "stream",
          "name": "stdout",
          "text": [
            "Epoch 41/50: Train Loss=1.3528, Train Acc=0.4801 | Val Loss=1.3170, Val Acc=0.4979\n"
          ]
        },
        {
          "output_type": "stream",
          "name": "stderr",
          "text": [
            "Epoch 42 [Train]: 100%|██████████| 198/198 [00:15<00:00, 12.40it/s]\n"
          ]
        },
        {
          "output_type": "stream",
          "name": "stdout",
          "text": [
            "Epoch 42/50: Train Loss=1.3449, Train Acc=0.4818 | Val Loss=1.2966, Val Acc=0.5007\n"
          ]
        },
        {
          "output_type": "stream",
          "name": "stderr",
          "text": [
            "Epoch 43 [Train]: 100%|██████████| 198/198 [00:15<00:00, 12.49it/s]\n"
          ]
        },
        {
          "output_type": "stream",
          "name": "stdout",
          "text": [
            "Epoch 43/50: Train Loss=1.3469, Train Acc=0.4817 | Val Loss=1.2941, Val Acc=0.4985\n"
          ]
        },
        {
          "output_type": "stream",
          "name": "stderr",
          "text": [
            "Epoch 44 [Train]: 100%|██████████| 198/198 [00:15<00:00, 12.49it/s]\n"
          ]
        },
        {
          "output_type": "stream",
          "name": "stdout",
          "text": [
            "Epoch 44/50: Train Loss=1.3448, Train Acc=0.4847 | Val Loss=1.2891, Val Acc=0.5127\n"
          ]
        },
        {
          "output_type": "stream",
          "name": "stderr",
          "text": [
            "Epoch 45 [Train]: 100%|██████████| 198/198 [00:15<00:00, 12.42it/s]\n"
          ]
        },
        {
          "output_type": "stream",
          "name": "stdout",
          "text": [
            "Epoch 45/50: Train Loss=1.3397, Train Acc=0.4835 | Val Loss=1.3129, Val Acc=0.5043\n"
          ]
        },
        {
          "output_type": "stream",
          "name": "stderr",
          "text": [
            "Epoch 46 [Train]: 100%|██████████| 198/198 [00:15<00:00, 12.46it/s]\n"
          ]
        },
        {
          "output_type": "stream",
          "name": "stdout",
          "text": [
            "Epoch 46/50: Train Loss=1.3355, Train Acc=0.4849 | Val Loss=1.2812, Val Acc=0.5102\n"
          ]
        },
        {
          "output_type": "stream",
          "name": "stderr",
          "text": [
            "Epoch 47 [Train]: 100%|██████████| 198/198 [00:17<00:00, 11.09it/s]\n"
          ]
        },
        {
          "output_type": "stream",
          "name": "stdout",
          "text": [
            "Epoch 47/50: Train Loss=1.3358, Train Acc=0.4840 | Val Loss=1.2882, Val Acc=0.5026\n"
          ]
        },
        {
          "output_type": "stream",
          "name": "stderr",
          "text": [
            "Epoch 48 [Train]: 100%|██████████| 198/198 [00:16<00:00, 12.16it/s]\n"
          ]
        },
        {
          "output_type": "stream",
          "name": "stdout",
          "text": [
            "Epoch 48/50: Train Loss=1.3380, Train Acc=0.4868 | Val Loss=1.2854, Val Acc=0.5141\n"
          ]
        },
        {
          "output_type": "stream",
          "name": "stderr",
          "text": [
            "Epoch 49 [Train]: 100%|██████████| 198/198 [00:16<00:00, 12.11it/s]\n"
          ]
        },
        {
          "output_type": "stream",
          "name": "stdout",
          "text": [
            "Epoch 49/50: Train Loss=1.3287, Train Acc=0.4886 | Val Loss=1.2793, Val Acc=0.5060\n"
          ]
        },
        {
          "output_type": "stream",
          "name": "stderr",
          "text": [
            "Epoch 50 [Train]: 100%|██████████| 198/198 [00:15<00:00, 12.61it/s]\n"
          ]
        },
        {
          "output_type": "stream",
          "name": "stdout",
          "text": [
            "Epoch 50/50: Train Loss=1.3308, Train Acc=0.4862 | Val Loss=1.2747, Val Acc=0.4982\n",
            "\n",
            "Test Accuracy: 49.82%\n",
            "F1 Macro: 0.4278\n",
            "\n",
            "Classification Report:\n",
            "               precision    recall  f1-score   support\n",
            "\n",
            "           0       0.39      0.11      0.17       467\n",
            "           1       0.53      0.29      0.37        56\n",
            "           2       0.27      0.10      0.15       496\n",
            "           3       0.58      0.85      0.69       895\n",
            "           4       0.36      0.52      0.43       653\n",
            "           5       0.76      0.64      0.70       415\n",
            "           6       0.47      0.50      0.49       607\n",
            "\n",
            "    accuracy                           0.50      3589\n",
            "   macro avg       0.48      0.43      0.43      3589\n",
            "weighted avg       0.48      0.50      0.46      3589\n",
            "\n"
          ]
        },
        {
          "output_type": "display_data",
          "data": {
            "text/plain": [
              "<IPython.core.display.HTML object>"
            ],
            "text/html": []
          },
          "metadata": {}
        },
        {
          "output_type": "display_data",
          "data": {
            "text/plain": [
              "<IPython.core.display.HTML object>"
            ],
            "text/html": [
              "<br>    <style><br>        .wandb-row {<br>            display: flex;<br>            flex-direction: row;<br>            flex-wrap: wrap;<br>            justify-content: flex-start;<br>            width: 100%;<br>        }<br>        .wandb-col {<br>            display: flex;<br>            flex-direction: column;<br>            flex-basis: 100%;<br>            flex: 1;<br>            padding: 10px;<br>        }<br>    </style><br><div class=\"wandb-row\"><div class=\"wandb-col\"><h3>Run history:</h3><br/><table class=\"wandb\"><tr><td>epoch</td><td>▁▁▁▁▂▂▂▂▂▂▃▃▃▃▃▄▄▄▄▄▄▅▅▅▅▅▆▆▆▆▆▇▇▇▇▇▇███</td></tr><tr><td>f1_Angry</td><td>▁▁▁▁▁▁▁▁▁▁▁▂▁▂▂▂▃▂▂▅▆▅▅▄▅▆▃▅▆▅▅▆▇▆▇▇██▇▆</td></tr><tr><td>f1_Disgust</td><td>▁▁▁▁▁▁▁▁▁▁▁▁▁▂▂▂▂▃▄▅▆▆▆▆▆▆▆█▆▇▇▇▆▇█▇█▇▆█</td></tr><tr><td>f1_Fear</td><td>▁▁▁▃▂▄▄▄▄▅▅▇▄▇▇▅▄▆▆▇▇▇▆▇▇▆▆▆▆█▇▇▇█▅█▆▇█▇</td></tr><tr><td>f1_Happy</td><td>▁▁▁▂▂▂▃▄▅▅▆▆▇▇▇▇▅▇▇▇▇▇▇█▇▇▇▇█▇█▇▇▇▇██▇█▇</td></tr><tr><td>f1_Neutral</td><td>▁▁▁▁▁▁▂▂▃▄▆▆▆▆▆▆▇▆▇▇█▇▇█▇▇▇███▇███▇▇████</td></tr><tr><td>f1_Sad</td><td>▃▁▃▄▂▅▆▇▇▇▇▇▇█▇▇█▇▇█████████████████████</td></tr><tr><td>f1_Surprise</td><td>▁▁▅▇▇▆█▇▇███▇▇██▇████████▇██████████████</td></tr><tr><td>test_accuracy</td><td>▁</td></tr><tr><td>test_f1_macro</td><td>▁</td></tr><tr><td>train_acc</td><td>▁▂▃▄▅▅▅▆▆▆▆▆▇▇▇▇▇▇▇▇▇▇▇▇▇███████████████</td></tr><tr><td>train_loss</td><td>█▇▆▅▅▄▄▄▄▄▃▃▃▃▃▂▂▂▂▂▂▂▂▂▂▂▂▁▁▁▁▁▁▁▁▁▁▁▁▁</td></tr><tr><td>val_acc</td><td>▁▁▂▃▃▃▄▅▅▅▆▆▆▆▆▆▇▆▇▇█▇▇▇▇█▇▇███▇████████</td></tr><tr><td>val_loss</td><td>██▇▆▆▆▅▄▄▄▃▃▃▃▃▃▃▂▂▂▂▂▂▂▂▂▂▂▁▂▁▂▂▁▁▂▁▁▁▁</td></tr></table><br/></div><div class=\"wandb-col\"><h3>Run summary:</h3><br/><table class=\"wandb\"><tr><td>epoch</td><td>50</td></tr><tr><td>f1_Angry</td><td>0.17057</td></tr><tr><td>f1_Disgust</td><td>0.37209</td></tr><tr><td>f1_Fear</td><td>0.15138</td></tr><tr><td>f1_Happy</td><td>0.69006</td></tr><tr><td>f1_Neutral</td><td>0.48519</td></tr><tr><td>f1_Sad</td><td>0.42804</td></tr><tr><td>f1_Surprise</td><td>0.69713</td></tr><tr><td>test_accuracy</td><td>0.49819</td></tr><tr><td>test_f1_macro</td><td>0.42778</td></tr><tr><td>train_acc</td><td>0.48621</td></tr><tr><td>train_loss</td><td>1.33083</td></tr><tr><td>val_acc</td><td>0.49819</td></tr><tr><td>val_loss</td><td>1.27468</td></tr></table><br/></div></div>"
            ]
          },
          "metadata": {}
        },
        {
          "output_type": "display_data",
          "data": {
            "text/plain": [
              "<IPython.core.display.HTML object>"
            ],
            "text/html": [
              " View run <strong style=\"color:#cdcd00\">ComplexMiniGoogLeNet</strong> at: <a href='https://wandb.ai/arazm21-free-university-of-tbilisi-/expression_dataset_final/runs/q7h5ah99' target=\"_blank\">https://wandb.ai/arazm21-free-university-of-tbilisi-/expression_dataset_final/runs/q7h5ah99</a><br> View project at: <a href='https://wandb.ai/arazm21-free-university-of-tbilisi-/expression_dataset_final' target=\"_blank\">https://wandb.ai/arazm21-free-university-of-tbilisi-/expression_dataset_final</a><br>Synced 5 W&B file(s), 55 media file(s), 2 artifact file(s) and 1 other file(s)"
            ]
          },
          "metadata": {}
        },
        {
          "output_type": "display_data",
          "data": {
            "text/plain": [
              "<IPython.core.display.HTML object>"
            ],
            "text/html": [
              "Find logs at: <code>./wandb/run-20250605_075040-q7h5ah99/logs</code>"
            ]
          },
          "metadata": {}
        }
      ]
    },
    {
      "cell_type": "code",
      "source": [
        "print(device)"
      ],
      "metadata": {
        "id": "PhusPwNHkvAx",
        "colab": {
          "base_uri": "https://localhost:8080/"
        },
        "outputId": "b62f87b2-f01c-4699-f6d4-2348a2515f19"
      },
      "id": "PhusPwNHkvAx",
      "execution_count": null,
      "outputs": [
        {
          "output_type": "stream",
          "name": "stdout",
          "text": [
            "cuda:0\n"
          ]
        }
      ]
    }
  ],
  "metadata": {
    "kernelspec": {
      "display_name": "Python 3",
      "name": "python3"
    },
    "language_info": {
      "codemirror_mode": {
        "name": "ipython",
        "version": 2
      },
      "file_extension": ".py",
      "mimetype": "text/x-python",
      "name": "python",
      "nbconvert_exporter": "python",
      "pygments_lexer": "ipython2",
      "version": "2.7.6"
    },
    "colab": {
      "provenance": [],
      "gpuType": "T4",
      "include_colab_link": true
    },
    "accelerator": "GPU"
  },
  "nbformat": 4,
  "nbformat_minor": 5
}